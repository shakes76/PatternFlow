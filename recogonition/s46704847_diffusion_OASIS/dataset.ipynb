{
  "nbformat": 4,
  "nbformat_minor": 0,
  "metadata": {
    "colab": {
      "provenance": [],
      "mount_file_id": "1ebIE7dlwSnsaJe7G0ngCuGTSa9qdSVKz",
      "authorship_tag": "ABX9TyNHHA57fkk8g/rYyVhQe1UA",
      "include_colab_link": true
    },
    "kernelspec": {
      "name": "python3",
      "display_name": "Python 3"
    },
    "language_info": {
      "name": "python"
    }
  },
  "cells": [
    {
      "cell_type": "markdown",
      "metadata": {
        "id": "view-in-github",
        "colab_type": "text"
      },
      "source": [
        "<a href=\"https://colab.research.google.com/github/wangzhaomxy/PatternFlow/blob/topic-recognition/recogonition/s46704847_diffusion_OASIS/dataset.ipynb\" target=\"_parent\"><img src=\"https://colab.research.google.com/assets/colab-badge.svg\" alt=\"Open In Colab\"/></a>"
      ]
    },
    {
      "cell_type": "code",
      "execution_count": 1,
      "metadata": {
        "colab": {
          "base_uri": "https://localhost:8080/"
        },
        "id": "SnMvY3TqH-De",
        "outputId": "bbd7a80e-cc28-4aa4-8c18-977a07b7bc70"
      },
      "outputs": [
        {
          "output_type": "stream",
          "name": "stdout",
          "text": [
            "--2022-10-15 16:02:45--  https://cloudstor.aarnet.edu.au/plus/s/tByzSZzvvVh0hZA/download\n",
            "Resolving cloudstor.aarnet.edu.au (cloudstor.aarnet.edu.au)... 202.158.207.20\n",
            "Connecting to cloudstor.aarnet.edu.au (cloudstor.aarnet.edu.au)|202.158.207.20|:443... connected.\n",
            "HTTP request sent, awaiting response... 200 OK\n",
            "Syntax error in Set-Cookie: 5230042dc1897=8kas4oip2ei9sa93daebflimlr; path=/plus;; Secure at position 53.\n",
            "Syntax error in Set-Cookie: oc_sessionPassphrase=N9LNI4MFtx%2FmSJfI3y3xvOvi%2BlWQoQe7E4iG07Pb5LLyvRL3Z9s2bCvGdyUJudMF%2BrYpg0fmDG0UD02mqXbJsNGYsaRtjAG%2FYN2kVDylcyWmgaHP8LD2LNYHwGcMn93b; expires=Sun, 16-Oct-2022 16:02:47 GMT; Max-Age=86400; path=/plus;; Secure at position 224.\n",
            "Length: 269958788 (257M) [application/zip]\n",
            "Saving to: ‘download’\n",
            "\n",
            "download            100%[===================>] 257.45M  5.52MB/s    in 47s     \n",
            "\n",
            "2022-10-15 16:03:35 (5.46 MB/s) - ‘download’ saved [269958788/269958788]\n",
            "\n",
            "/content/drive/MyDrive/comp3710/dataset: Scheme missing.\n",
            "FINISHED --2022-10-15 16:03:35--\n",
            "Total wall clock time: 49s\n",
            "Downloaded: 1 files, 257M in 47s (5.46 MB/s)\n"
          ]
        }
      ],
      "source": [
        "! wget https://cloudstor.aarnet.edu.au/plus/s/tByzSZzvvVh0hZA/download /content/drive/MyDrive/comp3710/dataset"
      ]
    },
    {
      "cell_type": "code",
      "source": [],
      "metadata": {
        "id": "Q9R1YFuIYi58"
      },
      "execution_count": null,
      "outputs": []
    }
  ]
}