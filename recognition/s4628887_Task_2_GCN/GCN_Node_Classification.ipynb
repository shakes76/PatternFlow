{
 "cells": [
  {
   "cell_type": "code",
   "execution_count": 1,
   "metadata": {},
   "outputs": [],
   "source": [
    "#importing dependencies\n",
    "\n",
    "import numpy as np\n",
    "import pandas as pd\n",
    "from tensorflow.keras.utils import to_categorical\n",
    "from tensorflow.keras.optimizers import Adam\n",
    "from sklearn.metrics import classification_report\n",
    "\n",
    "from graph import *\n",
    "from model import *\n",
    "\n",
    "from sklearn.manifold import TSNE\n",
    "import matplotlib.pyplot as plt"
   ]
  },
  {
   "cell_type": "markdown",
   "metadata": {},
   "source": [
    "# Loading Data"
   ]
  },
  {
   "cell_type": "code",
   "execution_count": 2,
   "metadata": {},
   "outputs": [],
   "source": [
    "g = np.load('facebook.npz')"
   ]
  },
  {
   "cell_type": "code",
   "execution_count": 3,
   "metadata": {},
   "outputs": [
    {
     "data": {
      "text/plain": [
       "['edges', 'features', 'target']"
      ]
     },
     "execution_count": 3,
     "metadata": {},
     "output_type": "execute_result"
    }
   ],
   "source": [
    "g.files"
   ]
  },
  {
   "cell_type": "code",
   "execution_count": 4,
   "metadata": {},
   "outputs": [],
   "source": [
    "# Get the edges, features and target(label) of the graph\n",
    "edges = g['edges']\n",
    "X = g['features']\n",
    "target = g['target']"
   ]
  },
  {
   "cell_type": "code",
   "execution_count": 5,
   "metadata": {},
   "outputs": [],
   "source": [
    "# Get adjacency matrix\n",
    "A = get_adj_mat(edges)"
   ]
  },
  {
   "cell_type": "code",
   "execution_count": 6,
   "metadata": {},
   "outputs": [
    {
     "name": "stdout",
     "output_type": "stream",
     "text": [
      "WARNING:tensorflow:From D:\\Users\\uly6m\\anaconda3\\envs\\tf-env\\lib\\site-packages\\tensorflow\\python\\ops\\math_ops.py:3481: sparse_mat_mul (from tensorflow.python.ops.gen_math_ops) is deprecated and will be removed in a future version.\n",
      "Instructions for updating:\n",
      "Use `tf.linalg.matmul` instead\n"
     ]
    }
   ],
   "source": [
    "# Normalised the adjacency matrix\n",
    "A = get_adj_mat_hat(A)"
   ]
  },
  {
   "cell_type": "code",
   "execution_count": 7,
   "metadata": {},
   "outputs": [
    {
     "data": {
      "text/plain": [
       "(22470, 128)"
      ]
     },
     "execution_count": 7,
     "metadata": {},
     "output_type": "execute_result"
    }
   ],
   "source": [
    "X.shape"
   ]
  },
  {
   "cell_type": "code",
   "execution_count": 8,
   "metadata": {},
   "outputs": [],
   "source": [
    "# Number of nodes\n",
    "N = X.shape[0]"
   ]
  },
  {
   "cell_type": "code",
   "execution_count": 9,
   "metadata": {},
   "outputs": [],
   "source": [
    "# Number of features\n",
    "F = X.shape[1]"
   ]
  },
  {
   "cell_type": "code",
   "execution_count": 10,
   "metadata": {},
   "outputs": [],
   "source": [
    "# Number of Classes\n",
    "num_classes = len(np.unique(target))"
   ]
  },
  {
   "cell_type": "code",
   "execution_count": 11,
   "metadata": {},
   "outputs": [
    {
     "name": "stdout",
     "output_type": "stream",
     "text": [
      "Number of nodes: 22470\n",
      "Number of features: 128\n",
      "Number of classes: 4\n"
     ]
    }
   ],
   "source": [
    "print(\"Number of nodes: {}\\nNumber of features: {}\\nNumber of classes: {}\".format(N,F,num_classes))"
   ]
  },
  {
   "cell_type": "markdown",
   "metadata": {},
   "source": [
    "# Select examples for training, validation, and test then set the mask"
   ]
  },
  {
   "cell_type": "code",
   "execution_count": 12,
   "metadata": {},
   "outputs": [],
   "source": [
    "def split_data(target, N, limit=400,val_num=5000):\n",
    "    '''\n",
    "    Get the index of train, validation, and test data\n",
    "    '''\n",
    "    label_counter = dict((l, 0) for l in target)\n",
    "    train_idx = []\n",
    "    test_num = N - limit*len(np.unique(target)) - val_num\n",
    "    for i in range(len(target)):\n",
    "        label = target[i]\n",
    "        if label_counter[label]<limit:\n",
    "            #add the example to the training data\n",
    "            train_idx.append(i)\n",
    "            label_counter[label]+=1\n",
    "        \n",
    "        #exit the loop once we found 400 examples for each class\n",
    "        if all(count == limit for count in label_counter.values()):\n",
    "            break\n",
    "    \n",
    "    #get the indices that do not go to traning data\n",
    "    rest_idx = [x for x in range(len(target)) if x not in train_idx]\n",
    "    #get the first val_num\n",
    "    val_idx = rest_idx[:val_num]\n",
    "    test_idx = rest_idx[val_num:(val_num+test_num)]\n",
    "    return train_idx, val_idx,test_idx\n",
    "\n",
    "# Numbers of samples: Training: 1600, Validation: 4000, Test: 15870\n",
    "train_idx,val_idx,test_idx = split_data(target,N)"
   ]
  },
  {
   "cell_type": "code",
   "execution_count": 13,
   "metadata": {},
   "outputs": [],
   "source": [
    "#set the mask\n",
    "train_mask = np.zeros((N,),dtype=bool)\n",
    "train_mask[train_idx] = True\n",
    "\n",
    "val_mask = np.zeros((N,),dtype=bool)\n",
    "val_mask[val_idx] = True\n",
    "\n",
    "test_mask = np.zeros((N,),dtype=bool)\n",
    "test_mask[test_idx] = True"
   ]
  },
  {
   "cell_type": "code",
   "execution_count": 14,
   "metadata": {},
   "outputs": [],
   "source": [
    "# Convert the target with one-hot\n",
    "target = to_categorical(target)"
   ]
  },
  {
   "cell_type": "markdown",
   "metadata": {},
   "source": [
    "# Building and training a multi-layer GCN model"
   ]
  },
  {
   "cell_type": "code",
   "execution_count": 15,
   "metadata": {},
   "outputs": [],
   "source": [
    "learning_rate = 1e-2    # Learning rate\n",
    "epochs = 200            # Number of training epochs"
   ]
  },
  {
   "cell_type": "code",
   "execution_count": 16,
   "metadata": {},
   "outputs": [],
   "source": [
    "model = GCN_model(F, N, num_classes)"
   ]
  },
  {
   "cell_type": "code",
   "execution_count": 17,
   "metadata": {},
   "outputs": [
    {
     "name": "stdout",
     "output_type": "stream",
     "text": [
      "Model: \"model\"\n",
      "__________________________________________________________________________________________________\n",
      "Layer (type)                    Output Shape         Param #     Connected to                     \n",
      "==================================================================================================\n",
      "input_1 (InputLayer)            [(None, 128)]        0                                            \n",
      "__________________________________________________________________________________________________\n",
      "dropout (Dropout)               (None, 128)          0           input_1[0][0]                    \n",
      "__________________________________________________________________________________________________\n",
      "input_2 (InputLayer)            [(None, 22470)]      0                                            \n",
      "__________________________________________________________________________________________________\n",
      "gcn_conv (GCNConv)              (None, 32)           4096        dropout[0][0]                    \n",
      "                                                                 input_2[0][0]                    \n",
      "__________________________________________________________________________________________________\n",
      "dropout_1 (Dropout)             (None, 32)           0           gcn_conv[0][0]                   \n",
      "__________________________________________________________________________________________________\n",
      "gcn_conv_1 (GCNConv)            (None, 8)            256         dropout_1[0][0]                  \n",
      "                                                                 input_2[0][0]                    \n",
      "__________________________________________________________________________________________________\n",
      "dropout_2 (Dropout)             (None, 8)            0           gcn_conv_1[0][0]                 \n",
      "__________________________________________________________________________________________________\n",
      "gcn_conv_2 (GCNConv)            (None, 4)            32          dropout_2[0][0]                  \n",
      "                                                                 input_2[0][0]                    \n",
      "==================================================================================================\n",
      "Total params: 4,384\n",
      "Trainable params: 4,384\n",
      "Non-trainable params: 0\n",
      "__________________________________________________________________________________________________\n"
     ]
    }
   ],
   "source": [
    "optimizer = Adam(learning_rate=learning_rate)\n",
    "model.compile(optimizer=optimizer, loss='categorical_crossentropy', weighted_metrics=['acc'])\n",
    "model.summary()"
   ]
  },
  {
   "cell_type": "code",
   "execution_count": 18,
   "metadata": {
    "scrolled": true
   },
   "outputs": [
    {
     "name": "stdout",
     "output_type": "stream",
     "text": [
      "Epoch 1/200\n",
      "1/1 [==============================] - 7s 7s/step - loss: 0.1020 - acc: 0.2206 - val_loss: 0.2937 - val_acc: 0.3740\n",
      "Epoch 2/200\n",
      "1/1 [==============================] - 1s 1s/step - loss: 0.0950 - acc: 0.3137 - val_loss: 0.2760 - val_acc: 0.5142\n",
      "Epoch 3/200\n",
      "1/1 [==============================] - 1s 1s/step - loss: 0.0895 - acc: 0.4519 - val_loss: 0.2621 - val_acc: 0.5786\n",
      "Epoch 4/200\n",
      "1/1 [==============================] - 1s 964ms/step - loss: 0.0855 - acc: 0.4975 - val_loss: 0.2499 - val_acc: 0.6182\n",
      "Epoch 5/200\n",
      "1/1 [==============================] - 1s 1s/step - loss: 0.0825 - acc: 0.5337 - val_loss: 0.2388 - val_acc: 0.6470\n",
      "Epoch 6/200\n",
      "1/1 [==============================] - 1s 1s/step - loss: 0.0791 - acc: 0.5656 - val_loss: 0.2277 - val_acc: 0.6850\n",
      "Epoch 7/200\n",
      "1/1 [==============================] - 1s 1s/step - loss: 0.0754 - acc: 0.6006 - val_loss: 0.2169 - val_acc: 0.7078\n",
      "Epoch 8/200\n",
      "1/1 [==============================] - 1s 1s/step - loss: 0.0724 - acc: 0.6244 - val_loss: 0.2060 - val_acc: 0.7268\n",
      "Epoch 9/200\n",
      "1/1 [==============================] - 1s 1s/step - loss: 0.0697 - acc: 0.6306 - val_loss: 0.1950 - val_acc: 0.7500\n",
      "Epoch 10/200\n",
      "1/1 [==============================] - 1s 1s/step - loss: 0.0666 - acc: 0.6662 - val_loss: 0.1838 - val_acc: 0.7624\n",
      "Epoch 11/200\n",
      "1/1 [==============================] - 1s 1s/step - loss: 0.0632 - acc: 0.6769 - val_loss: 0.1728 - val_acc: 0.7820\n",
      "Epoch 12/200\n",
      "1/1 [==============================] - 1s 1s/step - loss: 0.0610 - acc: 0.6975 - val_loss: 0.1620 - val_acc: 0.7964\n",
      "Epoch 13/200\n",
      "1/1 [==============================] - 1s 1s/step - loss: 0.0577 - acc: 0.7063 - val_loss: 0.1524 - val_acc: 0.8048\n",
      "Epoch 14/200\n",
      "1/1 [==============================] - 1s 1s/step - loss: 0.0546 - acc: 0.7319 - val_loss: 0.1439 - val_acc: 0.8114\n",
      "Epoch 15/200\n",
      "1/1 [==============================] - 1s 1s/step - loss: 0.0529 - acc: 0.7362 - val_loss: 0.1364 - val_acc: 0.8184\n",
      "Epoch 16/200\n",
      "1/1 [==============================] - 1s 1s/step - loss: 0.0508 - acc: 0.7369 - val_loss: 0.1296 - val_acc: 0.8306\n",
      "Epoch 17/200\n",
      "1/1 [==============================] - 1s 1s/step - loss: 0.0499 - acc: 0.7538 - val_loss: 0.1233 - val_acc: 0.8434\n",
      "Epoch 18/200\n",
      "1/1 [==============================] - 1s 1s/step - loss: 0.0468 - acc: 0.7594 - val_loss: 0.1174 - val_acc: 0.8528\n",
      "Epoch 19/200\n",
      "1/1 [==============================] - 1s 1s/step - loss: 0.0468 - acc: 0.7756 - val_loss: 0.1118 - val_acc: 0.8548\n",
      "Epoch 20/200\n",
      "1/1 [==============================] - 1s 1s/step - loss: 0.0437 - acc: 0.7794 - val_loss: 0.1066 - val_acc: 0.8598\n",
      "Epoch 21/200\n",
      "1/1 [==============================] - 1s 1s/step - loss: 0.0429 - acc: 0.7906 - val_loss: 0.1018 - val_acc: 0.8636\n",
      "Epoch 22/200\n",
      "1/1 [==============================] - 1s 1s/step - loss: 0.0416 - acc: 0.7987 - val_loss: 0.0979 - val_acc: 0.8668\n",
      "Epoch 23/200\n",
      "1/1 [==============================] - 1s 1s/step - loss: 0.0399 - acc: 0.8056 - val_loss: 0.0948 - val_acc: 0.8680\n",
      "Epoch 24/200\n",
      "1/1 [==============================] - 1s 1s/step - loss: 0.0393 - acc: 0.8094 - val_loss: 0.0920 - val_acc: 0.8706\n",
      "Epoch 25/200\n",
      "1/1 [==============================] - 1s 1s/step - loss: 0.0361 - acc: 0.8319 - val_loss: 0.0896 - val_acc: 0.8732\n",
      "Epoch 26/200\n",
      "1/1 [==============================] - 1s 1s/step - loss: 0.0374 - acc: 0.8131 - val_loss: 0.0875 - val_acc: 0.8764\n",
      "Epoch 27/200\n",
      "1/1 [==============================] - 1s 1s/step - loss: 0.0364 - acc: 0.8219 - val_loss: 0.0856 - val_acc: 0.8800\n",
      "Epoch 28/200\n",
      "1/1 [==============================] - 1s 1s/step - loss: 0.0348 - acc: 0.8213 - val_loss: 0.0840 - val_acc: 0.8814\n",
      "Epoch 29/200\n",
      "1/1 [==============================] - 1s 1s/step - loss: 0.0356 - acc: 0.8206 - val_loss: 0.0827 - val_acc: 0.8824\n",
      "Epoch 30/200\n",
      "1/1 [==============================] - 1s 1s/step - loss: 0.0330 - acc: 0.8394 - val_loss: 0.0818 - val_acc: 0.8834\n",
      "Epoch 31/200\n",
      "1/1 [==============================] - 1s 1s/step - loss: 0.0330 - acc: 0.8406 - val_loss: 0.0811 - val_acc: 0.8846\n",
      "Epoch 32/200\n",
      "1/1 [==============================] - 1s 1s/step - loss: 0.0340 - acc: 0.8363 - val_loss: 0.0806 - val_acc: 0.8866\n",
      "Epoch 33/200\n",
      "1/1 [==============================] - 1s 1s/step - loss: 0.0320 - acc: 0.8481 - val_loss: 0.0801 - val_acc: 0.8896\n",
      "Epoch 34/200\n",
      "1/1 [==============================] - 1s 1s/step - loss: 0.0339 - acc: 0.8350 - val_loss: 0.0791 - val_acc: 0.8920\n",
      "Epoch 35/200\n",
      "1/1 [==============================] - 1s 1s/step - loss: 0.0315 - acc: 0.8381 - val_loss: 0.0779 - val_acc: 0.8938\n",
      "Epoch 36/200\n",
      "1/1 [==============================] - 1s 1s/step - loss: 0.0299 - acc: 0.8519 - val_loss: 0.0769 - val_acc: 0.8958\n",
      "Epoch 37/200\n",
      "1/1 [==============================] - 1s 1s/step - loss: 0.0301 - acc: 0.8494 - val_loss: 0.0759 - val_acc: 0.8970\n",
      "Epoch 38/200\n",
      "1/1 [==============================] - 1s 1s/step - loss: 0.0313 - acc: 0.8469 - val_loss: 0.0754 - val_acc: 0.8978\n",
      "Epoch 39/200\n",
      "1/1 [==============================] - 1s 1s/step - loss: 0.0279 - acc: 0.8712 - val_loss: 0.0750 - val_acc: 0.8980\n",
      "Epoch 40/200\n",
      "1/1 [==============================] - 1s 1s/step - loss: 0.0289 - acc: 0.8612 - val_loss: 0.0745 - val_acc: 0.8972\n",
      "Epoch 41/200\n",
      "1/1 [==============================] - 1s 1s/step - loss: 0.0293 - acc: 0.8537 - val_loss: 0.0739 - val_acc: 0.8980\n",
      "Epoch 42/200\n",
      "1/1 [==============================] - 1s 1s/step - loss: 0.0290 - acc: 0.8525 - val_loss: 0.0735 - val_acc: 0.8978\n",
      "Epoch 43/200\n",
      "1/1 [==============================] - 1s 1s/step - loss: 0.0299 - acc: 0.8600 - val_loss: 0.0731 - val_acc: 0.8986\n",
      "Epoch 44/200\n",
      "1/1 [==============================] - 1s 1s/step - loss: 0.0283 - acc: 0.8662 - val_loss: 0.0726 - val_acc: 0.8994\n",
      "Epoch 45/200\n",
      "1/1 [==============================] - 1s 1s/step - loss: 0.0289 - acc: 0.8587 - val_loss: 0.0722 - val_acc: 0.8996\n",
      "Epoch 46/200\n",
      "1/1 [==============================] - 1s 1s/step - loss: 0.0293 - acc: 0.8569 - val_loss: 0.0719 - val_acc: 0.8994\n",
      "Epoch 47/200\n",
      "1/1 [==============================] - 1s 1s/step - loss: 0.0277 - acc: 0.8631 - val_loss: 0.0714 - val_acc: 0.9004\n",
      "Epoch 48/200\n",
      "1/1 [==============================] - 1s 1s/step - loss: 0.0267 - acc: 0.8700 - val_loss: 0.0708 - val_acc: 0.9006\n",
      "Epoch 49/200\n",
      "1/1 [==============================] - 1s 1s/step - loss: 0.0274 - acc: 0.8600 - val_loss: 0.0700 - val_acc: 0.9024\n",
      "Epoch 50/200\n",
      "1/1 [==============================] - 1s 1s/step - loss: 0.0275 - acc: 0.8687 - val_loss: 0.0694 - val_acc: 0.9028\n",
      "Epoch 51/200\n",
      "1/1 [==============================] - 1s 1s/step - loss: 0.0264 - acc: 0.8675 - val_loss: 0.0690 - val_acc: 0.9032\n",
      "Epoch 52/200\n",
      "1/1 [==============================] - 1s 1s/step - loss: 0.0284 - acc: 0.8612 - val_loss: 0.0689 - val_acc: 0.9038\n",
      "Epoch 53/200\n",
      "1/1 [==============================] - 1s 1s/step - loss: 0.0274 - acc: 0.8662 - val_loss: 0.0688 - val_acc: 0.9044\n",
      "Epoch 54/200\n",
      "1/1 [==============================] - 1s 1s/step - loss: 0.0259 - acc: 0.8750 - val_loss: 0.0688 - val_acc: 0.9052\n",
      "Epoch 55/200\n",
      "1/1 [==============================] - 1s 1s/step - loss: 0.0265 - acc: 0.8687 - val_loss: 0.0690 - val_acc: 0.9056\n",
      "Epoch 56/200\n",
      "1/1 [==============================] - 1s 1s/step - loss: 0.0257 - acc: 0.8869 - val_loss: 0.0694 - val_acc: 0.9058\n",
      "Epoch 57/200\n",
      "1/1 [==============================] - 1s 1s/step - loss: 0.0263 - acc: 0.8706 - val_loss: 0.0698 - val_acc: 0.9058\n",
      "Epoch 58/200\n",
      "1/1 [==============================] - 1s 1s/step - loss: 0.0274 - acc: 0.8706 - val_loss: 0.0698 - val_acc: 0.9064\n",
      "Epoch 59/200\n",
      "1/1 [==============================] - 1s 1s/step - loss: 0.0276 - acc: 0.8700 - val_loss: 0.0694 - val_acc: 0.9064\n",
      "Epoch 60/200\n",
      "1/1 [==============================] - 1s 1s/step - loss: 0.0249 - acc: 0.8681 - val_loss: 0.0687 - val_acc: 0.9082\n",
      "Epoch 61/200\n",
      "1/1 [==============================] - 1s 1s/step - loss: 0.0253 - acc: 0.8737 - val_loss: 0.0680 - val_acc: 0.9090\n",
      "Epoch 62/200\n",
      "1/1 [==============================] - 1s 1s/step - loss: 0.0253 - acc: 0.8831 - val_loss: 0.0674 - val_acc: 0.9102\n",
      "Epoch 63/200\n",
      "1/1 [==============================] - 1s 1s/step - loss: 0.0259 - acc: 0.8794 - val_loss: 0.0669 - val_acc: 0.9106\n",
      "Epoch 64/200\n",
      "1/1 [==============================] - 1s 1s/step - loss: 0.0272 - acc: 0.8775 - val_loss: 0.0667 - val_acc: 0.9108\n",
      "Epoch 65/200\n",
      "1/1 [==============================] - 1s 1s/step - loss: 0.0263 - acc: 0.8706 - val_loss: 0.0666 - val_acc: 0.9108\n",
      "Epoch 66/200\n",
      "1/1 [==============================] - 1s 1s/step - loss: 0.0255 - acc: 0.8737 - val_loss: 0.0667 - val_acc: 0.9106\n",
      "Epoch 67/200\n",
      "1/1 [==============================] - 1s 1s/step - loss: 0.0260 - acc: 0.8831 - val_loss: 0.0669 - val_acc: 0.9110\n",
      "Epoch 68/200\n",
      "1/1 [==============================] - 1s 1s/step - loss: 0.0270 - acc: 0.8769 - val_loss: 0.0673 - val_acc: 0.9090\n",
      "Epoch 69/200\n",
      "1/1 [==============================] - 1s 1s/step - loss: 0.0263 - acc: 0.8712 - val_loss: 0.0676 - val_acc: 0.9086\n",
      "Epoch 70/200\n",
      "1/1 [==============================] - 1s 1s/step - loss: 0.0241 - acc: 0.8794 - val_loss: 0.0677 - val_acc: 0.9084\n",
      "Epoch 71/200\n",
      "1/1 [==============================] - 1s 1s/step - loss: 0.0244 - acc: 0.8769 - val_loss: 0.0673 - val_acc: 0.9074\n",
      "Epoch 72/200\n",
      "1/1 [==============================] - 1s 1s/step - loss: 0.0234 - acc: 0.8913 - val_loss: 0.0670 - val_acc: 0.9084\n",
      "Epoch 73/200\n",
      "1/1 [==============================] - 1s 1s/step - loss: 0.0233 - acc: 0.8875 - val_loss: 0.0669 - val_acc: 0.9092\n",
      "Epoch 74/200\n",
      "1/1 [==============================] - 1s 1s/step - loss: 0.0242 - acc: 0.8813 - val_loss: 0.0668 - val_acc: 0.9098\n",
      "Epoch 75/200\n",
      "1/1 [==============================] - 1s 1s/step - loss: 0.0236 - acc: 0.8863 - val_loss: 0.0668 - val_acc: 0.9102\n",
      "Epoch 76/200\n",
      "1/1 [==============================] - 1s 1s/step - loss: 0.0272 - acc: 0.8712 - val_loss: 0.0667 - val_acc: 0.9102\n",
      "Epoch 77/200\n",
      "1/1 [==============================] - 1s 1s/step - loss: 0.0259 - acc: 0.8763 - val_loss: 0.0666 - val_acc: 0.9100\n",
      "Epoch 78/200\n",
      "1/1 [==============================] - 1s 1s/step - loss: 0.0249 - acc: 0.8888 - val_loss: 0.0665 - val_acc: 0.9122\n",
      "Epoch 79/200\n",
      "1/1 [==============================] - 1s 1s/step - loss: 0.0250 - acc: 0.8775 - val_loss: 0.0664 - val_acc: 0.9118\n",
      "Epoch 80/200\n",
      "1/1 [==============================] - 1s 1s/step - loss: 0.0229 - acc: 0.8863 - val_loss: 0.0663 - val_acc: 0.9130\n",
      "Epoch 81/200\n",
      "1/1 [==============================] - 1s 1s/step - loss: 0.0241 - acc: 0.8844 - val_loss: 0.0662 - val_acc: 0.9132\n",
      "Epoch 82/200\n",
      "1/1 [==============================] - 1s 1s/step - loss: 0.0255 - acc: 0.8725 - val_loss: 0.0662 - val_acc: 0.9124\n",
      "Epoch 83/200\n",
      "1/1 [==============================] - 1s 1s/step - loss: 0.0234 - acc: 0.8913 - val_loss: 0.0660 - val_acc: 0.9126\n",
      "Epoch 84/200\n",
      "1/1 [==============================] - 1s 1s/step - loss: 0.0250 - acc: 0.8875 - val_loss: 0.0658 - val_acc: 0.9130\n",
      "Epoch 85/200\n",
      "1/1 [==============================] - 1s 1s/step - loss: 0.0250 - acc: 0.8781 - val_loss: 0.0655 - val_acc: 0.9144\n",
      "Epoch 86/200\n",
      "1/1 [==============================] - 1s 1s/step - loss: 0.0230 - acc: 0.8881 - val_loss: 0.0652 - val_acc: 0.9146\n",
      "Epoch 87/200\n",
      "1/1 [==============================] - 1s 1s/step - loss: 0.0248 - acc: 0.8863 - val_loss: 0.0651 - val_acc: 0.9138\n",
      "Epoch 88/200\n",
      "1/1 [==============================] - 1s 1s/step - loss: 0.0237 - acc: 0.8838 - val_loss: 0.0652 - val_acc: 0.9136\n",
      "Epoch 89/200\n",
      "1/1 [==============================] - 1s 1s/step - loss: 0.0238 - acc: 0.8863 - val_loss: 0.0652 - val_acc: 0.9124\n",
      "Epoch 90/200\n",
      "1/1 [==============================] - 1s 1s/step - loss: 0.0255 - acc: 0.8813 - val_loss: 0.0650 - val_acc: 0.9136\n",
      "Epoch 91/200\n",
      "1/1 [==============================] - 1s 1s/step - loss: 0.0246 - acc: 0.8844 - val_loss: 0.0651 - val_acc: 0.9134\n",
      "Epoch 92/200\n",
      "1/1 [==============================] - 1s 1s/step - loss: 0.0243 - acc: 0.8863 - val_loss: 0.0651 - val_acc: 0.9126\n",
      "Epoch 93/200\n",
      "1/1 [==============================] - 1s 1s/step - loss: 0.0238 - acc: 0.8850 - val_loss: 0.0647 - val_acc: 0.9126\n",
      "Epoch 94/200\n",
      "1/1 [==============================] - 1s 1s/step - loss: 0.0262 - acc: 0.8763 - val_loss: 0.0641 - val_acc: 0.9118\n",
      "Epoch 95/200\n",
      "1/1 [==============================] - 1s 1s/step - loss: 0.0248 - acc: 0.8831 - val_loss: 0.0636 - val_acc: 0.9132\n",
      "Epoch 96/200\n",
      "1/1 [==============================] - 1s 1s/step - loss: 0.0235 - acc: 0.8850 - val_loss: 0.0633 - val_acc: 0.9148\n",
      "Epoch 97/200\n",
      "1/1 [==============================] - 1s 1s/step - loss: 0.0239 - acc: 0.8781 - val_loss: 0.0631 - val_acc: 0.9148\n",
      "Epoch 98/200\n",
      "1/1 [==============================] - 1s 1s/step - loss: 0.0239 - acc: 0.8888 - val_loss: 0.0632 - val_acc: 0.9142\n",
      "Epoch 99/200\n",
      "1/1 [==============================] - 1s 1s/step - loss: 0.0227 - acc: 0.8906 - val_loss: 0.0632 - val_acc: 0.9144\n",
      "Epoch 100/200\n",
      "1/1 [==============================] - 1s 1s/step - loss: 0.0242 - acc: 0.8863 - val_loss: 0.0631 - val_acc: 0.9142\n",
      "Epoch 101/200\n",
      "1/1 [==============================] - 1s 1s/step - loss: 0.0234 - acc: 0.8975 - val_loss: 0.0631 - val_acc: 0.9142\n",
      "Epoch 102/200\n",
      "1/1 [==============================] - 1s 1s/step - loss: 0.0232 - acc: 0.8900 - val_loss: 0.0634 - val_acc: 0.9132\n",
      "Epoch 103/200\n",
      "1/1 [==============================] - 1s 1s/step - loss: 0.0244 - acc: 0.8863 - val_loss: 0.0641 - val_acc: 0.9110\n",
      "Epoch 104/200\n",
      "1/1 [==============================] - 1s 1s/step - loss: 0.0240 - acc: 0.8875 - val_loss: 0.0646 - val_acc: 0.9112\n",
      "Epoch 105/200\n",
      "1/1 [==============================] - 1s 1s/step - loss: 0.0222 - acc: 0.8969 - val_loss: 0.0644 - val_acc: 0.9108\n",
      "Epoch 106/200\n",
      "1/1 [==============================] - 1s 1s/step - loss: 0.0226 - acc: 0.8944 - val_loss: 0.0639 - val_acc: 0.9126\n",
      "Epoch 107/200\n",
      "1/1 [==============================] - 1s 1s/step - loss: 0.0254 - acc: 0.8831 - val_loss: 0.0632 - val_acc: 0.9132\n",
      "Epoch 108/200\n",
      "1/1 [==============================] - 1s 1s/step - loss: 0.0233 - acc: 0.8913 - val_loss: 0.0626 - val_acc: 0.9118\n",
      "Epoch 109/200\n",
      "1/1 [==============================] - 1s 1s/step - loss: 0.0247 - acc: 0.8813 - val_loss: 0.0622 - val_acc: 0.9130\n",
      "Epoch 110/200\n",
      "1/1 [==============================] - 1s 1s/step - loss: 0.0230 - acc: 0.8988 - val_loss: 0.0621 - val_acc: 0.9140\n",
      "Epoch 111/200\n",
      "1/1 [==============================] - 1s 1s/step - loss: 0.0225 - acc: 0.8888 - val_loss: 0.0620 - val_acc: 0.9138\n",
      "Epoch 112/200\n",
      "1/1 [==============================] - 1s 1s/step - loss: 0.0222 - acc: 0.8900 - val_loss: 0.0623 - val_acc: 0.9140\n",
      "Epoch 113/200\n",
      "1/1 [==============================] - 1s 1s/step - loss: 0.0241 - acc: 0.8806 - val_loss: 0.0636 - val_acc: 0.9128\n",
      "Epoch 114/200\n",
      "1/1 [==============================] - 1s 1s/step - loss: 0.0239 - acc: 0.8775 - val_loss: 0.0649 - val_acc: 0.9114\n",
      "Epoch 115/200\n",
      "1/1 [==============================] - 1s 1s/step - loss: 0.0231 - acc: 0.8938 - val_loss: 0.0659 - val_acc: 0.9088\n",
      "Epoch 116/200\n",
      "1/1 [==============================] - 1s 1s/step - loss: 0.0252 - acc: 0.8775 - val_loss: 0.0653 - val_acc: 0.9100\n",
      "Epoch 117/200\n",
      "1/1 [==============================] - 1s 1s/step - loss: 0.0241 - acc: 0.8881 - val_loss: 0.0641 - val_acc: 0.9112\n",
      "Epoch 118/200\n",
      "1/1 [==============================] - 1s 1s/step - loss: 0.0231 - acc: 0.8938 - val_loss: 0.0634 - val_acc: 0.9118\n",
      "Epoch 119/200\n",
      "1/1 [==============================] - 1s 1s/step - loss: 0.0238 - acc: 0.8844 - val_loss: 0.0632 - val_acc: 0.9106\n",
      "Epoch 120/200\n",
      "1/1 [==============================] - 1s 1s/step - loss: 0.0228 - acc: 0.8956 - val_loss: 0.0632 - val_acc: 0.9098\n",
      "Epoch 121/200\n",
      "1/1 [==============================] - 1s 1s/step - loss: 0.0225 - acc: 0.8913 - val_loss: 0.0633 - val_acc: 0.9104\n",
      "Epoch 122/200\n",
      "1/1 [==============================] - 1s 1s/step - loss: 0.0226 - acc: 0.8844 - val_loss: 0.0633 - val_acc: 0.9120\n",
      "Epoch 123/200\n",
      "1/1 [==============================] - 1s 1s/step - loss: 0.0219 - acc: 0.8994 - val_loss: 0.0632 - val_acc: 0.9124\n",
      "Epoch 124/200\n",
      "1/1 [==============================] - 1s 1s/step - loss: 0.0233 - acc: 0.8906 - val_loss: 0.0631 - val_acc: 0.9110\n",
      "Epoch 125/200\n",
      "1/1 [==============================] - 1s 1s/step - loss: 0.0210 - acc: 0.8969 - val_loss: 0.0632 - val_acc: 0.9116\n",
      "Epoch 126/200\n",
      "1/1 [==============================] - 1s 1s/step - loss: 0.0217 - acc: 0.8925 - val_loss: 0.0634 - val_acc: 0.9114\n",
      "Epoch 127/200\n"
     ]
    },
    {
     "name": "stdout",
     "output_type": "stream",
     "text": [
      "1/1 [==============================] - 1s 1s/step - loss: 0.0226 - acc: 0.8888 - val_loss: 0.0635 - val_acc: 0.9122\n",
      "Epoch 128/200\n",
      "1/1 [==============================] - 1s 1s/step - loss: 0.0225 - acc: 0.8975 - val_loss: 0.0634 - val_acc: 0.9122\n",
      "Epoch 129/200\n",
      "1/1 [==============================] - 1s 1s/step - loss: 0.0230 - acc: 0.8938 - val_loss: 0.0632 - val_acc: 0.9128\n",
      "Epoch 130/200\n",
      "1/1 [==============================] - 1s 1s/step - loss: 0.0221 - acc: 0.8944 - val_loss: 0.0632 - val_acc: 0.9122\n",
      "Epoch 131/200\n",
      "1/1 [==============================] - 1s 1s/step - loss: 0.0223 - acc: 0.8919 - val_loss: 0.0633 - val_acc: 0.9124\n",
      "Epoch 132/200\n",
      "1/1 [==============================] - 1s 1s/step - loss: 0.0212 - acc: 0.9006 - val_loss: 0.0632 - val_acc: 0.9128\n",
      "Epoch 133/200\n",
      "1/1 [==============================] - 1s 1s/step - loss: 0.0221 - acc: 0.8956 - val_loss: 0.0627 - val_acc: 0.9134\n",
      "Epoch 134/200\n",
      "1/1 [==============================] - 1s 1s/step - loss: 0.0252 - acc: 0.8844 - val_loss: 0.0624 - val_acc: 0.9128\n",
      "Epoch 135/200\n",
      "1/1 [==============================] - 1s 1s/step - loss: 0.0253 - acc: 0.8769 - val_loss: 0.0623 - val_acc: 0.9152\n",
      "Epoch 136/200\n",
      "1/1 [==============================] - 1s 1s/step - loss: 0.0225 - acc: 0.8913 - val_loss: 0.0626 - val_acc: 0.9162\n",
      "Epoch 137/200\n",
      "1/1 [==============================] - 1s 1s/step - loss: 0.0224 - acc: 0.8950 - val_loss: 0.0636 - val_acc: 0.9132\n",
      "Epoch 138/200\n",
      "1/1 [==============================] - 1s 1s/step - loss: 0.0226 - acc: 0.8863 - val_loss: 0.0644 - val_acc: 0.9116\n",
      "Epoch 139/200\n",
      "1/1 [==============================] - 1s 1s/step - loss: 0.0222 - acc: 0.8950 - val_loss: 0.0641 - val_acc: 0.9126\n",
      "Epoch 140/200\n",
      "1/1 [==============================] - 1s 1s/step - loss: 0.0235 - acc: 0.8869 - val_loss: 0.0634 - val_acc: 0.9118\n",
      "Epoch 141/200\n",
      "1/1 [==============================] - 1s 1s/step - loss: 0.0227 - acc: 0.8963 - val_loss: 0.0626 - val_acc: 0.9134\n",
      "Epoch 142/200\n",
      "1/1 [==============================] - 1s 1s/step - loss: 0.0219 - acc: 0.8963 - val_loss: 0.0620 - val_acc: 0.9148\n",
      "Epoch 143/200\n",
      "1/1 [==============================] - 1s 1s/step - loss: 0.0220 - acc: 0.8944 - val_loss: 0.0619 - val_acc: 0.9154\n",
      "Epoch 144/200\n",
      "1/1 [==============================] - 1s 1s/step - loss: 0.0231 - acc: 0.8875 - val_loss: 0.0619 - val_acc: 0.9136\n",
      "Epoch 145/200\n",
      "1/1 [==============================] - 1s 1s/step - loss: 0.0225 - acc: 0.8981 - val_loss: 0.0620 - val_acc: 0.9160\n",
      "Epoch 146/200\n",
      "1/1 [==============================] - 1s 1s/step - loss: 0.0226 - acc: 0.8894 - val_loss: 0.0622 - val_acc: 0.9148\n",
      "Epoch 147/200\n",
      "1/1 [==============================] - 1s 1s/step - loss: 0.0226 - acc: 0.8963 - val_loss: 0.0628 - val_acc: 0.9140\n",
      "Epoch 148/200\n",
      "1/1 [==============================] - 1s 1s/step - loss: 0.0227 - acc: 0.8931 - val_loss: 0.0635 - val_acc: 0.9132\n",
      "Epoch 149/200\n",
      "1/1 [==============================] - 1s 1s/step - loss: 0.0212 - acc: 0.9000 - val_loss: 0.0638 - val_acc: 0.9130\n",
      "Epoch 150/200\n",
      "1/1 [==============================] - 1s 1s/step - loss: 0.0219 - acc: 0.8856 - val_loss: 0.0636 - val_acc: 0.9140\n",
      "Epoch 151/200\n",
      "1/1 [==============================] - 1s 1s/step - loss: 0.0217 - acc: 0.8906 - val_loss: 0.0632 - val_acc: 0.9142\n",
      "Epoch 152/200\n",
      "1/1 [==============================] - 1s 1s/step - loss: 0.0211 - acc: 0.8981 - val_loss: 0.0628 - val_acc: 0.9136\n",
      "Epoch 153/200\n",
      "1/1 [==============================] - 1s 1s/step - loss: 0.0219 - acc: 0.8919 - val_loss: 0.0625 - val_acc: 0.9150\n",
      "Epoch 154/200\n",
      "1/1 [==============================] - 1s 1s/step - loss: 0.0236 - acc: 0.8869 - val_loss: 0.0621 - val_acc: 0.9178\n",
      "Epoch 155/200\n",
      "1/1 [==============================] - 1s 1s/step - loss: 0.0219 - acc: 0.8963 - val_loss: 0.0618 - val_acc: 0.9172\n",
      "Epoch 156/200\n",
      "1/1 [==============================] - 1s 1s/step - loss: 0.0217 - acc: 0.8944 - val_loss: 0.0618 - val_acc: 0.9152\n",
      "Epoch 157/200\n",
      "1/1 [==============================] - 1s 1s/step - loss: 0.0245 - acc: 0.8769 - val_loss: 0.0623 - val_acc: 0.9146\n",
      "Epoch 158/200\n",
      "1/1 [==============================] - 1s 1s/step - loss: 0.0229 - acc: 0.8888 - val_loss: 0.0629 - val_acc: 0.9140\n",
      "Epoch 159/200\n",
      "1/1 [==============================] - 1s 1s/step - loss: 0.0212 - acc: 0.8931 - val_loss: 0.0634 - val_acc: 0.9126\n",
      "Epoch 160/200\n",
      "1/1 [==============================] - 1s 1s/step - loss: 0.0212 - acc: 0.8963 - val_loss: 0.0635 - val_acc: 0.9126\n",
      "Epoch 161/200\n",
      "1/1 [==============================] - 1s 1s/step - loss: 0.0212 - acc: 0.8956 - val_loss: 0.0632 - val_acc: 0.9120\n",
      "Epoch 162/200\n",
      "1/1 [==============================] - 1s 1s/step - loss: 0.0200 - acc: 0.9025 - val_loss: 0.0631 - val_acc: 0.9126\n",
      "Epoch 163/200\n",
      "1/1 [==============================] - 1s 1s/step - loss: 0.0214 - acc: 0.8944 - val_loss: 0.0633 - val_acc: 0.9120\n",
      "Epoch 164/200\n",
      "1/1 [==============================] - 1s 1s/step - loss: 0.0229 - acc: 0.8944 - val_loss: 0.0636 - val_acc: 0.9112\n",
      "Epoch 165/200\n",
      "1/1 [==============================] - 1s 1s/step - loss: 0.0215 - acc: 0.8981 - val_loss: 0.0638 - val_acc: 0.9104\n",
      "Epoch 166/200\n",
      "1/1 [==============================] - 1s 1s/step - loss: 0.0218 - acc: 0.8963 - val_loss: 0.0637 - val_acc: 0.9110\n",
      "Epoch 167/200\n",
      "1/1 [==============================] - 1s 1s/step - loss: 0.0214 - acc: 0.8975 - val_loss: 0.0637 - val_acc: 0.9124\n",
      "Epoch 168/200\n",
      "1/1 [==============================] - 1s 1s/step - loss: 0.0212 - acc: 0.8931 - val_loss: 0.0633 - val_acc: 0.9136\n",
      "Epoch 169/200\n",
      "1/1 [==============================] - 1s 1s/step - loss: 0.0209 - acc: 0.9031 - val_loss: 0.0626 - val_acc: 0.9142\n",
      "Epoch 170/200\n",
      "1/1 [==============================] - 1s 1s/step - loss: 0.0222 - acc: 0.8863 - val_loss: 0.0622 - val_acc: 0.9150\n",
      "Epoch 171/200\n",
      "1/1 [==============================] - 1s 1s/step - loss: 0.0216 - acc: 0.8944 - val_loss: 0.0621 - val_acc: 0.9134\n",
      "Epoch 172/200\n",
      "1/1 [==============================] - 1s 1s/step - loss: 0.0224 - acc: 0.8994 - val_loss: 0.0625 - val_acc: 0.9130\n",
      "Epoch 173/200\n",
      "1/1 [==============================] - 1s 1s/step - loss: 0.0223 - acc: 0.8963 - val_loss: 0.0630 - val_acc: 0.9128\n",
      "Epoch 174/200\n",
      "1/1 [==============================] - 1s 1s/step - loss: 0.0214 - acc: 0.8988 - val_loss: 0.0636 - val_acc: 0.9102\n",
      "Epoch 175/200\n",
      "1/1 [==============================] - 1s 1s/step - loss: 0.0221 - acc: 0.8994 - val_loss: 0.0639 - val_acc: 0.9102\n",
      "Epoch 176/200\n",
      "1/1 [==============================] - 1s 1s/step - loss: 0.0208 - acc: 0.8963 - val_loss: 0.0637 - val_acc: 0.9114\n",
      "Epoch 177/200\n",
      "1/1 [==============================] - 1s 1s/step - loss: 0.0201 - acc: 0.9056 - val_loss: 0.0633 - val_acc: 0.9124\n",
      "Epoch 178/200\n",
      "1/1 [==============================] - 1s 1s/step - loss: 0.0212 - acc: 0.8919 - val_loss: 0.0628 - val_acc: 0.9140\n",
      "Epoch 179/200\n",
      "1/1 [==============================] - 1s 1s/step - loss: 0.0223 - acc: 0.8938 - val_loss: 0.0622 - val_acc: 0.9160\n",
      "Epoch 180/200\n",
      "1/1 [==============================] - 1s 1s/step - loss: 0.0216 - acc: 0.8906 - val_loss: 0.0617 - val_acc: 0.9158\n",
      "Epoch 181/200\n",
      "1/1 [==============================] - 1s 1s/step - loss: 0.0219 - acc: 0.8863 - val_loss: 0.0611 - val_acc: 0.9170\n",
      "Epoch 182/200\n",
      "1/1 [==============================] - 1s 1s/step - loss: 0.0230 - acc: 0.8875 - val_loss: 0.0603 - val_acc: 0.9184\n",
      "Epoch 183/200\n",
      "1/1 [==============================] - 1s 1s/step - loss: 0.0220 - acc: 0.8919 - val_loss: 0.0598 - val_acc: 0.9182\n",
      "Epoch 184/200\n",
      "1/1 [==============================] - 1s 1s/step - loss: 0.0215 - acc: 0.8938 - val_loss: 0.0598 - val_acc: 0.9172\n",
      "Epoch 185/200\n",
      "1/1 [==============================] - 1s 1s/step - loss: 0.0225 - acc: 0.8969 - val_loss: 0.0601 - val_acc: 0.9174\n",
      "Epoch 186/200\n",
      "1/1 [==============================] - 1s 1s/step - loss: 0.0203 - acc: 0.8969 - val_loss: 0.0607 - val_acc: 0.9162\n",
      "Epoch 187/200\n",
      "1/1 [==============================] - 1s 1s/step - loss: 0.0209 - acc: 0.8950 - val_loss: 0.0616 - val_acc: 0.9146\n",
      "Epoch 188/200\n",
      "1/1 [==============================] - 1s 1s/step - loss: 0.0211 - acc: 0.8988 - val_loss: 0.0624 - val_acc: 0.9130\n",
      "Epoch 189/200\n",
      "1/1 [==============================] - 1s 1s/step - loss: 0.0214 - acc: 0.9044 - val_loss: 0.0629 - val_acc: 0.9128\n",
      "Epoch 190/200\n",
      "1/1 [==============================] - 1s 1s/step - loss: 0.0216 - acc: 0.9019 - val_loss: 0.0629 - val_acc: 0.9120\n",
      "Epoch 191/200\n",
      "1/1 [==============================] - 1s 1s/step - loss: 0.0232 - acc: 0.8988 - val_loss: 0.0629 - val_acc: 0.9122\n",
      "Epoch 192/200\n",
      "1/1 [==============================] - 1s 998ms/step - loss: 0.0215 - acc: 0.8994 - val_loss: 0.0626 - val_acc: 0.9128\n",
      "Epoch 193/200\n",
      "1/1 [==============================] - 1s 989ms/step - loss: 0.0209 - acc: 0.8994 - val_loss: 0.0623 - val_acc: 0.9132\n",
      "Epoch 194/200\n",
      "1/1 [==============================] - 1s 998ms/step - loss: 0.0208 - acc: 0.8969 - val_loss: 0.0620 - val_acc: 0.9136\n",
      "Epoch 195/200\n",
      "1/1 [==============================] - 1s 1s/step - loss: 0.0210 - acc: 0.9019 - val_loss: 0.0618 - val_acc: 0.9132\n",
      "Epoch 196/200\n",
      "1/1 [==============================] - 1s 1s/step - loss: 0.0218 - acc: 0.8988 - val_loss: 0.0618 - val_acc: 0.9140\n",
      "Epoch 197/200\n",
      "1/1 [==============================] - 1s 1s/step - loss: 0.0201 - acc: 0.9013 - val_loss: 0.0618 - val_acc: 0.9150\n",
      "Epoch 198/200\n",
      "1/1 [==============================] - 1s 1s/step - loss: 0.0209 - acc: 0.9013 - val_loss: 0.0620 - val_acc: 0.9150\n",
      "Epoch 199/200\n",
      "1/1 [==============================] - 1s 1s/step - loss: 0.0207 - acc: 0.9013 - val_loss: 0.0622 - val_acc: 0.9136\n",
      "Epoch 200/200\n",
      "1/1 [==============================] - 1s 1s/step - loss: 0.0196 - acc: 0.8975 - val_loss: 0.0627 - val_acc: 0.9120\n"
     ]
    },
    {
     "data": {
      "text/plain": [
       "<tensorflow.python.keras.callbacks.History at 0x26097f56278>"
      ]
     },
     "execution_count": 18,
     "metadata": {},
     "output_type": "execute_result"
    }
   ],
   "source": [
    "# Train model\n",
    "validation_data = ([X, A], target, val_mask)\n",
    "model.fit([X, A],\n",
    "          target,\n",
    "          sample_weight=train_mask,\n",
    "          epochs=epochs,\n",
    "          batch_size=N,\n",
    "          validation_data=validation_data,\n",
    "          shuffle=False\n",
    " )"
   ]
  },
  {
   "cell_type": "code",
   "execution_count": 19,
   "metadata": {},
   "outputs": [],
   "source": [
    "losses = pd.DataFrame(model.history.history)"
   ]
  },
  {
   "cell_type": "code",
   "execution_count": 20,
   "metadata": {},
   "outputs": [
    {
     "data": {
      "text/html": [
       "<div>\n",
       "<style scoped>\n",
       "    .dataframe tbody tr th:only-of-type {\n",
       "        vertical-align: middle;\n",
       "    }\n",
       "\n",
       "    .dataframe tbody tr th {\n",
       "        vertical-align: top;\n",
       "    }\n",
       "\n",
       "    .dataframe thead th {\n",
       "        text-align: right;\n",
       "    }\n",
       "</style>\n",
       "<table border=\"1\" class=\"dataframe\">\n",
       "  <thead>\n",
       "    <tr style=\"text-align: right;\">\n",
       "      <th></th>\n",
       "      <th>loss</th>\n",
       "      <th>acc</th>\n",
       "      <th>val_loss</th>\n",
       "      <th>val_acc</th>\n",
       "    </tr>\n",
       "  </thead>\n",
       "  <tbody>\n",
       "    <tr>\n",
       "      <th>0</th>\n",
       "      <td>0.101987</td>\n",
       "      <td>0.220625</td>\n",
       "      <td>0.293689</td>\n",
       "      <td>0.3740</td>\n",
       "    </tr>\n",
       "    <tr>\n",
       "      <th>1</th>\n",
       "      <td>0.094966</td>\n",
       "      <td>0.313750</td>\n",
       "      <td>0.276039</td>\n",
       "      <td>0.5142</td>\n",
       "    </tr>\n",
       "    <tr>\n",
       "      <th>2</th>\n",
       "      <td>0.089518</td>\n",
       "      <td>0.451875</td>\n",
       "      <td>0.262129</td>\n",
       "      <td>0.5786</td>\n",
       "    </tr>\n",
       "    <tr>\n",
       "      <th>3</th>\n",
       "      <td>0.085502</td>\n",
       "      <td>0.497500</td>\n",
       "      <td>0.249950</td>\n",
       "      <td>0.6182</td>\n",
       "    </tr>\n",
       "    <tr>\n",
       "      <th>4</th>\n",
       "      <td>0.082465</td>\n",
       "      <td>0.533750</td>\n",
       "      <td>0.238769</td>\n",
       "      <td>0.6470</td>\n",
       "    </tr>\n",
       "  </tbody>\n",
       "</table>\n",
       "</div>"
      ],
      "text/plain": [
       "       loss       acc  val_loss  val_acc\n",
       "0  0.101987  0.220625  0.293689   0.3740\n",
       "1  0.094966  0.313750  0.276039   0.5142\n",
       "2  0.089518  0.451875  0.262129   0.5786\n",
       "3  0.085502  0.497500  0.249950   0.6182\n",
       "4  0.082465  0.533750  0.238769   0.6470"
      ]
     },
     "execution_count": 20,
     "metadata": {},
     "output_type": "execute_result"
    }
   ],
   "source": [
    "losses.head()"
   ]
  },
  {
   "cell_type": "code",
   "execution_count": 21,
   "metadata": {},
   "outputs": [
    {
     "data": {
      "text/plain": [
       "<AxesSubplot:>"
      ]
     },
     "execution_count": 21,
     "metadata": {},
     "output_type": "execute_result"
    },
    {
     "data": {
      "image/png": "[encoded data removed]",
      "text/plain": [
       "<Figure size 432x288 with 1 Axes>"
      ]
     },
     "metadata": {
      "needs_background": "light"
     },
     "output_type": "display_data"
    }
   ],
   "source": [
    "losses[['acc','val_acc']].plot()"
   ]
  },
  {
   "cell_type": "code",
   "execution_count": 22,
   "metadata": {},
   "outputs": [
    {
     "data": {
      "text/plain": [
       "<AxesSubplot:>"
      ]
     },
     "execution_count": 22,
     "metadata": {},
     "output_type": "execute_result"
    },
    {
     "data": {
      "image/png": "[encoded data removed]",
      "text/plain": [
       "<Figure size 432x288 with 1 Axes>"
      ]
     },
     "metadata": {
      "needs_background": "light"
     },
     "output_type": "display_data"
    }
   ],
   "source": [
    "losses[['loss','val_loss']].plot()"
   ]
  },
  {
   "cell_type": "markdown",
   "metadata": {},
   "source": [
    "# Evaluation"
   ]
  },
  {
   "cell_type": "code",
   "execution_count": 23,
   "metadata": {},
   "outputs": [],
   "source": [
    "# Get the labels for test set\n",
    "y_test = target[test_mask]"
   ]
  },
  {
   "cell_type": "code",
   "execution_count": 24,
   "metadata": {},
   "outputs": [],
   "source": [
    "# Prediction of the whole graph\n",
    "y_pred = model.predict([X, A],batch_size=N)"
   ]
  },
  {
   "cell_type": "code",
   "execution_count": 25,
   "metadata": {},
   "outputs": [
    {
     "name": "stdout",
     "output_type": "stream",
     "text": [
      "GCN Classification Report for test set: \n",
      "               precision    recall  f1-score   support\n",
      "\n",
      "           0       0.83      0.90      0.86      2324\n",
      "           1       0.93      0.90      0.92      4598\n",
      "           2       0.93      0.92      0.93      4929\n",
      "           3       0.93      0.93      0.93      4019\n",
      "\n",
      "    accuracy                           0.91     15870\n",
      "   macro avg       0.90      0.91      0.91     15870\n",
      "weighted avg       0.92      0.91      0.91     15870\n",
      "\n"
     ]
    }
   ],
   "source": [
    "report = classification_report(np.argmax(y_test,axis=1), np.argmax(y_pred[test_mask],axis=1))\n",
    "print('GCN Classification Report for test set: \\n {}'.format(report))"
   ]
  },
  {
   "cell_type": "code",
   "execution_count": 26,
   "metadata": {},
   "outputs": [
    {
     "name": "stdout",
     "output_type": "stream",
     "text": [
      "GCN Classification Report for the whole graph: \n",
      "               precision    recall  f1-score   support\n",
      "\n",
      "           0       0.83      0.91      0.87      3327\n",
      "           1       0.94      0.90      0.92      6495\n",
      "           2       0.93      0.92      0.93      6880\n",
      "           3       0.93      0.93      0.93      5768\n",
      "\n",
      "    accuracy                           0.92     22470\n",
      "   macro avg       0.91      0.92      0.91     22470\n",
      "weighted avg       0.92      0.92      0.92     22470\n",
      "\n"
     ]
    }
   ],
   "source": [
    "report = classification_report(np.argmax(target,axis=1), np.argmax(y_pred,axis=1))\n",
    "print('GCN Classification Report for the whole graph: \\n {}'.format(report))"
   ]
  },
  {
   "cell_type": "markdown",
   "metadata": {},
   "source": [
    "# TSNE Plot"
   ]
  },
  {
   "cell_type": "code",
   "execution_count": 27,
   "metadata": {},
   "outputs": [],
   "source": [
    "x_tsne = TSNE(n_components=2).fit_transform(y_pred)"
   ]
  },
  {
   "cell_type": "code",
   "execution_count": 28,
   "metadata": {},
   "outputs": [
    {
     "data": {
      "image/png": "[encoded data removed]",
      "text/plain": [
       "<Figure size 720x720 with 1 Axes>"
      ]
     },
     "metadata": {
      "needs_background": "light"
     },
     "output_type": "display_data"
    }
   ],
   "source": [
    "def plot_tSNE(target,x_tsne):\n",
    "    color_map = np.argmax(target, axis=1)\n",
    "    plt.figure(figsize=(10,10))\n",
    "    for i in range(num_classes):\n",
    "        indices = np.where(color_map==i)\n",
    "        indices = indices[0]\n",
    "        plt.scatter(x_tsne[indices,0], x_tsne[indices, 1], label=i)\n",
    "    plt.legend()\n",
    "    plt.show()\n",
    "    \n",
    "plot_tSNE(target,x_tsne)"
   ]
  },
  {
   "cell_type": "code",
   "execution_count": null,
   "metadata": {},
   "outputs": [],
   "source": []
  }
 ],
 "metadata": {
  "kernelspec": {
   "display_name": "Python 3 (ipykernel)",
   "language": "python",
   "name": "python3"
  },
  "language_info": {
   "codemirror_mode": {
    "name": "ipython",
    "version": 3
   },
   "file_extension": ".py",
   "mimetype": "text/x-python",
   "name": "python",
   "nbconvert_exporter": "python",
   "pygments_lexer": "ipython3",
   "version": "3.8.8"
  },
  "varInspector": {
   "cols": {
    "lenName": 16,
    "lenType": 16,
    "lenVar": 40
   },
   "kernels_config": {
    "python": {
     "delete_cmd_postfix": "",
     "delete_cmd_prefix": "del ",
     "library": "var_list.py",
     "varRefreshCmd": "print(var_dic_list())"
    },
    "r": {
     "delete_cmd_postfix": ") ",
     "delete_cmd_prefix": "rm(",
     "library": "var_list.r",
     "varRefreshCmd": "cat(var_dic_list()) "
    }
   },
   "types_to_exclude": [
    "module",
    "function",
    "builtin_function_or_method",
    "instance",
    "_Feature"
   ],
   "window_display": false
  }
 },
 "nbformat": 4,
 "nbformat_minor": 2
}
