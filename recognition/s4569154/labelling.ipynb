{
  "nbformat": 4,
  "nbformat_minor": 0,
  "metadata": {
    "colab": {
      "name": "labelling.ipynb",
      "provenance": [],
      "collapsed_sections": []
    },
    "kernelspec": {
      "name": "python3",
      "display_name": "Python 3"
    },
    "language_info": {
      "name": "python"
    }
  },
  "cells": [
    {
      "cell_type": "code",
      "metadata": {
        "id": "seIP1nNhYl9z"
      },
      "source": [
        "import os\n",
        "import cv2"
      ],
      "execution_count": 1,
      "outputs": []
    },
    {
      "cell_type": "code",
      "metadata": {
        "id": "BmSllvIAf8l_"
      },
      "source": [
        "%cd ..\n",
        "from google.colab import drive\n",
        "drive.mount('/content/gdrive')"
      ],
      "execution_count": null,
      "outputs": []
    },
    {
      "cell_type": "code",
      "metadata": {
        "id": "Uf2N3dPNYpAa"
      },
      "source": [
        "import os\n",
        "import cv2\n",
        "\n",
        "CLASS_NAME = '0'\n",
        "\n",
        "yolo_style, file_name = list(), list()\n",
        "\n",
        "for filename in os.listdir(r'/content/gdrive/ + 'train label'):\n",
        "    print(filename)\n",
        "    if \"txt\" not in filename:\n",
        "        original_image = cv2.imread('train label' + '/' + filename)\n",
        "    gray_image = cv2.cvtColor(original_image, cv2.COLOR_BGR2GRAY)\n",
        "    x_len, y_len = original_image.shape[1], original_image.shape[0]\n",
        "\n",
        "    ret, thresh = cv2.threshold(gray_image, 127, 255, cv2.THRESH_BINARY)\n",
        "    binary, contours, hier = cv2.findContours(thresh, cv2.RETR_LIST, cv2.CHAIN_APPROX_SIMPLE)\n",
        "\n",
        "    for i in contours:\n",
        "        x, y, w, h = cv2.boundingRect(i)\n",
        "        labels = CLASS_NAME + ' '\n",
        "        centerx = round((x + w / 2) / x_len, 6)\n",
        "        centery = round((y + h / 2) / y_len, 6)\n",
        "        labels += str(centerx) + ' '\n",
        "        labels += str(centery) + ' '\n",
        "        labels += str(round(w / x_len, 6)) + ' '\n",
        "        labels += str(round(h / y_len, 6))\n",
        "        cv2.rectangle(original_image, (x, y), (x + w, y + h), (255, 255, 0), 2)\n",
        "\n",
        "    cv2.drawContours(original_image, contours, -1, (255, 0, 0), 1)\n",
        "\n",
        "    yolo_style.append(labels)\n",
        "    del original_image\n",
        "    # print(filename)\n",
        "    filename.strip('_segmentation.png')\n",
        "    file_name.append(filename)\n",
        "\n",
        "if not os.path.exists(\"/content/gdrive/label\"):\n",
        "    os.makedirs(\"/content/gdrive/label\")\n",
        "for i in range(len(file_name)):\n",
        "    with open(\"/content/gdrive/label/\" + file_name[i] + \".txt\", \"w\") as f:\n",
        "        f.write(yolo_style[i])"
      ],
      "execution_count": null,
      "outputs": []
    }
  ]
}