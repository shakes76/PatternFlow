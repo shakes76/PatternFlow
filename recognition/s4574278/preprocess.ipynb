{
 "cells": [
  {
   "cell_type": "code",
   "execution_count": 1,
   "metadata": {},
   "outputs": [
    {
     "data": {
      "text/plain": "<Figure size 432x288 with 1 Axes>",
      "image/png": "[encoded data removed]"
     },
     "metadata": {
      "needs_background": "light"
     },
     "output_type": "display_data"
    }
   ],
   "source": [
    "import os\n",
    "import utils\n",
    "import tensorflow as tf\n"
   ]
  },
  {
   "cell_type": "code",
   "execution_count": 2,
   "metadata": {},
   "outputs": [
    {
     "data": {
      "text/plain": "'.\\\\dataset'"
     },
     "execution_count": 2,
     "metadata": {},
     "output_type": "execute_result"
    }
   ],
   "source": [
    "# constents\n",
    "# workspace = \"../autodl-tmp\"\n",
    "workspace = r\".\\dataset\"\n",
    "workspace\n"
   ]
  },
  {
   "cell_type": "code",
   "execution_count": 3,
   "metadata": {},
   "outputs": [],
   "source": [
    "def extract_bbox(silhouette):\n",
    "    \"\"\"\n",
    "    Extract (x_min, y_min, x_max, y_max) according to the shape of silhouette\n",
    "    Note the silhouette is [H, W, channel], despite the channel is just 1\n",
    "    Reference: https://stackoverflow.com/a/31402351/1471046\n",
    "    \"\"\"\n",
    "\n",
    "    def convert_to_mask(silhouette, axis):\n",
    "        return tf.math.count_nonzero(\n",
    "            tf.squeeze(silhouette, axis=-1), axis=axis, keepdims=None, dtype=tf.bool\n",
    "        )\n",
    "\n",
    "    rows = convert_to_mask(silhouette, axis=0)\n",
    "    # print(rows)\n",
    "    cols = convert_to_mask(silhouette, axis=1)\n",
    "    # print(cols)\n",
    "\n",
    "    def coorindate(bin_mask) -> tf.Tensor:\n",
    "        return tf.where(bin_mask)[:, -1]\n",
    "\n",
    "    x_axis = coorindate(rows)\n",
    "    x_min = x_axis[0]\n",
    "    x_max = x_axis[-1]\n",
    "    y_axis = coorindate(cols)\n",
    "    y_min = y_axis[0]\n",
    "    y_max = y_axis[-1]\n",
    "    bbox = tf.concat([x_min, y_min, x_max, y_max], axis=0)\n",
    "    # print(bbox)\n",
    "    return tf.cast(bbox, dtype=tf.int16)\n"
   ]
  },
  {
   "cell_type": "code",
   "execution_count": 4,
   "metadata": {},
   "outputs": [
    {
     "data": {
      "text/plain": "<Figure size 432x288 with 1 Axes>",
      "image/png": "[encoded data removed]"
     },
     "metadata": {
      "needs_background": "light"
     },
     "output_type": "display_data"
    },
    {
     "name": "stdout",
     "output_type": "stream",
     "text": [
      "tf.Tensor([ 90  28 360 360], shape=(4,), dtype=int16)\n"
     ]
    }
   ],
   "source": [
    "# test\n",
    "def test_bbox():\n",
    "    file_to_test = os.path.join(\n",
    "        workspace, r\"ground_truth\", r\"ISIC_0000004_segmentation.png\"\n",
    "    )\n",
    "    file_content = tf.io.read_file(file_to_test)\n",
    "    # print(file_content.dtype)\n",
    "    image = tf.io.decode_png(file_content)\n",
    "    # print(image[100])\n",
    "    # print(image.shape)\n",
    "    box = extract_bbox(image)\n",
    "    # print(\"box\")\n",
    "    utils.draw_bbox(tf.math.divide(image, 255), tf.expand_dims(box, 0))\n",
    "    print(box)\n",
    "\n",
    "\n",
    "test_bbox()\n"
   ]
  },
  {
   "cell_type": "code",
   "execution_count": 5,
   "metadata": {},
   "outputs": [],
   "source": [
    "def extract_annotations():\n",
    "    dir_annotation = os.path.join(workspace, \"annotation\")\n",
    "    dir_input = os.path.join(workspace, \"ground_truth\")\n",
    "    os.makedirs(dir_annotation, exist_ok=True)\n",
    "\n",
    "    validation_path = os.path.join(workspace, \"train\", \"validation.txt\")\n",
    "    validation_path = os.path.join(workspace, \"train\", \"train.txt\")\n",
    "\n",
    "    for filename in os.listdir(dir_input):\n",
    "        if filename.endswith(\".png\"):\n",
    "            filepath = os.path.join(dir_input, filename)\n",
    "            file_content = tf.io.read_file(filepath)\n",
    "            file_id = filename.split(\".\")[0].replace(\"_segmentation\", \"\")\n",
    "            image = tf.io.decode_jpeg(file_content)\n",
    "            bbox = extract_bbox(image)\n",
    "            width, height, channel = image.shape\n",
    "            content = f\"\"\"\n",
    "<annotation>\n",
    "    <filename>{file_id}.jpg</filename>\n",
    "    <size>\n",
    "        <width>{width}</width>\n",
    "        <height>{height}</height>\n",
    "        <depth>{channel}</depth>\n",
    "    </size>\n",
    "    <object>\n",
    "        <name>lesion</name>\n",
    "        <bndbox>\n",
    "            <xmin>{bbox[0]}</xmin>\n",
    "            <ymin>{bbox[1]}</ymin>\n",
    "            <xmax>{bbox[2]}</xmax>\n",
    "            <ymax>{bbox[3]}</ymax>\n",
    "        </bndbox>\n",
    "    </object>\n",
    "</annotation>\n",
    "\"\"\"\n",
    "            tf.io.write_file(\n",
    "                os.path.join(dir_annotation, f\"{file_id}.xml\"),\n",
    "                contents=content,\n",
    "            )\n",
    "\n",
    "\n",
    "extract_annotations()\n"
   ]
  }
 ],
 "metadata": {
  "interpreter": {
   "hash": "86fc693f5e5e3b9da617bbbcd9683bbe6ab60abb36d640d9aaf03cc7b479dd1f"
  },
  "kernelspec": {
   "display_name": "Python 3.8.12 64-bit ('ml': conda)",
   "name": "python3"
  },
  "language_info": {
   "codemirror_mode": {
    "name": "ipython",
    "version": 3
   },
   "file_extension": ".py",
   "mimetype": "text/x-python",
   "name": "python",
   "nbconvert_exporter": "python",
   "pygments_lexer": "ipython3",
   "version": "3.8.12"
  },
  "orig_nbformat": 4
 },
 "nbformat": 4,
 "nbformat_minor": 2
}