{
 "cells": [
  {
   "cell_type": "code",
   "execution_count": 1,
   "metadata": {},
   "outputs": [],
   "source": [
    "# -------------------------------------------------------------------------------------------------------------\n",
    "# Author : Sivangi Mund\n",
    "# Student id : 46011303\n",
    "# Email : s.mund@uqconnect.edu.au\n",
    "# Topic : Segmenting ISIC images using Improved Unet\n",
    "#--------------------------------------------------------------------------------------------------------------\n",
    "#importing libraries\n",
    "import numpy as np\n",
    "import tensorflow \n",
    "from tensorflow import keras\n",
    "from tensorflow.keras import layers\n",
    "from tensorflow.keras.layers import LeakyReLU, Conv2D, Conv1D, MaxPooling2D,Dropout,UpSampling2D,UpSampling3D,concatenate,Conv2DTranspose,Add\n",
    "from tensorflow.keras import Sequential\n",
    "from tensorflow.keras.layers import Dense, Flatten\n",
    "from model import model\n",
    "import glob\n",
    "from PIL import Image\n",
    "import sklearn\n",
    "from sklearn.model_selection import train_test_split\n",
    "import matplotlib\n",
    "import matplotlib.pyplot as plt"
   ]
  },
  {
   "cell_type": "markdown",
   "metadata": {},
   "source": [
    "## Data Preprocessing"
   ]
  },
  {
   "cell_type": "markdown",
   "metadata": {},
   "source": [
    "To read the files of the images, glob library of python has been used here. After that, the files were sorted in an ascending index order so that there is no mismatch and input and target labels."
   ]
  },
  {
   "cell_type": "code",
   "execution_count": 2,
   "metadata": {},
   "outputs": [],
   "source": [
    "#reading image files\n",
    "#PLEASE REPLACE WITH THE PATH OF DATASET\n",
    "base_path = \"C:/Users/s4601130/ISIC2018_Task1-2_Training_Data\"\n",
    "x_files = glob.glob(base_path + \"/ISIC2018_Task1-2_Training_Input_x2/*.jpg\")\n",
    "y_files = glob.glob(base_path + \"/ISIC2018_Task1_Training_GroundTruth_x2/*.png\")\n",
    "\n",
    "#sorting files \n",
    "x_files.sort()\n",
    "y_files.sort()\n",
    "assert(len(x_files) == len(y_files))\n",
    "\n",
    "    \n",
    "    \n"
   ]
  },
  {
   "cell_type": "markdown",
   "metadata": {},
   "source": [
    "All the images have been resized to (256,256) size to have uniformity."
   ]
  },
  {
   "cell_type": "code",
   "execution_count": 3,
   "metadata": {
    "scrolled": false
   },
   "outputs": [
    {
     "name": "stdout",
     "output_type": "stream",
     "text": [
      "(2594, 256, 256, 3)\n",
      "(2594, 256, 256, 1)\n"
     ]
    }
   ],
   "source": [
    "#data preprocessing\n",
    "x=[]\n",
    "y=[]\n",
    "for i in range(len(x_files)):\n",
    "    x_tmp = Image.open(x_files[i])\n",
    "    y_tmp = Image.open(y_files[i])\n",
    "    #resizing images\n",
    "    x_tmp = np.array(x_tmp.resize((256,256), Image.ANTIALIAS)) \n",
    "    y_tmp = np.array(y_tmp.resize((256,256), Image.ANTIALIAS))\n",
    "    #appending into list\n",
    "    x.append(x_tmp)\n",
    "    y.append(y_tmp)\n",
    "    \n",
    "x = np.array(x)\n",
    "y = np.expand_dims(np.array(y), -1)\n",
    "\n",
    "\n",
    "print(x.shape)\n",
    "print(y.shape)\n",
    "#rounding off target value\n",
    "y=y/255.0\n",
    "y= np.around(y)         \n",
    "print(np.unique(y))"
   ]
  },
  {
   "cell_type": "markdown",
   "metadata": {},
   "source": [
    "For splitting the data into train, validation and test data, sklearn's 'train_test_split' function has been used, herein, 20% data was left out as test data and 80% was separated as training data( out of which 25% was used as validation data).A random state was also used for reproducibility of results."
   ]
  },
  {
   "cell_type": "code",
   "execution_count": 4,
   "metadata": {},
   "outputs": [],
   "source": [
    "#splitting train, test, validation data\n",
    "x_train, x_test, y_train, y_test = train_test_split(x, y, test_size=0.2, random_state=1)\n",
    "x_train, x_val, y_train, y_val = train_test_split(x_train, y_train, test_size=0.25, random_state=1)\n",
    "\n"
   ]
  },
  {
   "cell_type": "code",
   "execution_count": 6,
   "metadata": {},
   "outputs": [
    {
     "name": "stdout",
     "output_type": "stream",
     "text": [
      "Model: \"model\"\n",
      "__________________________________________________________________________________________________\n",
      "Layer (type)                    Output Shape         Param #     Connected to                     \n",
      "==================================================================================================\n",
      "input_1 (InputLayer)            [(None, 256, 256, 3) 0                                            \n",
      "__________________________________________________________________________________________________\n",
      "conv2d (Conv2D)                 (None, 256, 256, 16) 448         input_1[0][0]                    \n",
      "__________________________________________________________________________________________________\n",
      "conv2d_1 (Conv2D)               (None, 256, 256, 16) 2320        conv2d[0][0]                     \n",
      "__________________________________________________________________________________________________\n",
      "dropout (Dropout)               (None, 256, 256, 16) 0           conv2d_1[0][0]                   \n",
      "__________________________________________________________________________________________________\n",
      "conv2d_2 (Conv2D)               (None, 256, 256, 16) 2320        dropout[0][0]                    \n",
      "__________________________________________________________________________________________________\n",
      "add (Add)                       (None, 256, 256, 16) 0           conv2d[0][0]                     \n",
      "                                                                 conv2d_2[0][0]                   \n",
      "__________________________________________________________________________________________________\n",
      "conv2d_3 (Conv2D)               (None, 128, 128, 32) 4640        add[0][0]                        \n",
      "__________________________________________________________________________________________________\n",
      "conv2d_4 (Conv2D)               (None, 128, 128, 32) 9248        conv2d_3[0][0]                   \n",
      "__________________________________________________________________________________________________\n",
      "dropout_1 (Dropout)             (None, 128, 128, 32) 0           conv2d_4[0][0]                   \n",
      "__________________________________________________________________________________________________\n",
      "conv2d_5 (Conv2D)               (None, 128, 128, 32) 9248        dropout_1[0][0]                  \n",
      "__________________________________________________________________________________________________\n",
      "add_1 (Add)                     (None, 128, 128, 32) 0           conv2d_3[0][0]                   \n",
      "                                                                 conv2d_5[0][0]                   \n",
      "__________________________________________________________________________________________________\n",
      "conv2d_6 (Conv2D)               (None, 64, 64, 64)   18496       add_1[0][0]                      \n",
      "__________________________________________________________________________________________________\n",
      "conv2d_7 (Conv2D)               (None, 64, 64, 64)   36928       conv2d_6[0][0]                   \n",
      "__________________________________________________________________________________________________\n",
      "dropout_2 (Dropout)             (None, 64, 64, 64)   0           conv2d_7[0][0]                   \n",
      "__________________________________________________________________________________________________\n",
      "conv2d_8 (Conv2D)               (None, 64, 64, 64)   36928       dropout_2[0][0]                  \n",
      "__________________________________________________________________________________________________\n",
      "add_2 (Add)                     (None, 64, 64, 64)   0           conv2d_6[0][0]                   \n",
      "                                                                 conv2d_8[0][0]                   \n",
      "__________________________________________________________________________________________________\n",
      "conv2d_9 (Conv2D)               (None, 32, 32, 128)  73856       add_2[0][0]                      \n",
      "__________________________________________________________________________________________________\n",
      "conv2d_10 (Conv2D)              (None, 32, 32, 128)  147584      conv2d_9[0][0]                   \n",
      "__________________________________________________________________________________________________\n",
      "dropout_3 (Dropout)             (None, 32, 32, 128)  0           conv2d_10[0][0]                  \n",
      "__________________________________________________________________________________________________\n",
      "conv2d_11 (Conv2D)              (None, 32, 32, 128)  147584      dropout_3[0][0]                  \n",
      "__________________________________________________________________________________________________\n",
      "add_3 (Add)                     (None, 32, 32, 128)  0           conv2d_9[0][0]                   \n",
      "                                                                 conv2d_11[0][0]                  \n",
      "__________________________________________________________________________________________________\n",
      "conv2d_12 (Conv2D)              (None, 16, 16, 256)  295168      add_3[0][0]                      \n",
      "__________________________________________________________________________________________________\n",
      "conv2d_13 (Conv2D)              (None, 16, 16, 256)  590080      conv2d_12[0][0]                  \n",
      "__________________________________________________________________________________________________\n",
      "dropout_4 (Dropout)             (None, 16, 16, 256)  0           conv2d_13[0][0]                  \n",
      "__________________________________________________________________________________________________\n",
      "conv2d_14 (Conv2D)              (None, 16, 16, 256)  590080      dropout_4[0][0]                  \n",
      "__________________________________________________________________________________________________\n",
      "add_4 (Add)                     (None, 16, 16, 256)  0           conv2d_12[0][0]                  \n",
      "                                                                 conv2d_14[0][0]                  \n",
      "__________________________________________________________________________________________________\n",
      "up_sampling2d (UpSampling2D)    (None, 32, 32, 256)  0           add_4[0][0]                      \n",
      "__________________________________________________________________________________________________\n",
      "concatenate (Concatenate)       (None, 32, 32, 384)  0           up_sampling2d[0][0]              \n",
      "                                                                 add_3[0][0]                      \n",
      "__________________________________________________________________________________________________\n",
      "conv2d_15 (Conv2D)              (None, 32, 32, 128)  442496      concatenate[0][0]                \n",
      "__________________________________________________________________________________________________\n",
      "conv2d_16 (Conv2D)              (None, 32, 32, 128)  16512       conv2d_15[0][0]                  \n",
      "__________________________________________________________________________________________________\n",
      "up_sampling2d_1 (UpSampling2D)  (None, 64, 64, 128)  0           conv2d_16[0][0]                  \n",
      "__________________________________________________________________________________________________\n",
      "concatenate_1 (Concatenate)     (None, 64, 64, 192)  0           up_sampling2d_1[0][0]            \n",
      "                                                                 add_2[0][0]                      \n",
      "__________________________________________________________________________________________________\n",
      "conv2d_17 (Conv2D)              (None, 64, 64, 64)   110656      concatenate_1[0][0]              \n",
      "__________________________________________________________________________________________________\n",
      "conv2d_18 (Conv2D)              (None, 64, 64, 64)   4160        conv2d_17[0][0]                  \n",
      "__________________________________________________________________________________________________\n",
      "up_sampling2d_3 (UpSampling2D)  (None, 128, 128, 64) 0           conv2d_18[0][0]                  \n",
      "__________________________________________________________________________________________________\n",
      "concatenate_2 (Concatenate)     (None, 128, 128, 96) 0           up_sampling2d_3[0][0]            \n",
      "                                                                 add_1[0][0]                      \n",
      "__________________________________________________________________________________________________\n",
      "conv2d_20 (Conv2D)              (None, 128, 128, 32) 27680       concatenate_2[0][0]              \n",
      "__________________________________________________________________________________________________\n",
      "conv2d_21 (Conv2D)              (None, 128, 128, 32) 1056        conv2d_20[0][0]                  \n",
      "__________________________________________________________________________________________________\n",
      "conv2d_19 (Conv2D)              (None, 64, 64, 4)    2308        conv2d_18[0][0]                  \n",
      "__________________________________________________________________________________________________\n",
      "up_sampling2d_4 (UpSampling2D)  (None, 256, 256, 32) 0           conv2d_21[0][0]                  \n",
      "__________________________________________________________________________________________________\n",
      "up_sampling2d_2 (UpSampling2D)  (None, 128, 128, 4)  0           conv2d_19[0][0]                  \n",
      "__________________________________________________________________________________________________\n",
      "conv2d_22 (Conv2D)              (None, 128, 128, 4)  1156        conv2d_21[0][0]                  \n",
      "__________________________________________________________________________________________________\n",
      "concatenate_3 (Concatenate)     (None, 256, 256, 48) 0           up_sampling2d_4[0][0]            \n",
      "                                                                 add[0][0]                        \n",
      "__________________________________________________________________________________________________\n",
      "add_5 (Add)                     (None, 128, 128, 4)  0           up_sampling2d_2[0][0]            \n",
      "                                                                 conv2d_22[0][0]                  \n",
      "__________________________________________________________________________________________________\n",
      "conv2d_23 (Conv2D)              (None, 256, 256, 32) 1568        concatenate_3[0][0]              \n",
      "__________________________________________________________________________________________________\n",
      "up_sampling2d_5 (UpSampling2D)  (None, 256, 256, 4)  0           add_5[0][0]                      \n",
      "__________________________________________________________________________________________________\n",
      "conv2d_24 (Conv2D)              (None, 256, 256, 4)  1156        conv2d_23[0][0]                  \n",
      "__________________________________________________________________________________________________\n",
      "add_6 (Add)                     (None, 256, 256, 4)  0           up_sampling2d_5[0][0]            \n",
      "                                                                 conv2d_24[0][0]                  \n",
      "__________________________________________________________________________________________________\n",
      "conv2d_25 (Conv2D)              (None, 256, 256, 1)  5           add_6[0][0]                      \n",
      "==================================================================================================\n",
      "Total params: 2,573,681\n",
      "Trainable params: 2,573,681\n",
      "Non-trainable params: 0\n",
      "__________________________________________________________________________________________________\n"
     ]
    }
   ],
   "source": [
    "#compiling the model\n",
    "model = model()\n",
    "model.compile(loss='binary_crossentropy',optimizer=tensorflow.keras.optimizers.Adam(learning_rate=5e-4),\n",
    "metrics=['accuracy'])"
   ]
  },
  {
   "cell_type": "markdown",
   "metadata": {},
   "source": [
    "# # Model Training and Evaluation"
   ]
  },
  {
   "cell_type": "code",
   "execution_count": 8,
   "metadata": {},
   "outputs": [
    {
     "name": "stdout",
     "output_type": "stream",
     "text": [
      "Train on 1556 samples, validate on 519 samples\n",
      "Epoch 1/50\n",
      "1556/1556 [==============================] - 21s 14ms/sample - loss: 1.1254 - accuracy: 0.7924 - val_loss: 0.3588 - val_accuracy: 0.8578\n",
      "Epoch 2/50\n",
      "1556/1556 [==============================] - 15s 9ms/sample - loss: 0.4145 - accuracy: 0.8085 - val_loss: 0.3722 - val_accuracy: 0.8344\n",
      "Epoch 3/50\n",
      "1556/1556 [==============================] - 15s 9ms/sample - loss: 0.3416 - accuracy: 0.8619 - val_loss: 0.2980 - val_accuracy: 0.8730\n",
      "Epoch 4/50\n",
      "1556/1556 [==============================] - 15s 9ms/sample - loss: 0.2637 - accuracy: 0.8982 - val_loss: 0.2986 - val_accuracy: 0.8965\n",
      "Epoch 5/50\n",
      "1556/1556 [==============================] - 15s 9ms/sample - loss: 0.2458 - accuracy: 0.9063 - val_loss: 0.2155 - val_accuracy: 0.9133\n",
      "Epoch 6/50\n",
      "1556/1556 [==============================] - 15s 10ms/sample - loss: 0.2167 - accuracy: 0.9147 - val_loss: 0.2169 - val_accuracy: 0.9202\n",
      "Epoch 7/50\n",
      "1556/1556 [==============================] - 15s 10ms/sample - loss: 0.2034 - accuracy: 0.9201 - val_loss: 0.1861 - val_accuracy: 0.9277\n",
      "Epoch 8/50\n",
      "1556/1556 [==============================] - 15s 10ms/sample - loss: 0.1889 - accuracy: 0.9255 - val_loss: 0.1869 - val_accuracy: 0.9314\n",
      "Epoch 9/50\n",
      "1556/1556 [==============================] - 15s 10ms/sample - loss: 0.1841 - accuracy: 0.9267 - val_loss: 0.1813 - val_accuracy: 0.9327\n",
      "Epoch 10/50\n",
      "1556/1556 [==============================] - 15s 10ms/sample - loss: 0.1889 - accuracy: 0.9250 - val_loss: 0.1875 - val_accuracy: 0.9330\n",
      "Epoch 11/50\n",
      "1556/1556 [==============================] - 15s 10ms/sample - loss: 0.1890 - accuracy: 0.9249 - val_loss: 0.1718 - val_accuracy: 0.9328\n",
      "Epoch 12/50\n",
      "1556/1556 [==============================] - 15s 9ms/sample - loss: 0.1750 - accuracy: 0.9305 - val_loss: 0.1842 - val_accuracy: 0.9295\n",
      "Epoch 13/50\n",
      "1556/1556 [==============================] - 15s 9ms/sample - loss: 0.1692 - accuracy: 0.9330 - val_loss: 0.1637 - val_accuracy: 0.9361: 0\n",
      "Epoch 14/50\n",
      "1556/1556 [==============================] - 15s 9ms/sample - loss: 0.1718 - accuracy: 0.9331 - val_loss: 0.1712 - val_accuracy: 0.9380\n",
      "Epoch 15/50\n",
      "1556/1556 [==============================] - 15s 9ms/sample - loss: 0.1702 - accuracy: 0.9333 - val_loss: 0.1659 - val_accuracy: 0.9312\n",
      "Epoch 16/50\n",
      "1556/1556 [==============================] - 15s 9ms/sample - loss: 0.1635 - accuracy: 0.9359 - val_loss: 0.1563 - val_accuracy: 0.9405\n",
      "Epoch 17/50\n",
      "1556/1556 [==============================] - 15s 10ms/sample - loss: 0.1584 - accuracy: 0.9377 - val_loss: 0.1590 - val_accuracy: 0.9371\n",
      "Epoch 18/50\n",
      "1556/1556 [==============================] - 15s 10ms/sample - loss: 0.1538 - accuracy: 0.9383 - val_loss: 0.1623 - val_accuracy: 0.9360\n",
      "Epoch 19/50\n",
      "1556/1556 [==============================] - 15s 9ms/sample - loss: 0.1540 - accuracy: 0.9392 - val_loss: 0.1918 - val_accuracy: 0.9339\n",
      "Epoch 20/50\n",
      "1556/1556 [==============================] - 15s 10ms/sample - loss: 0.1619 - accuracy: 0.9365 - val_loss: 0.1709 - val_accuracy: 0.9393\n",
      "Epoch 21/50\n",
      "1556/1556 [==============================] - 15s 9ms/sample - loss: 0.1593 - accuracy: 0.9382 - val_loss: 0.1533 - val_accuracy: 0.9428\n",
      "Epoch 22/50\n",
      "1556/1556 [==============================] - 15s 9ms/sample - loss: 0.1539 - accuracy: 0.9391 - val_loss: 0.1626 - val_accuracy: 0.9350\n",
      "Epoch 23/50\n",
      "1556/1556 [==============================] - 15s 10ms/sample - loss: 0.1528 - accuracy: 0.9394 - val_loss: 0.1541 - val_accuracy: 0.9409\n",
      "Epoch 24/50\n",
      "1556/1556 [==============================] - 15s 10ms/sample - loss: 0.1586 - accuracy: 0.9384 - val_loss: 0.1705 - val_accuracy: 0.9306\n",
      "Epoch 25/50\n",
      "1556/1556 [==============================] - 15s 10ms/sample - loss: 0.1554 - accuracy: 0.9388 - val_loss: 0.1632 - val_accuracy: 0.9399\n",
      "Epoch 26/50\n",
      "1556/1556 [==============================] - 15s 10ms/sample - loss: 0.1474 - accuracy: 0.9427 - val_loss: 0.1533 - val_accuracy: 0.9397\n",
      "Epoch 27/50\n",
      "1556/1556 [==============================] - 15s 10ms/sample - loss: 0.1426 - accuracy: 0.9427 - val_loss: 0.1536 - val_accuracy: 0.9429\n",
      "Epoch 28/50\n",
      "1556/1556 [==============================] - 15s 9ms/sample - loss: 0.1418 - accuracy: 0.9439 - val_loss: 0.1608 - val_accuracy: 0.9395\n",
      "Epoch 29/50\n",
      "1556/1556 [==============================] - 15s 10ms/sample - loss: 0.1383 - accuracy: 0.9448 - val_loss: 0.1580 - val_accuracy: 0.9399\n",
      "Epoch 30/50\n",
      "1556/1556 [==============================] - 15s 10ms/sample - loss: 0.1401 - accuracy: 0.9440 - val_loss: 0.1463 - val_accuracy: 0.9450.1403 - accuracy: 0.94\n",
      "Epoch 31/50\n",
      "1556/1556 [==============================] - 15s 10ms/sample - loss: 0.1416 - accuracy: 0.9446 - val_loss: 0.1431 - val_accuracy: 0.9459\n",
      "Epoch 32/50\n",
      "1556/1556 [==============================] - 15s 10ms/sample - loss: 0.1326 - accuracy: 0.9461 - val_loss: 0.1586 - val_accuracy: 0.9432\n",
      "Epoch 33/50\n",
      "1556/1556 [==============================] - 15s 10ms/sample - loss: 0.1362 - accuracy: 0.9460 - val_loss: 0.1557 - val_accuracy: 0.9430\n",
      "Epoch 34/50\n",
      "1556/1556 [==============================] - 15s 9ms/sample - loss: 0.1292 - accuracy: 0.9488 - val_loss: 0.1514 - val_accuracy: 0.9426\n",
      "Epoch 35/50\n",
      "1556/1556 [==============================] - 15s 10ms/sample - loss: 0.1296 - accuracy: 0.9481 - val_loss: 0.1533 - val_accuracy: 0.9451\n",
      "Epoch 36/50\n",
      "1556/1556 [==============================] - 15s 10ms/sample - loss: 0.1230 - accuracy: 0.9508 - val_loss: 0.1530 - val_accuracy: 0.9460\n",
      "Epoch 37/50\n",
      "1556/1556 [==============================] - 15s 10ms/sample - loss: 0.1159 - accuracy: 0.9537 - val_loss: 0.1617 - val_accuracy: 0.9385\n",
      "Epoch 38/50\n",
      "1556/1556 [==============================] - 15s 10ms/sample - loss: 0.1172 - accuracy: 0.9526 - val_loss: 0.1616 - val_accuracy: 0.9387\n",
      "Epoch 39/50\n",
      "1556/1556 [==============================] - 16s 10ms/sample - loss: 0.1160 - accuracy: 0.9536 - val_loss: 0.1611 - val_accuracy: 0.9442\n",
      "Epoch 40/50\n",
      "1556/1556 [==============================] - 15s 10ms/sample - loss: 0.1135 - accuracy: 0.9546 - val_loss: 0.1642 - val_accuracy: 0.9414\n",
      "Epoch 41/50\n",
      "1556/1556 [==============================] - 15s 10ms/sample - loss: 0.1165 - accuracy: 0.9532 - val_loss: 0.1624 - val_accuracy: 0.9398\n",
      "Epoch 42/50\n",
      "1556/1556 [==============================] - 15s 10ms/sample - loss: 0.1055 - accuracy: 0.9573 - val_loss: 0.1816 - val_accuracy: 0.9369\n",
      "Epoch 43/50\n",
      "1556/1556 [==============================] - 15s 10ms/sample - loss: 0.1068 - accuracy: 0.9570 - val_loss: 0.1749 - val_accuracy: 0.9374\n",
      "Epoch 44/50\n",
      "1556/1556 [==============================] - 15s 9ms/sample - loss: 0.1049 - accuracy: 0.9578 - val_loss: 0.1647 - val_accuracy: 0.9426\n",
      "Epoch 45/50\n",
      "1556/1556 [==============================] - 15s 9ms/sample - loss: 0.0985 - accuracy: 0.9604 - val_loss: 0.1778 - val_accuracy: 0.9399\n",
      "Epoch 46/50\n",
      "1556/1556 [==============================] - 15s 9ms/sample - loss: 0.0986 - accuracy: 0.9599 - val_loss: 0.1601 - val_accuracy: 0.9431\n",
      "Epoch 47/50\n",
      "1556/1556 [==============================] - 15s 10ms/sample - loss: 0.0928 - accuracy: 0.9620 - val_loss: 0.1838 - val_accuracy: 0.9439\n",
      "Epoch 48/50\n",
      "1556/1556 [==============================] - 15s 9ms/sample - loss: 0.0862 - accuracy: 0.9647 - val_loss: 0.1627 - val_accuracy: 0.9432\n",
      "Epoch 49/50\n",
      "1556/1556 [==============================] - 15s 9ms/sample - loss: 0.0855 - accuracy: 0.9651 - val_loss: 0.1748 - val_accuracy: 0.9401\n",
      "Epoch 50/50\n",
      "1556/1556 [==============================] - 15s 9ms/sample - loss: 0.0829 - accuracy: 0.9662 - val_loss: 0.2220 - val_accuracy: 0.9431\n"
     ]
    }
   ],
   "source": [
    "#model training\n",
    "moel_result = model.fit(x_train, y_train, batch_size=8, epochs=50, validation_data = (x_val, y_val))"
   ]
  },
  {
   "cell_type": "code",
   "execution_count": 9,
   "metadata": {},
   "outputs": [],
   "source": [
    "#predicting results\n",
    "y_pred = model.predict(x_test)"
   ]
  },
  {
   "cell_type": "code",
   "execution_count": 10,
   "metadata": {},
   "outputs": [
    {
     "name": "stdout",
     "output_type": "stream",
     "text": [
      "(519, 256, 256, 1)\n",
      "(519, 256, 256, 1)\n"
     ]
    }
   ],
   "source": [
    "print(y_pred.shape)\n",
    "print(y_test.shape)"
   ]
  },
  {
   "cell_type": "code",
   "execution_count": 11,
   "metadata": {},
   "outputs": [
    {
     "name": "stdout",
     "output_type": "stream",
     "text": [
      "accuracy: 94.65%\n"
     ]
    }
   ],
   "source": [
    "#printing accuracy\n",
    "scores = model.evaluate(x_test,y_test, verbose=0)\n",
    "print(\"%s: %.2f%%\" % (model.metrics_names[1], scores[1]*100))"
   ]
  },
  {
   "cell_type": "code",
   "execution_count": 12,
   "metadata": {},
   "outputs": [
    {
     "name": "stdout",
     "output_type": "stream",
     "text": [
      "tf.Tensor([0.81450688], shape=(1,), dtype=float64)\n"
     ]
    }
   ],
   "source": [
    "#dice coefficient implementation\n",
    "def dice_score(y_true, y_pred):\n",
    "    \n",
    "\n",
    "    intersection = tensorflow.reduce_sum(y_true*y_pred, axis= [1,2])\n",
    "\n",
    "    denominator = tensorflow.reduce_sum(y_true +y_pred, axis= [1,2])\n",
    "    \n",
    "    dice_score= tensorflow.reduce_mean((2.0*intersection)/(denominator+ 1e-6), axis=0)\n",
    "    return dice_score\n",
    "res = dice_score(y_test, y_pred)\n",
    "print(res)"
   ]
  },
  {
   "cell_type": "markdown",
   "metadata": {},
   "source": [
    "# # Result visualizations"
   ]
  },
  {
   "cell_type": "markdown",
   "metadata": {},
   "source": [
    "For comaprision below are a sample predicted output and its ground truth-"
   ]
  },
  {
   "cell_type": "code",
   "execution_count": 16,
   "metadata": {},
   "outputs": [
    {
     "data": {
      "text/plain": [
       "<matplotlib.image.AxesImage at 0x15f4aacc188>"
      ]
     },
     "execution_count": 16,
     "metadata": {},
     "output_type": "execute_result"
    },
    {
     "data": {
      "image/png": "[encoded data removed]",
      "text/plain": [
       "<Figure size 432x288 with 1 Axes>"
      ]
     },
     "metadata": {
      "needs_background": "light"
     },
     "output_type": "display_data"
    }
   ],
   "source": [
    "#sample predicted output\n",
    "plt.title(\"Predicted output\")\n",
    "plt.imshow(y_pred[10])"
   ]
  },
  {
   "cell_type": "code",
   "execution_count": 17,
   "metadata": {},
   "outputs": [
    {
     "data": {
      "text/plain": [
       "<matplotlib.image.AxesImage at 0x15f4ab9a608>"
      ]
     },
     "execution_count": 17,
     "metadata": {},
     "output_type": "execute_result"
    },
    {
     "data": {
      "image/png": "[encoded data removed]",
      "text/plain": [
       "<Figure size 432x288 with 1 Axes>"
      ]
     },
     "metadata": {
      "needs_background": "light"
     },
     "output_type": "display_data"
    }
   ],
   "source": [
    "#sample ground truth\n",
    "plt.title(\"Ground truth\")\n",
    "plt.imshow(y_test[10])"
   ]
  },
  {
   "cell_type": "code",
   "execution_count": 18,
   "metadata": {},
   "outputs": [
    {
     "data": {
      "text/plain": [
       "[<matplotlib.lines.Line2D at 0x15f4ae08e48>]"
      ]
     },
     "execution_count": 18,
     "metadata": {},
     "output_type": "execute_result"
    },
    {
     "data": {
      "image/png": "[encoded data removed]",
      "text/plain": [
       "<Figure size 1008x288 with 2 Axes>"
      ]
     },
     "metadata": {
      "needs_background": "light"
     },
     "output_type": "display_data"
    }
   ],
   "source": [
    "#visualising result curves\n",
    "fig, axs = plt.subplots(1, 2, figsize=(14, 4))\n",
    "axs[0].set_title(\"Loss plot\")\n",
    "axs[0].plot(moel_result.history['loss'], color='purple', label='train')\n",
    "axs[0].plot(moel_result.history['val_loss'], color='orange', label='test')\n",
    "axs[1].set_title(\"Accuracy plot\")\n",
    "axs[1].plot(moel_result.history['accuracy'], color='purple', label='train')\n",
    "axs[1].plot(moel_result.history['val_accuracy'], color='orange', label='test')"
   ]
  }
 ],
 "metadata": {
  "kernelspec": {
   "display_name": "Python 3",
   "language": "python",
   "name": "python3"
  },
  "language_info": {
   "codemirror_mode": {
    "name": "ipython",
    "version": 3
   },
   "file_extension": ".py",
   "mimetype": "text/x-python",
   "name": "python",
   "nbconvert_exporter": "python",
   "pygments_lexer": "ipython3",
   "version": "3.7.7"
  }
 },
 "nbformat": 4,
 "nbformat_minor": 4
}
