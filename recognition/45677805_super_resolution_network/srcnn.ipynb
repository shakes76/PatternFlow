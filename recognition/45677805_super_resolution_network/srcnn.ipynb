{
  "cells": [
    {
      "cell_type": "code",
      "execution_count": null,
      "metadata": {
        "colab": {
          "base_uri": "https://localhost:8080/",
          "height": 349
        },
        "id": "Hu_S-x9CpDof",
        "outputId": "220c5ca9-cea1-4af0-ea5f-3fbe07fd2db2"
      },
      "outputs": [
        {
          "ename": "MessageError",
          "evalue": "ignored",
          "output_type": "error",
          "traceback": [
            "\u001b[0;31m---------------------------------------------------------------------------\u001b[0m",
            "\u001b[0;31mMessageError\u001b[0m                              Traceback (most recent call last)",
            "\u001b[0;32m<ipython-input-4-4388968f915e>\u001b[0m in \u001b[0;36m<module>\u001b[0;34m\u001b[0m\n\u001b[1;32m      1\u001b[0m \u001b[0;31m#connect to google drive\u001b[0m\u001b[0;34m\u001b[0m\u001b[0;34m\u001b[0m\u001b[0;34m\u001b[0m\u001b[0m\n\u001b[1;32m      2\u001b[0m \u001b[0;32mfrom\u001b[0m \u001b[0mgoogle\u001b[0m\u001b[0;34m.\u001b[0m\u001b[0mcolab\u001b[0m \u001b[0;32mimport\u001b[0m \u001b[0mdrive\u001b[0m\u001b[0;34m\u001b[0m\u001b[0;34m\u001b[0m\u001b[0m\n\u001b[0;32m----> 3\u001b[0;31m \u001b[0mdrive\u001b[0m\u001b[0;34m.\u001b[0m\u001b[0mmount\u001b[0m\u001b[0;34m(\u001b[0m\u001b[0;34m'/content/drive'\u001b[0m\u001b[0;34m)\u001b[0m\u001b[0;34m\u001b[0m\u001b[0;34m\u001b[0m\u001b[0m\n\u001b[0m",
            "\u001b[0;32m/usr/local/lib/python3.7/dist-packages/google/colab/drive.py\u001b[0m in \u001b[0;36mmount\u001b[0;34m(mountpoint, force_remount, timeout_ms)\u001b[0m\n\u001b[1;32m    103\u001b[0m       \u001b[0mforce_remount\u001b[0m\u001b[0;34m=\u001b[0m\u001b[0mforce_remount\u001b[0m\u001b[0;34m,\u001b[0m\u001b[0;34m\u001b[0m\u001b[0;34m\u001b[0m\u001b[0m\n\u001b[1;32m    104\u001b[0m       \u001b[0mtimeout_ms\u001b[0m\u001b[0;34m=\u001b[0m\u001b[0mtimeout_ms\u001b[0m\u001b[0;34m,\u001b[0m\u001b[0;34m\u001b[0m\u001b[0;34m\u001b[0m\u001b[0m\n\u001b[0;32m--> 105\u001b[0;31m       ephemeral=True)\n\u001b[0m\u001b[1;32m    106\u001b[0m \u001b[0;34m\u001b[0m\u001b[0m\n\u001b[1;32m    107\u001b[0m \u001b[0;34m\u001b[0m\u001b[0m\n",
            "\u001b[0;32m/usr/local/lib/python3.7/dist-packages/google/colab/drive.py\u001b[0m in \u001b[0;36m_mount\u001b[0;34m(mountpoint, force_remount, timeout_ms, ephemeral)\u001b[0m\n\u001b[1;32m    118\u001b[0m   \u001b[0;32mif\u001b[0m \u001b[0mephemeral\u001b[0m\u001b[0;34m:\u001b[0m\u001b[0;34m\u001b[0m\u001b[0;34m\u001b[0m\u001b[0m\n\u001b[1;32m    119\u001b[0m     _message.blocking_request(\n\u001b[0;32m--> 120\u001b[0;31m         'request_auth', request={'authType': 'dfs_ephemeral'}, timeout_sec=None)\n\u001b[0m\u001b[1;32m    121\u001b[0m \u001b[0;34m\u001b[0m\u001b[0m\n\u001b[1;32m    122\u001b[0m   \u001b[0mmountpoint\u001b[0m \u001b[0;34m=\u001b[0m \u001b[0m_os\u001b[0m\u001b[0;34m.\u001b[0m\u001b[0mpath\u001b[0m\u001b[0;34m.\u001b[0m\u001b[0mexpanduser\u001b[0m\u001b[0;34m(\u001b[0m\u001b[0mmountpoint\u001b[0m\u001b[0;34m)\u001b[0m\u001b[0;34m\u001b[0m\u001b[0;34m\u001b[0m\u001b[0m\n",
            "\u001b[0;32m/usr/local/lib/python3.7/dist-packages/google/colab/_message.py\u001b[0m in \u001b[0;36mblocking_request\u001b[0;34m(request_type, request, timeout_sec, parent)\u001b[0m\n\u001b[1;32m    169\u001b[0m   request_id = send_request(\n\u001b[1;32m    170\u001b[0m       request_type, request, parent=parent, expect_reply=True)\n\u001b[0;32m--> 171\u001b[0;31m   \u001b[0;32mreturn\u001b[0m \u001b[0mread_reply_from_input\u001b[0m\u001b[0;34m(\u001b[0m\u001b[0mrequest_id\u001b[0m\u001b[0;34m,\u001b[0m \u001b[0mtimeout_sec\u001b[0m\u001b[0;34m)\u001b[0m\u001b[0;34m\u001b[0m\u001b[0;34m\u001b[0m\u001b[0m\n\u001b[0m",
            "\u001b[0;32m/usr/local/lib/python3.7/dist-packages/google/colab/_message.py\u001b[0m in \u001b[0;36mread_reply_from_input\u001b[0;34m(message_id, timeout_sec)\u001b[0m\n\u001b[1;32m    100\u001b[0m         reply.get('colab_msg_id') == message_id):\n\u001b[1;32m    101\u001b[0m       \u001b[0;32mif\u001b[0m \u001b[0;34m'error'\u001b[0m \u001b[0;32min\u001b[0m \u001b[0mreply\u001b[0m\u001b[0;34m:\u001b[0m\u001b[0;34m\u001b[0m\u001b[0;34m\u001b[0m\u001b[0m\n\u001b[0;32m--> 102\u001b[0;31m         \u001b[0;32mraise\u001b[0m \u001b[0mMessageError\u001b[0m\u001b[0;34m(\u001b[0m\u001b[0mreply\u001b[0m\u001b[0;34m[\u001b[0m\u001b[0;34m'error'\u001b[0m\u001b[0;34m]\u001b[0m\u001b[0;34m)\u001b[0m\u001b[0;34m\u001b[0m\u001b[0;34m\u001b[0m\u001b[0m\n\u001b[0m\u001b[1;32m    103\u001b[0m       \u001b[0;32mreturn\u001b[0m \u001b[0mreply\u001b[0m\u001b[0;34m.\u001b[0m\u001b[0mget\u001b[0m\u001b[0;34m(\u001b[0m\u001b[0;34m'data'\u001b[0m\u001b[0;34m,\u001b[0m \u001b[0;32mNone\u001b[0m\u001b[0;34m)\u001b[0m\u001b[0;34m\u001b[0m\u001b[0;34m\u001b[0m\u001b[0m\n\u001b[1;32m    104\u001b[0m \u001b[0;34m\u001b[0m\u001b[0m\n",
            "\u001b[0;31mMessageError\u001b[0m: Error: credential propagation was unsuccessful"
          ]
        }
      ],
      "source": [
        "#connect to google drive\n",
        "# from google.colab import drive\n",
        "# drive.mount('/content/drive')"
      ]
    },
    {
      "cell_type": "code",
      "execution_count": null,
      "metadata": {
        "id": "21KoJTUBpHnt"
      },
      "outputs": [],
      "source": [
        "# from zipfile import ZipFile\n",
        "# # extract file into google drive only excute once\n",
        "\n",
        "# with ZipFile(\"/content/drive/MyDrive/comp3710A3SRCNN/ADNI_AD_NC_2D.zip\", \"r\") as zipobj:\n",
        "#     zipobj.extractall(\"/content/drive/MyDrive/comp3710A3SRCNN/ADNI_AD_NC_2D\")"
      ]
    },
    {
      "cell_type": "code",
      "execution_count": null,
      "metadata": {
        "id": "hHfw3DfIp2us"
      },
      "outputs": [],
      "source": [
        "import tensorflow as tf\n",
        "from tensorflow.keras.utils import get_file\n",
        "from tensorflow.keras.preprocessing import image_dataset_from_directory\n",
        "from IPython.display import display\n",
        "from tensorflow.keras.preprocessing.image import img_to_array\n",
        "from tensorflow.keras.preprocessing.image import array_to_img"
      ]
    },
    {
      "cell_type": "code",
      "execution_count": null,
      "metadata": {
        "colab": {
          "base_uri": "https://localhost:8080/"
        },
        "id": "zaTADedIp6zz",
        "outputId": "5f69ef20-0e23-4b5e-c10d-e5aea7d0fe6b"
      },
      "outputs": [
        {
          "name": "stdout",
          "output_type": "stream",
          "text": [
            "Found 21520 files belonging to 1 classes.\n",
            "Using 15064 files for training.\n",
            "train data:  <BatchDataset element_spec=TensorSpec(shape=(None, 128, 128, 3), dtype=tf.float32, name=None)>\n",
            "Found 21520 files belonging to 1 classes.\n",
            "Using 6456 files for validation.\n",
            "val data:  <BatchDataset element_spec=TensorSpec(shape=(None, 128, 128, 3), dtype=tf.float32, name=None)>\n",
            "Found 9000 files belonging to 1 classes.\n",
            "test data:  <BatchDataset element_spec=TensorSpec(shape=(None, 128, 128, 3), dtype=tf.float32, name=None)>\n"
          ]
        }
      ],
      "source": [
        "# return data set(in batch size) from directory where each images belong to one \n",
        "# class is in the subdirectory \n",
        "# load data\n",
        "def get_train():\n",
        "    data_train = image_dataset_from_directory(\n",
        "        \"/content/drive/MyDrive/comp3710A3SRCNN/ADNI_AD_NC_2D/AD_NC/train\", labels = \"inferred\", label_mode= None, image_size=(128, 128), batch_size=32, validation_split=0.3, subset=\"training\", seed=1\n",
        "    )\n",
        "\n",
        "    train_dataset = data_train.map(lambda x: x / 255.0)\n",
        "    print(\"train data: \", data_train)\n",
        "    return train_dataset\n",
        "train_data = get_train()\n",
        "\n",
        "def get_validation():\n",
        "    data_val = image_dataset_from_directory(\n",
        "        \"/content/drive/MyDrive/comp3710A3SRCNN/ADNI_AD_NC_2D/AD_NC/train\", labels = \"inferred\", label_mode= None, image_size=(128, 128), batch_size=32, validation_split=0.3, subset=\"validation\", seed=1\n",
        "    )\n",
        "\n",
        "    val_dataset = data_val.map(lambda x: x / 255.0)\n",
        "    print(\"val data: \", data_val)\n",
        "    return val_dataset\n",
        "val_data = get_validation()\n",
        "\n",
        "\n",
        "def get_test():\n",
        "    data_test = image_dataset_from_directory(\n",
        "        \"/content/drive/MyDrive/comp3710A3SRCNN/ADNI_AD_NC_2D/AD_NC/test\", labels = \"inferred\", label_mode= None, image_size=(128, 128), batch_size=32\n",
        "    )\n",
        "\n",
        "    test_dataset = data_test.map(lambda x: x / 255.0)\n",
        "    print(\"test data: \", data_test)\n",
        "    return test_dataset\n",
        "test_data = get_test()"
      ]
    },
    {
      "cell_type": "code",
      "execution_count": null,
      "metadata": {
        "colab": {
          "base_uri": "https://localhost:8080/"
        },
        "id": "e8H-mIcxqTa1",
        "outputId": "4ef7e68f-1561-4bab-af65-76c087a49f60"
      },
      "outputs": [
        {
          "name": "stdout",
          "output_type": "stream",
          "text": [
            "----------\n",
            "(None, 32, 32, 3)\n",
            "(None, 128, 128, 3)\n",
            "----------\n",
            "(None, 32, 32, 3)\n",
            "(None, 128, 128, 3)\n",
            "----------\n",
            "(None, 32, 32, 3)\n",
            "(None, 128, 128, 3)\n"
          ]
        },
        {
          "data": {
            "text/plain": [
              "<PrefetchDataset element_spec=(TensorSpec(shape=(None, 128, 128, 3), dtype=tf.float32, name=None), TensorSpec(shape=(None, 128, 128, 3), dtype=tf.float32, name=None))>"
            ]
          },
          "execution_count": 3,
          "metadata": {},
          "output_type": "execute_result"
        }
      ],
      "source": [
        "\"\"\" rerurn img array representation of one image, return img array reprentation \"\"\"\n",
        "def get_img(data):\n",
        "    # returns a dataset equivalent to iterate over with form of (data, label),\n",
        "    imgs = data.take(1)\n",
        "    iterator = iter(imgs)\n",
        "    img_array = iterator.get_next()[0]\n",
        "    return img_array\n",
        "\n",
        "def resize_img(img_data, size):\n",
        "    resized_img_data = tf.image.resize(img_data, [size, size], method='bicubic')\n",
        "    resized_img_data = tf.image.resize(resized_img_data, (128, 128), method='bicubic')\n",
        "    return resized_img_data\n",
        "\n",
        "\"\"\" resize the all the train image data and display the first image\"\"\"\n",
        "@tf.autograph.experimental.do_not_convert\n",
        "def resize_img_flow(data, size):\n",
        "    data = data.map(\n",
        "        lambda x: (resize_img(x, size), x))\n",
        "    return data\n",
        "resized_train_data = resize_img_flow(train_data, 32)\n",
        "resized_train_data.prefetch(buffer_size=tf.data.experimental.AUTOTUNE)\n",
        "\n",
        "resized_val = resize_img_flow(val_data, 32)\n",
        "resized_val.prefetch(buffer_size=tf.data.experimental.AUTOTUNE)\n",
        "\n",
        "resized_test = resize_img_flow(test_data, 32)\n",
        "resized_test.prefetch(buffer_size=tf.data.experimental.AUTOTUNE)"
      ]
    },
    {
      "cell_type": "code",
      "execution_count": null,
      "metadata": {
        "colab": {
          "base_uri": "https://localhost:8080/"
        },
        "id": "rs2P-eFRqhQN",
        "outputId": "7fc6b141-dbfd-44af-d6da-8179c4f5d736"
      },
      "outputs": [
        {
          "name": "stdout",
          "output_type": "stream",
          "text": [
            "Model: \"model\"\n",
            "_________________________________________________________________\n",
            " Layer (type)                Output Shape              Param #   \n",
            "=================================================================\n",
            " input_1 (InputLayer)        [(None, 128, 128, 3)]     0         \n",
            "                                                                 \n",
            " conv2d (Conv2D)             (None, 128, 128, 64)      15616     \n",
            "                                                                 \n",
            " conv2d_1 (Conv2D)           (None, 128, 128, 32)      2080      \n",
            "                                                                 \n",
            " conv2d_2 (Conv2D)           (None, 128, 128, 3)       2403      \n",
            "                                                                 \n",
            "=================================================================\n",
            "Total params: 20,099\n",
            "Trainable params: 20,099\n",
            "Non-trainable params: 0\n",
            "_________________________________________________________________\n"
          ]
        }
      ],
      "source": [
        "# buld model \n",
        "from tensorflow.keras.layers import Conv2D, Input\n",
        "from tensorflow.keras import Model\n",
        "\n",
        "\n",
        "def get_model():\n",
        "    height, width = 128, 128\n",
        "    input_img = Input((height, width, 3))\n",
        "    lay = Conv2D(64, (9,9), padding = 'same', activation= 'relu')(input_img)\n",
        "    lay = Conv2D(32, (1,1), padding = 'same', activation= 'relu')(lay)\n",
        "    lay = Conv2D(3, (5,5), padding = 'same', activation= 'relu')(lay)\n",
        "    model = Model(inputs=input_img, outputs=lay)\n",
        "    model.summary()\n",
        "    return model\n",
        "\n",
        "\n",
        "model = get_model()\n",
        "\n",
        "from tensorflow.keras.losses import MeanSquaredError\n",
        "from tensorflow.keras.optimizers import Adam\n",
        "\n",
        "# loss function\n",
        "loss_fun = MeanSquaredError()\n",
        "optimizer_Adam = Adam(0.001)\n",
        "\n",
        "\n",
        "model.compile(loss=loss_fun, optimizer=optimizer_Adam, metrics=['MeanSquaredError'])\n",
        "\n"
      ]
    },
    {
      "cell_type": "code",
      "execution_count": null,
      "metadata": {
        "colab": {
          "base_uri": "https://localhost:8080/"
        },
        "id": "rNQheRya76CD",
        "outputId": "49abd0e2-59be-4ea0-c677-7dec6666a244"
      },
      "outputs": [
        {
          "data": {
            "text/plain": [
              "<MapDataset element_spec=(TensorSpec(shape=(None, 128, 128, 3), dtype=tf.float32, name=None), TensorSpec(shape=(None, 128, 128, 3), dtype=tf.float32, name=None))>"
            ]
          },
          "execution_count": 7,
          "metadata": {},
          "output_type": "execute_result"
        }
      ],
      "source": [
        "# resized_train_data\n",
        "# resized_val"
      ]
    },
    {
      "cell_type": "code",
      "execution_count": null,
      "metadata": {
        "colab": {
          "base_uri": "https://localhost:8080/"
        },
        "id": "XekatHfDqnTz",
        "outputId": "70798dc1-b3e2-4612-a5d9-eebb56e9b724"
      },
      "outputs": [
        {
          "name": "stdout",
          "output_type": "stream",
          "text": [
            "Epoch 1/20\n",
            "471/471 [==============================] - 38s 79ms/step - loss: 0.0036 - mean_squared_error: 0.0036 - val_loss: 0.0035 - val_mean_squared_error: 0.0035\n",
            "Epoch 2/20\n",
            "471/471 [==============================] - 38s 80ms/step - loss: 0.0035 - mean_squared_error: 0.0035 - val_loss: 0.0036 - val_mean_squared_error: 0.0036\n",
            "Epoch 3/20\n",
            "471/471 [==============================] - 38s 80ms/step - loss: 0.0035 - mean_squared_error: 0.0035 - val_loss: 0.0035 - val_mean_squared_error: 0.0035\n",
            "Epoch 4/20\n",
            "471/471 [==============================] - 37s 78ms/step - loss: 0.0035 - mean_squared_error: 0.0035 - val_loss: 0.0035 - val_mean_squared_error: 0.0035\n",
            "Epoch 5/20\n",
            "471/471 [==============================] - 37s 78ms/step - loss: 0.0035 - mean_squared_error: 0.0035 - val_loss: 0.0035 - val_mean_squared_error: 0.0035\n",
            "Epoch 6/20\n",
            "471/471 [==============================] - 37s 78ms/step - loss: 0.0035 - mean_squared_error: 0.0035 - val_loss: 0.0035 - val_mean_squared_error: 0.0035\n",
            "Epoch 7/20\n",
            "471/471 [==============================] - 37s 79ms/step - loss: 0.0035 - mean_squared_error: 0.0035 - val_loss: 0.0035 - val_mean_squared_error: 0.0035\n",
            "Epoch 8/20\n",
            "471/471 [==============================] - 38s 80ms/step - loss: 0.0035 - mean_squared_error: 0.0035 - val_loss: 0.0035 - val_mean_squared_error: 0.0035\n",
            "Epoch 9/20\n",
            "471/471 [==============================] - 39s 81ms/step - loss: 0.0035 - mean_squared_error: 0.0035 - val_loss: 0.0035 - val_mean_squared_error: 0.0035\n",
            "Epoch 10/20\n",
            "471/471 [==============================] - 38s 79ms/step - loss: 0.0035 - mean_squared_error: 0.0035 - val_loss: 0.0036 - val_mean_squared_error: 0.0036\n",
            "Epoch 11/20\n",
            "471/471 [==============================] - 37s 78ms/step - loss: 0.0035 - mean_squared_error: 0.0035 - val_loss: 0.0035 - val_mean_squared_error: 0.0035\n",
            "Epoch 12/20\n",
            "471/471 [==============================] - 38s 79ms/step - loss: 0.0035 - mean_squared_error: 0.0035 - val_loss: 0.0035 - val_mean_squared_error: 0.0035\n",
            "Epoch 13/20\n",
            "471/471 [==============================] - 37s 79ms/step - loss: 0.0035 - mean_squared_error: 0.0035 - val_loss: 0.0035 - val_mean_squared_error: 0.0035\n",
            "Epoch 14/20\n",
            "471/471 [==============================] - 37s 79ms/step - loss: 0.0035 - mean_squared_error: 0.0035 - val_loss: 0.0035 - val_mean_squared_error: 0.0035\n",
            "Epoch 15/20\n",
            "471/471 [==============================] - 37s 78ms/step - loss: 0.0035 - mean_squared_error: 0.0035 - val_loss: 0.0035 - val_mean_squared_error: 0.0035\n",
            "Epoch 16/20\n",
            "471/471 [==============================] - 37s 79ms/step - loss: 0.0035 - mean_squared_error: 0.0035 - val_loss: 0.0035 - val_mean_squared_error: 0.0035\n",
            "Epoch 17/20\n",
            "471/471 [==============================] - 37s 78ms/step - loss: 0.0035 - mean_squared_error: 0.0035 - val_loss: 0.0035 - val_mean_squared_error: 0.0035\n",
            "Epoch 18/20\n",
            "471/471 [==============================] - 38s 80ms/step - loss: 0.0035 - mean_squared_error: 0.0035 - val_loss: 0.0035 - val_mean_squared_error: 0.0035\n",
            "Epoch 19/20\n",
            "471/471 [==============================] - 37s 79ms/step - loss: 0.0035 - mean_squared_error: 0.0035 - val_loss: 0.0035 - val_mean_squared_error: 0.0035\n",
            "Epoch 20/20\n",
            "471/471 [==============================] - 38s 80ms/step - loss: 0.0035 - mean_squared_error: 0.0035 - val_loss: 0.0035 - val_mean_squared_error: 0.0035\n"
          ]
        }
      ],
      "source": [
        "epoch = 20\n",
        "history = model.fit(resized_train_data, epochs=epoch, validation_data=resized_val)"
      ]
    },
    {
      "cell_type": "code",
      "execution_count": null,
      "metadata": {
        "id": "WgM_ZUVbJETz"
      },
      "outputs": [],
      "source": [
        "# model.save_weights('/content/drive/MyDrive/comp3710A3SRCNN/model/modeH5_{}.h5'.format(epoch+245))\n"
      ]
    },
    {
      "cell_type": "code",
      "execution_count": null,
      "metadata": {
        "id": "ljNK-gkOeIFy"
      },
      "outputs": [],
      "source": [
        "model.load_weights('/content/drive/MyDrive/comp3710A3SRCNN/model/modeH5_245.h5')"
      ]
    },
    {
      "cell_type": "code",
      "execution_count": null,
      "metadata": {
        "colab": {
          "base_uri": "https://localhost:8080/",
          "height": 540
        },
        "id": "bl7PseqlJv8H",
        "outputId": "bc770252-69bd-4504-a73a-060801d04b00"
      },
      "outputs": [
        {
          "name": "stdout",
          "output_type": "stream",
          "text": [
            "original----------\n"
          ]
        },
        {
          "data": {
            "image/png": "[encoded data removed]",
            "text/plain": [
              "<PIL.Image.Image image mode=RGB size=128x128 at 0x7F545054F610>"
            ]
          },
          "metadata": {},
          "output_type": "display_data"
        },
        {
          "name": "stdout",
          "output_type": "stream",
          "text": [
            "resized----------\n",
            "----------\n",
            "(32, 32, 3)\n",
            "(128, 128, 3)\n"
          ]
        },
        {
          "data": {
            "image/png": "[encoded data removed]",
            "text/plain": [
              "<PIL.Image.Image image mode=RGB size=128x128 at 0x7F5450134F10>"
            ]
          },
          "metadata": {},
          "output_type": "display_data"
        },
        {
          "name": "stdout",
          "output_type": "stream",
          "text": [
            "(128, 128, 3)\n",
            "(1, 128, 128, 3)\n",
            "----------predict----------\n"
          ]
        },
        {
          "data": {
            "image/png": "[encoded data removed]",
            "text/plain": [
              "<PIL.Image.Image image mode=RGB size=128x128 at 0x7F545014D550>"
            ]
          },
          "metadata": {},
          "output_type": "display_data"
        }
      ],
      "source": [
        "# compare the result of original,resized and model predicted\n",
        "def predict_comparion(test_ds):\n",
        "\n",
        "    print(\"original----------\")\n",
        "    test_one_img_data = get_img(test_ds)\n",
        "    test_img_one = array_to_img(test_one_img_data) \n",
        "    display(test_img_one)\n",
        "\n",
        "    print(\"small image resized--------\")\n",
        "    small_img_data = tf.image.resize(test_one_img_data, [32, 32], method='bicubic')\n",
        "    small_img = array_to_img(small_img_data) \n",
        "    display(small_img)\n",
        "\n",
        "    print(\"resized----------\")\n",
        "    resized_img_array = resize_img(test_one_img_data, 32)\n",
        "    resized_test_one_img = array_to_img(resized_img_array) \n",
        "    display(resized_test_one_img)\n",
        "    print(resized_img_array.shape) #(128, 128, 3)\n",
        "    resized_img_array = tf.expand_dims(resized_img_array, axis = 0) # for feed into model prediction\n",
        "    print(resized_img_array.shape) # (1, 128, 128, 3)\n",
        "\n",
        "    print(\"----------predict----------\")\n",
        "    predict_result_one_data = model.predict(resized_img_array)\n",
        "    predict_img_one = array_to_img(predict_result_one_data[0])\n",
        "    display(predict_img_one)\n",
        "\n",
        "predict_comparion(test_data)"
      ]
    },
    {
      "cell_type": "code",
      "execution_count": null,
      "metadata": {
        "colab": {
          "base_uri": "https://localhost:8080/",
          "height": 340
        },
        "id": "BS5TLLhwGCYJ",
        "outputId": "74f21728-69c5-4ae8-8a65-55814d8b50f2"
      },
      "outputs": [
        {
          "data": {
            "image/png": "[encoded data removed]",
            "text/plain": [
              "<Figure size 432x288 with 2 Axes>"
            ]
          },
          "metadata": {
            "needs_background": "light"
          },
          "output_type": "display_data"
        }
      ],
      "source": [
        "import matplotlib.pyplot as plt\n",
        "\n",
        "def make_plot(history, epoch):\n",
        "  acc_list = history.history['mean_squared_error']\n",
        "  loss_list = history.history['loss']\n",
        "\n",
        "  x_epoch = [i for i in range(epoch)]\n",
        "\n",
        "  fig = plt.figure()\n",
        "  ax1 = fig.add_subplot(211)\n",
        "  fig.tight_layout(h_pad=5)\n",
        "  ax1.plot(x_epoch, acc_list, label='mean_squared_error')\n",
        "  ax1.set_xlabel(\"number of epoch\")\n",
        "  ax1.set_ylabel(\"maginitude value\")\n",
        "  ax1.set_title(\"metrics(mean_squared_error)\")\n",
        "  ax2 = fig.add_subplot(212)\n",
        "  ax2.plot(x_epoch, loss_list, label='loss')\n",
        "  ax2.set_xlabel(\"number of epoch\")\n",
        "  ax2.set_ylabel(\"maginitude value\")\n",
        "  ax2.set_title(\"loss\")\n",
        "  plt.show()\n",
        "make_plot(history, epoch)"
      ]
    }
  ],
  "metadata": {
    "accelerator": "GPU",
    "colab": {
      "provenance": []
    },
    "kernelspec": {
      "display_name": "Python 3.8.13 ('tf-gpu')",
      "language": "python",
      "name": "python3"
    },
    "language_info": {
      "name": "python",
      "version": "3.8.13"
    },
    "vscode": {
      "interpreter": {
        "hash": "e7ab5a5c4b7d7fe5b98fe2b64600af1c76341f3ee65726b7e273b3ed987ae7d6"
      }
    }
  },
  "nbformat": 4,
  "nbformat_minor": 0
}
