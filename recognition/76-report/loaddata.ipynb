{
 "cells": [
  {
   "cell_type": "code",
   "execution_count": 1,
   "metadata": {},
   "outputs": [],
   "source": [
    "#load data\n",
    "import os\n",
    "import sys\n",
    "import random\n",
    "import warnings\n",
    "from skimage.io import imread, imshow, imread_collection, concatenate_images\n",
    "from skimage.transform import resize\n",
    "from skimage.morphology import label\n",
    "import numpy as np\n",
    "import pandas as pd\n",
    "os.chdir('C:/Users/s4547877/Downloads/')"
   ]
  },
  {
   "cell_type": "code",
   "execution_count": 2,
   "metadata": {},
   "outputs": [],
   "source": [
    "input_PATH='./ISIC2018_Task1-2_Training_Input_x2/'\n",
    "\n",
    "input_ids = next(os.walk(input_PATH))[2]  "
   ]
  },
  {
   "cell_type": "code",
   "execution_count": 3,
   "metadata": {},
   "outputs": [],
   "source": [
    "truth_PATH='./ISIC2018_Task1_Training_GroundTruth_x2/'\n",
    "truth_ids = next(os.walk(truth_PATH))[2] "
   ]
  },
  {
   "cell_type": "code",
   "execution_count": 21,
   "metadata": {},
   "outputs": [],
   "source": [
    "image_size=[256,256]\n",
    "#image_resize=[256,256]"
   ]
  },
  {
   "cell_type": "code",
   "execution_count": 22,
   "metadata": {},
   "outputs": [],
   "source": [
    "X_input = np.zeros((len(input_ids), image_size[0],image_size[1],3), dtype=np.uint8)\n",
    "Y_input = np.zeros((len(input_ids), image_size[0],image_size[1],1), dtype=np.uint8)"
   ]
  },
  {
   "cell_type": "code",
   "execution_count": 23,
   "metadata": {},
   "outputs": [
    {
     "name": "stdout",
     "output_type": "stream",
     "text": [
      "./ISIC2018_Task1-2_Training_Input_x2/ISIC_0000000.jpg\n"
     ]
    }
   ],
   "source": [
    "print(input_PATH + input_ids[0])"
   ]
  },
  {
   "cell_type": "code",
   "execution_count": 49,
   "metadata": {},
   "outputs": [
    {
     "name": "stdout",
     "output_type": "stream",
     "text": [
      "(384, 511, 3)\n",
      "(384, 511)\n"
     ]
    },
    {
     "data": {
      "image/png": "[encoded data removed]",
      "text/plain": [
       "<Figure size 432x288 with 1 Axes>"
      ]
     },
     "metadata": {
      "needs_background": "light"
     },
     "output_type": "display_data"
    }
   ],
   "source": [
    "import matplotlib.pyplot as plt\n",
    "img = imread(input_PATH + input_ids[1])\n",
    "#img = resize(img, (IMG_HEIGHT, IMG_WIDTH), mode='constant', preserve_range=True)\n",
    "print(img.shape)\n",
    "# plt.imshow(img)\n",
    "# plt.show()\n",
    "img1 = imread(truth_PATH + truth_ids[1])\n",
    "print(img1.shape)\n",
    "plt.imshow(img1)\n",
    "plt.show()"
   ]
  },
  {
   "cell_type": "code",
   "execution_count": 50,
   "metadata": {},
   "outputs": [
    {
     "data": {
      "text/plain": [
       "array([0.        , 0.00392157, 0.00784314, 0.01176471, 0.01568627,\n",
       "       0.01960784, 0.02352941, 0.02745098, 0.03137255, 0.03529412,\n",
       "       0.03921569, 0.04313725, 0.04705882, 0.05098039, 0.05490196,\n",
       "       0.0627451 , 0.06666667, 0.07058824, 0.0745098 , 0.07843137,\n",
       "       0.08235294, 0.09019608, 0.09803922, 0.10196078, 0.10588235,\n",
       "       0.10980392, 0.11372549, 0.11764706, 0.1254902 , 0.12941176,\n",
       "       0.1372549 , 0.14117647, 0.14509804, 0.14901961, 0.15294118,\n",
       "       0.15686275, 0.16078431, 0.16470588, 0.17254902, 0.17647059,\n",
       "       0.18039216, 0.18431373, 0.18823529, 0.19215686, 0.19607843,\n",
       "       0.2       , 0.20392157, 0.20784314, 0.21176471, 0.21568627,\n",
       "       0.21960784, 0.22352941, 0.22745098, 0.23137255, 0.23529412,\n",
       "       0.23921569, 0.24313725, 0.24705882, 0.25098039, 0.25882353,\n",
       "       0.2627451 , 0.26666667, 0.27058824, 0.2745098 , 0.27843137,\n",
       "       0.28235294, 0.28627451, 0.29019608, 0.29411765, 0.30196078,\n",
       "       0.30588235, 0.30980392, 0.31372549, 0.31764706, 0.32156863,\n",
       "       0.3254902 , 0.32941176, 0.33333333, 0.3372549 , 0.34117647,\n",
       "       0.34509804, 0.34901961, 0.35294118, 0.35686275, 0.36078431,\n",
       "       0.36470588, 0.37647059, 0.38039216, 0.38431373, 0.38823529,\n",
       "       0.39215686, 0.39607843, 0.4       , 0.40392157, 0.40784314,\n",
       "       0.41960784, 0.43137255, 0.44313725, 0.44705882, 0.45490196,\n",
       "       0.45882353, 0.4627451 , 0.46666667, 0.4745098 , 0.48235294,\n",
       "       0.48627451, 0.49019608, 0.49411765, 0.49803922, 0.50196078,\n",
       "       0.50588235, 0.50980392, 0.51372549, 0.51764706, 0.52156863,\n",
       "       0.5254902 , 0.52941176, 0.53333333, 0.5372549 , 0.54117647,\n",
       "       0.54901961, 0.55294118, 0.55686275, 0.56078431, 0.56470588,\n",
       "       0.56862745, 0.57254902, 0.57647059, 0.58823529, 0.59215686,\n",
       "       0.6       , 0.60392157, 0.61568627, 0.61960784, 0.62352941,\n",
       "       0.62745098, 0.63137255, 0.63529412, 0.63921569, 0.64313725,\n",
       "       0.65490196, 0.66666667, 0.67058824, 0.6745098 , 0.68235294,\n",
       "       0.69019608, 0.69803922, 0.70980392, 0.71372549, 0.71764706,\n",
       "       0.72156863, 0.7254902 , 0.72941176, 0.7372549 , 0.74117647,\n",
       "       0.74509804, 0.74901961, 0.75294118, 0.76078431, 0.76470588,\n",
       "       0.76862745, 0.77254902, 0.77647059, 0.78039216, 0.78431373,\n",
       "       0.78823529, 0.79215686, 0.79607843, 0.8       , 0.80392157,\n",
       "       0.80784314, 0.81176471, 0.81568627, 0.81960784, 0.82352941,\n",
       "       0.82745098, 0.83137255, 0.83529412, 0.83921569, 0.84313725,\n",
       "       0.84705882, 0.85098039, 0.85490196, 0.85882353, 0.8627451 ,\n",
       "       0.86666667, 0.87058824, 0.8745098 , 0.87843137, 0.88235294,\n",
       "       0.88627451, 0.89019608, 0.89411765, 0.89803922, 0.90196078,\n",
       "       0.90588235, 0.90980392, 0.91372549, 0.92156863, 0.9254902 ,\n",
       "       0.92941176, 0.93333333, 0.9372549 , 0.94509804, 0.95686275,\n",
       "       0.96078431, 0.96862745, 0.97254902, 0.97647059, 0.98039216,\n",
       "       0.98431373, 0.98823529, 0.99215686, 0.99607843, 1.        ])"
      ]
     },
     "execution_count": 50,
     "metadata": {},
     "output_type": "execute_result"
    }
   ],
   "source": [
    "img1=img1/255\n",
    "np.unique(img1)"
   ]
  },
  {
   "cell_type": "code",
   "execution_count": 11,
   "metadata": {},
   "outputs": [
    {
     "name": "stdout",
     "output_type": "stream",
     "text": [
      "2594\n",
      "2594\n"
     ]
    }
   ],
   "source": [
    "X = []\n",
    "y = []\n",
    "for f in os.listdir(input_PATH):\n",
    "    #print(f\"{f} is a input image\")\n",
    "    y.append(f)\n",
    "for i in os.listdir(truth_PATH):\n",
    "    #print(f\"{i} is an label image\")\n",
    "    X.append(i)\n",
    "\n",
    "print(len(X))\n",
    "print(len(y))"
   ]
  },
  {
   "cell_type": "code",
   "execution_count": 26,
   "metadata": {},
   "outputs": [
    {
     "name": "stderr",
     "output_type": "stream",
     "text": [
      "100%|██████████████████████████████████████████████████████████████████████████████| 2594/2594 [10:27<00:00,  4.13it/s]\n"
     ]
    }
   ],
   "source": [
    "from tqdm import tqdm\n",
    "sys.stdout.flush()\n",
    "for n, id_ in tqdm(enumerate(input_ids), total=len(input_ids)):\n",
    "    img = imread(input_PATH + id_ )   \n",
    "    img = resize(img, (image_size[0], image_size[1]), mode='constant', preserve_range=True)\n",
    "    #img = np.expand_dims(img,-1)\n",
    "    X_input[n] = img"
   ]
  },
  {
   "cell_type": "code",
   "execution_count": 30,
   "metadata": {},
   "outputs": [
    {
     "name": "stderr",
     "output_type": "stream",
     "text": [
      "100%|██████████████████████████████████████████████████████████████████████████████| 2594/2594 [02:59<00:00, 14.48it/s]\n"
     ]
    }
   ],
   "source": [
    "sys.stdout.flush()\n",
    "for n, id_ in tqdm(enumerate(truth_ids), total=len(truth_ids)):\n",
    "    label = imread(truth_PATH + id_ )\n",
    "    label = resize(label, (image_size[0], image_size[1]), mode='constant', preserve_range=True)\n",
    "    label = np.expand_dims(label,-1)\n",
    "    Y_input[n] = label"
   ]
  },
  {
   "cell_type": "code",
   "execution_count": 34,
   "metadata": {},
   "outputs": [
    {
     "name": "stdout",
     "output_type": "stream",
     "text": [
      "Requirement already satisfied: sklearn in c:\\programdata\\anaconda3\\envs\\76-env\\lib\\site-packages (0.0)\n",
      "Requirement already satisfied: scikit-learn in c:\\programdata\\anaconda3\\envs\\76-env\\lib\\site-packages (from sklearn) (0.23.2)\n",
      "Requirement already satisfied: joblib>=0.11 in c:\\programdata\\anaconda3\\envs\\76-env\\lib\\site-packages (from scikit-learn->sklearn) (0.17.0)\n",
      "Requirement already satisfied: scipy>=0.19.1 in c:\\users\\s4547877\\appdata\\roaming\\python\\python37\\site-packages (from scikit-learn->sklearn) (1.4.1)\n",
      "Requirement already satisfied: threadpoolctl>=2.0.0 in c:\\programdata\\anaconda3\\envs\\76-env\\lib\\site-packages (from scikit-learn->sklearn) (2.1.0)\n",
      "Requirement already satisfied: numpy>=1.13.3 in c:\\users\\s4547877\\appdata\\roaming\\python\\python37\\site-packages (from scikit-learn->sklearn) (1.18.5)\n"
     ]
    }
   ],
   "source": [
    "!pip install sklearn"
   ]
  },
  {
   "cell_type": "code",
   "execution_count": 47,
   "metadata": {},
   "outputs": [],
   "source": [
    "from sklearn.model_selection import train_test_split\n",
    "X_train, y_train, X_test, y_test = train_test_split(X_input,Y_input, test_size=0.20)"
   ]
  },
  {
   "cell_type": "code",
   "execution_count": 48,
   "metadata": {},
   "outputs": [
    {
     "name": "stdout",
     "output_type": "stream",
     "text": [
      "(2075, 256, 256, 3)\n"
     ]
    }
   ],
   "source": [
    "print(X_train.shape)"
   ]
  },
  {
   "cell_type": "code",
   "execution_count": 56,
   "metadata": {},
   "outputs": [],
   "source": [
    "y_train=y_train/255\n",
    "y_test=y_test/255"
   ]
  },
  {
   "cell_type": "code",
   "execution_count": 57,
   "metadata": {},
   "outputs": [
    {
     "data": {
      "text/plain": [
       "array([0.        , 0.00392157, 0.00784314, 0.01176471, 0.01568627,\n",
       "       0.01960784, 0.02352941, 0.02745098, 0.03137255, 0.03529412,\n",
       "       0.03921569, 0.04313725, 0.04705882, 0.05098039, 0.05490196,\n",
       "       0.05882353, 0.0627451 , 0.06666667, 0.07058824, 0.0745098 ,\n",
       "       0.07843137, 0.08235294, 0.08627451, 0.09019608, 0.09411765,\n",
       "       0.09803922, 0.10196078, 0.10588235, 0.10980392, 0.11372549,\n",
       "       0.11764706, 0.12156863, 0.1254902 , 0.12941176, 0.13333333,\n",
       "       0.1372549 , 0.14117647, 0.14509804, 0.14901961, 0.15294118,\n",
       "       0.15686275, 0.16078431, 0.16470588, 0.16862745, 0.17254902,\n",
       "       0.17647059, 0.18039216, 0.18431373, 0.18823529, 0.19215686,\n",
       "       0.19607843, 0.2       , 0.20392157, 0.20784314, 0.21176471,\n",
       "       0.21568627, 0.21960784, 0.22352941, 0.22745098, 0.23137255,\n",
       "       0.23529412, 0.23921569, 0.24313725, 0.24705882, 0.25098039,\n",
       "       0.25490196, 0.25882353, 0.2627451 , 0.26666667, 0.27058824,\n",
       "       0.2745098 , 0.27843137, 0.28235294, 0.28627451, 0.29019608,\n",
       "       0.29411765, 0.29803922, 0.30196078, 0.30588235, 0.30980392,\n",
       "       0.31372549, 0.31764706, 0.32156863, 0.3254902 , 0.32941176,\n",
       "       0.33333333, 0.3372549 , 0.34117647, 0.34509804, 0.34901961,\n",
       "       0.35294118, 0.35686275, 0.36078431, 0.36470588, 0.36862745,\n",
       "       0.37254902, 0.37647059, 0.38039216, 0.38431373, 0.38823529,\n",
       "       0.39215686, 0.39607843, 0.4       , 0.40392157, 0.40784314,\n",
       "       0.41176471, 0.41568627, 0.41960784, 0.42352941, 0.42745098,\n",
       "       0.43137255, 0.43529412, 0.43921569, 0.44313725, 0.44705882,\n",
       "       0.45098039, 0.45490196, 0.45882353, 0.4627451 , 0.46666667,\n",
       "       0.47058824, 0.4745098 , 0.47843137, 0.48235294, 0.48627451,\n",
       "       0.49019608, 0.49411765, 0.49803922, 0.50196078, 0.50588235,\n",
       "       0.50980392, 0.51372549, 0.51764706, 0.52156863, 0.5254902 ,\n",
       "       0.52941176, 0.53333333, 0.5372549 , 0.54117647, 0.54509804,\n",
       "       0.54901961, 0.55294118, 0.55686275, 0.56078431, 0.56470588,\n",
       "       0.56862745, 0.57254902, 0.57647059, 0.58039216, 0.58431373,\n",
       "       0.58823529, 0.59215686, 0.59607843, 0.6       , 0.60392157,\n",
       "       0.60784314, 0.61176471, 0.61568627, 0.61960784, 0.62352941,\n",
       "       0.62745098, 0.63137255, 0.63529412, 0.63921569, 0.64313725,\n",
       "       0.64705882, 0.65098039, 0.65490196, 0.65882353, 0.6627451 ,\n",
       "       0.66666667, 0.67058824, 0.6745098 , 0.67843137, 0.68235294,\n",
       "       0.68627451, 0.69019608, 0.69411765, 0.69803922, 0.70196078,\n",
       "       0.70588235, 0.70980392, 0.71372549, 0.71764706, 0.72156863,\n",
       "       0.7254902 , 0.72941176, 0.73333333, 0.7372549 , 0.74117647,\n",
       "       0.74509804, 0.74901961, 0.75294118, 0.75686275, 0.76078431,\n",
       "       0.76470588, 0.76862745, 0.77254902, 0.77647059, 0.78039216,\n",
       "       0.78431373, 0.78823529, 0.79215686, 0.79607843, 0.8       ,\n",
       "       0.80392157, 0.80784314, 0.81176471, 0.81568627, 0.81960784,\n",
       "       0.82352941, 0.82745098, 0.83137255, 0.83529412, 0.83921569,\n",
       "       0.84313725, 0.84705882, 0.85098039, 0.85490196, 0.85882353,\n",
       "       0.8627451 , 0.86666667, 0.87058824, 0.8745098 , 0.87843137,\n",
       "       0.88235294, 0.88627451, 0.89019608, 0.89411765, 0.89803922,\n",
       "       0.90196078, 0.90588235, 0.90980392, 0.91372549, 0.91764706,\n",
       "       0.92156863, 0.9254902 , 0.92941176, 0.93333333, 0.9372549 ,\n",
       "       0.94117647, 0.94509804, 0.94901961, 0.95294118, 0.95686275,\n",
       "       0.96078431, 0.96470588, 0.96862745, 0.97254902, 0.97647059,\n",
       "       0.98039216, 0.98431373, 0.98823529, 0.99215686, 0.99607843,\n",
       "       1.        ])"
      ]
     },
     "execution_count": 57,
     "metadata": {},
     "output_type": "execute_result"
    }
   ],
   "source": [
    "np.unique(y_train)"
   ]
  },
  {
   "cell_type": "code",
   "execution_count": null,
   "metadata": {},
   "outputs": [],
   "source": [
    "nonzero_idxs = np.where(y_train >= 0.5)[0]\n",
    "y_train[nonzero_idxs] = 1"
   ]
  },
  {
   "cell_type": "code",
   "execution_count": null,
   "metadata": {},
   "outputs": [],
   "source": [
    "nonzero_idxs = np.where(y_train < 0.5)[0]\n",
    "y_train[nonzero_idxs] = 0"
   ]
  },
  {
   "cell_type": "code",
   "execution_count": null,
   "metadata": {},
   "outputs": [],
   "source": [
    "nonzero_idxs = np.where(y_test >= 0.5)[0]\n",
    "y_test[nonzero_idxs] = 1"
   ]
  },
  {
   "cell_type": "code",
   "execution_count": null,
   "metadata": {},
   "outputs": [],
   "source": [
    "nonzero_idxs = np.where(y_test < 0.5)[0]\n",
    "y_test[nonzero_idxs] = 0"
   ]
  }
 ],
 "metadata": {
  "kernelspec": {
   "display_name": "Python 3",
   "language": "python",
   "name": "python3"
  },
  "language_info": {
   "codemirror_mode": {
    "name": "ipython",
    "version": 3
   },
   "file_extension": ".py",
   "mimetype": "text/x-python",
   "name": "python",
   "nbconvert_exporter": "python",
   "pygments_lexer": "ipython3",
   "version": "3.7.9"
  }
 },
 "nbformat": 4,
 "nbformat_minor": 4
}
