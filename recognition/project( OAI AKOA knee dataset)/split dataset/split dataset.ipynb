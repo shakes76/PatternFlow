{
 "cells": [
  {
   "cell_type": "code",
   "execution_count": 1,
   "metadata": {},
   "outputs": [],
   "source": [
    "__author__ = 'xiaomeng cai'\n",
    "__date__ = '10/14/2020 '\n",
    " \n",
    "import shutil\n",
    "import os\n",
    "import re\n",
    "\n",
    "path = r'E:\\COMP3710DATA\\AKOA_Analysis'\n",
    "files_list = os.listdir(path)"
   ]
  },
  {
   "cell_type": "code",
   "execution_count": 2,
   "metadata": {},
   "outputs": [],
   "source": [
    "len(files_list)"
   ]
  },
  {
   "cell_type": "code",
   "execution_count": 3,
   "metadata": {},
   "outputs": [],
   "source": [
    "left_path = r\"E:\\COMP3710DATA\\left\"\n",
    "right_path = r\"E:\\COMP3710DATA\\right\""
   ]
  },
  {
   "cell_type": "code",
   "execution_count": 5,
   "metadata": {},
   "outputs": [],
   "source": [
    "# split the dataset into 2 classes(right, left).\n",
    "for file in files_list:\n",
    "    file_name = re.split('[_.]',file)\n",
    "    if \"RIGHT\" in file_name:\n",
    "        shutil.move(os.path.join(path,file),os.path.join(right_path,file))\n",
    "    else:\n",
    "        shutil.move(os.path.join(path,file),os.path.join(left_path,file))"
   ]
  },
  {
   "cell_type": "code",
   "execution_count": 6,
   "metadata": {},
   "outputs": [],
   "source": [
    "# split the dataset into train, validation and test dataset\n",
    "base_path = r'E:\\COMP3710DATA\\dataset'"
   ]
  },
  {
   "cell_type": "code",
   "execution_count": 7,
   "metadata": {},
   "outputs": [],
   "source": [
    "train_dir = os.path.join(base_path, 'train')\n",
    "os.mkdir(train_dir)\n",
    "validation_dir = os.path.join(base_path, 'validation')\n",
    "os.mkdir(validation_dir)\n",
    "test_dir = os.path.join(base_path, 'test')\n",
    "os.mkdir(test_dir)"
   ]
  },
  {
   "cell_type": "code",
   "execution_count": 10,
   "metadata": {},
   "outputs": [],
   "source": [
    "train_right_dir = os.path.join(train_dir, 'right')\n",
    "os.mkdir(train_right_dir)\n",
    "train_left_dir = os.path.join(train_dir, 'left')\n",
    "os.mkdir(train_left_dir)"
   ]
  },
  {
   "cell_type": "code",
   "execution_count": 12,
   "metadata": {},
   "outputs": [],
   "source": [
    "validation_right_dir = os.path.join(validation_dir, 'right')\n",
    "os.mkdir(validation_right_dir)\n",
    "validation_left_dir = os.path.join(validation_dir, 'left')\n",
    "os.mkdir(validation_left_dir)"
   ]
  },
  {
   "cell_type": "code",
   "execution_count": 13,
   "metadata": {},
   "outputs": [],
   "source": [
    "test_right_dir = os.path.join(test_dir, 'right')\n",
    "os.mkdir(test_right_dir)\n",
    "test_left_dir = os.path.join(test_dir, 'left')\n",
    "os.mkdir(test_left_dir)"
   ]
  },
  {
   "cell_type": "code",
   "execution_count": 14,
   "metadata": {},
   "outputs": [],
   "source": [
    "def copy_images (path1,path2,num1,num2):\n",
    "    for file in os.listdir(path1)[num1:num2]:\n",
    "        src = os.path.join(path1, file)\n",
    "        dst = os.path.join(path2, file)\n",
    "        shutil.copyfile(src, dst)"
   ]
  },
  {
   "cell_type": "code",
   "execution_count": 15,
   "metadata": {},
   "outputs": [],
   "source": [
    "copy_images(left_path,train_left_dir,0,6000)\n",
    "copy_images(left_path,validation_left_dir,6000,8000)\n",
    "copy_images(left_path,test_left_dir,8000,9040)"
   ]
  },
  {
   "cell_type": "code",
   "execution_count": 16,
   "metadata": {},
   "outputs": [],
   "source": [
    "copy_images(right_path,train_right_dir,0,6000)\n",
    "copy_images(right_path,validation_right_dir,6000,8000)\n",
    "copy_images(right_path,test_right_dir,8000,9640)"
   ]
  }
 ],
 "metadata": {
  "kernelspec": {
   "display_name": "Python 3",
   "language": "python",
   "name": "python3"
  },
  "language_info": {
   "codemirror_mode": {
    "name": "ipython",
    "version": 3
   },
   "file_extension": ".py",
   "mimetype": "text/x-python",
   "name": "python",
   "nbconvert_exporter": "python",
   "pygments_lexer": "ipython3",
   "version": "3.7.1"
  }
 },
 "nbformat": 4,
 "nbformat_minor": 2
}
