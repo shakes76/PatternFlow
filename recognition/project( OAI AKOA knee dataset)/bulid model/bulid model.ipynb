{
 "cells": [
  {
   "cell_type": "code",
   "execution_count": 1,
   "metadata": {},
   "outputs": [
    {
     "name": "stderr",
     "output_type": "stream",
     "text": [
      "C:\\ProgramData\\Anaconda3\\lib\\site-packages\\tensorflow\\python\\framework\\dtypes.py:516: FutureWarning: Passing (type, 1) or '1type' as a synonym of type is deprecated; in a future version of numpy, it will be understood as (type, (1,)) / '(1,)type'.\n",
      "  _np_qint8 = np.dtype([(\"qint8\", np.int8, 1)])\n",
      "C:\\ProgramData\\Anaconda3\\lib\\site-packages\\tensorflow\\python\\framework\\dtypes.py:517: FutureWarning: Passing (type, 1) or '1type' as a synonym of type is deprecated; in a future version of numpy, it will be understood as (type, (1,)) / '(1,)type'.\n",
      "  _np_quint8 = np.dtype([(\"quint8\", np.uint8, 1)])\n",
      "C:\\ProgramData\\Anaconda3\\lib\\site-packages\\tensorflow\\python\\framework\\dtypes.py:518: FutureWarning: Passing (type, 1) or '1type' as a synonym of type is deprecated; in a future version of numpy, it will be understood as (type, (1,)) / '(1,)type'.\n",
      "  _np_qint16 = np.dtype([(\"qint16\", np.int16, 1)])\n",
      "C:\\ProgramData\\Anaconda3\\lib\\site-packages\\tensorflow\\python\\framework\\dtypes.py:519: FutureWarning: Passing (type, 1) or '1type' as a synonym of type is deprecated; in a future version of numpy, it will be understood as (type, (1,)) / '(1,)type'.\n",
      "  _np_quint16 = np.dtype([(\"quint16\", np.uint16, 1)])\n",
      "C:\\ProgramData\\Anaconda3\\lib\\site-packages\\tensorflow\\python\\framework\\dtypes.py:520: FutureWarning: Passing (type, 1) or '1type' as a synonym of type is deprecated; in a future version of numpy, it will be understood as (type, (1,)) / '(1,)type'.\n",
      "  _np_qint32 = np.dtype([(\"qint32\", np.int32, 1)])\n",
      "C:\\ProgramData\\Anaconda3\\lib\\site-packages\\tensorflow\\python\\framework\\dtypes.py:525: FutureWarning: Passing (type, 1) or '1type' as a synonym of type is deprecated; in a future version of numpy, it will be understood as (type, (1,)) / '(1,)type'.\n",
      "  np_resource = np.dtype([(\"resource\", np.ubyte, 1)])\n",
      "C:\\ProgramData\\Anaconda3\\lib\\site-packages\\tensorboard\\compat\\tensorflow_stub\\dtypes.py:541: FutureWarning: Passing (type, 1) or '1type' as a synonym of type is deprecated; in a future version of numpy, it will be understood as (type, (1,)) / '(1,)type'.\n",
      "  _np_qint8 = np.dtype([(\"qint8\", np.int8, 1)])\n",
      "C:\\ProgramData\\Anaconda3\\lib\\site-packages\\tensorboard\\compat\\tensorflow_stub\\dtypes.py:542: FutureWarning: Passing (type, 1) or '1type' as a synonym of type is deprecated; in a future version of numpy, it will be understood as (type, (1,)) / '(1,)type'.\n",
      "  _np_quint8 = np.dtype([(\"quint8\", np.uint8, 1)])\n",
      "C:\\ProgramData\\Anaconda3\\lib\\site-packages\\tensorboard\\compat\\tensorflow_stub\\dtypes.py:543: FutureWarning: Passing (type, 1) or '1type' as a synonym of type is deprecated; in a future version of numpy, it will be understood as (type, (1,)) / '(1,)type'.\n",
      "  _np_qint16 = np.dtype([(\"qint16\", np.int16, 1)])\n",
      "C:\\ProgramData\\Anaconda3\\lib\\site-packages\\tensorboard\\compat\\tensorflow_stub\\dtypes.py:544: FutureWarning: Passing (type, 1) or '1type' as a synonym of type is deprecated; in a future version of numpy, it will be understood as (type, (1,)) / '(1,)type'.\n",
      "  _np_quint16 = np.dtype([(\"quint16\", np.uint16, 1)])\n",
      "C:\\ProgramData\\Anaconda3\\lib\\site-packages\\tensorboard\\compat\\tensorflow_stub\\dtypes.py:545: FutureWarning: Passing (type, 1) or '1type' as a synonym of type is deprecated; in a future version of numpy, it will be understood as (type, (1,)) / '(1,)type'.\n",
      "  _np_qint32 = np.dtype([(\"qint32\", np.int32, 1)])\n",
      "C:\\ProgramData\\Anaconda3\\lib\\site-packages\\tensorboard\\compat\\tensorflow_stub\\dtypes.py:550: FutureWarning: Passing (type, 1) or '1type' as a synonym of type is deprecated; in a future version of numpy, it will be understood as (type, (1,)) / '(1,)type'.\n",
      "  np_resource = np.dtype([(\"resource\", np.ubyte, 1)])\n"
     ]
    }
   ],
   "source": [
    "import tensorflow as tf\n",
    "from tensorflow import keras"
   ]
  },
  {
   "cell_type": "code",
   "execution_count": 2,
   "metadata": {},
   "outputs": [
    {
     "name": "stdout",
     "output_type": "stream",
     "text": [
      "WARNING:tensorflow:From C:\\ProgramData\\Anaconda3\\lib\\site-packages\\tensorflow\\python\\ops\\init_ops.py:1251: calling VarianceScaling.__init__ (from tensorflow.python.ops.init_ops) with dtype is deprecated and will be removed in a future version.\n",
      "Instructions for updating:\n",
      "Call initializer instance with the dtype argument instead of passing it to the constructor\n"
     ]
    }
   ],
   "source": [
    "model= keras.models.Sequential()\n",
    "model.add(keras.layers.Conv2D(32,(3,3),activation='relu',input_shape=(150,150,3)))\n",
    "model.add(keras.layers.MaxPooling2D((2, 2)))\n",
    "model.add(keras.layers.Conv2D(64, (3, 3), activation='relu'))\n",
    "model.add(keras.layers.MaxPooling2D((2, 2)))\n",
    "model.add(keras.layers.Conv2D(128, (3, 3), activation='relu'))\n",
    "model.add(keras.layers.MaxPooling2D((2, 2)))\n",
    "model.add(keras.layers.Conv2D(128, (3, 3), activation='relu'))\n",
    "model.add(keras.layers.MaxPooling2D((2, 2)))\n",
    "model.add(keras.layers.Flatten())\n",
    "model.add(keras.layers.Dropout(0.5))\n",
    "model.add(keras.layers.Dense(512, activation='relu'))\n",
    "model.add(keras.layers.Dense(1, activation='sigmoid'))"
   ]
  },
  {
   "cell_type": "code",
   "execution_count": 3,
   "metadata": {},
   "outputs": [
    {
     "name": "stdout",
     "output_type": "stream",
     "text": [
      "WARNING:tensorflow:From C:\\ProgramData\\Anaconda3\\lib\\site-packages\\tensorflow\\python\\ops\\nn_impl.py:180: add_dispatch_support.<locals>.wrapper (from tensorflow.python.ops.array_ops) is deprecated and will be removed in a future version.\n",
      "Instructions for updating:\n",
      "Use tf.where in 2.0, which has the same broadcast rule as np.where\n"
     ]
    }
   ],
   "source": [
    "model.compile(loss='binary_crossentropy',optimizer=keras.optimizers.RMSprop(lr=1e-4),metrics=['acc'])"
   ]
  },
  {
   "cell_type": "code",
   "execution_count": 4,
   "metadata": {},
   "outputs": [],
   "source": [
    "train_datagen =keras.preprocessing.image.ImageDataGenerator(rescale=1./255)\n",
    "validation_datagen =keras.preprocessing.image.ImageDataGenerator(rescale=1./255)"
   ]
  },
  {
   "cell_type": "code",
   "execution_count": 5,
   "metadata": {},
   "outputs": [],
   "source": [
    "train_dir = r'C:\\Users\\s4549082\\Downloads\\dataset\\train'\n",
    "validation_dir = r'C:\\Users\\s4549082\\Downloads\\dataset\\validation'"
   ]
  },
  {
   "cell_type": "code",
   "execution_count": 6,
   "metadata": {},
   "outputs": [
    {
     "name": "stdout",
     "output_type": "stream",
     "text": [
      "Found 12000 images belonging to 2 classes.\n"
     ]
    }
   ],
   "source": [
    "train_generator = train_datagen.flow_from_directory(\n",
    "        train_dir,\n",
    "        target_size=(150, 150),\n",
    "        batch_size=32,\n",
    "        class_mode='binary')"
   ]
  },
  {
   "cell_type": "code",
   "execution_count": 7,
   "metadata": {},
   "outputs": [
    {
     "name": "stdout",
     "output_type": "stream",
     "text": [
      "Found 4000 images belonging to 2 classes.\n"
     ]
    }
   ],
   "source": [
    "validation_generator = validation_datagen.flow_from_directory(\n",
    "        validation_dir,\n",
    "        target_size=(150, 150),\n",
    "        batch_size=32,\n",
    "        class_mode='binary')"
   ]
  },
  {
   "cell_type": "code",
   "execution_count": 8,
   "metadata": {},
   "outputs": [],
   "source": [
    "from PIL import ImageFile\n",
    "ImageFile.LOAD_TRUNCATED_IMAGES = True"
   ]
  },
  {
   "cell_type": "code",
   "execution_count": 9,
   "metadata": {},
   "outputs": [],
   "source": [
    "es = tf.keras.callbacks.EarlyStopping(monitor='val_acc', patience=20)"
   ]
  },
  {
   "cell_type": "code",
   "execution_count": 10,
   "metadata": {},
   "outputs": [
    {
     "name": "stdout",
     "output_type": "stream",
     "text": [
      "Epoch 1/1500\n",
      "375/375 [==============================] - 27s 71ms/step - loss: 0.2903 - acc: 0.8798 - val_loss: 0.0654 - val_acc: 0.9921\n",
      "Epoch 2/1500\n",
      "375/375 [==============================] - 25s 67ms/step - loss: 0.1373 - acc: 0.9497 - val_loss: 0.0594 - val_acc: 0.9823\n",
      "Epoch 3/1500\n",
      "375/375 [==============================] - 25s 67ms/step - loss: 0.0757 - acc: 0.9733 - val_loss: 0.0492 - val_acc: 0.9854\n",
      "Epoch 4/1500\n",
      "375/375 [==============================] - 25s 67ms/step - loss: 0.0447 - acc: 0.9862 - val_loss: 0.0498 - val_acc: 0.9865\n",
      "Epoch 5/1500\n",
      "375/375 [==============================] - 25s 68ms/step - loss: 0.0349 - acc: 0.9875 - val_loss: 0.0361 - val_acc: 0.98920354 - acc:\n",
      "Epoch 6/1500\n",
      "375/375 [==============================] - 25s 67ms/step - loss: 0.0280 - acc: 0.9909 - val_loss: 0.0463 - val_acc: 0.9850\n",
      "Epoch 7/1500\n",
      "375/375 [==============================] - 25s 67ms/step - loss: 0.0224 - acc: 0.9924 - val_loss: 0.0460 - val_acc: 0.9879\n",
      "Epoch 8/1500\n",
      "375/375 [==============================] - 25s 67ms/step - loss: 0.0165 - acc: 0.9947 - val_loss: 0.0732 - val_acc: 0.9742\n",
      "Epoch 9/1500\n",
      "375/375 [==============================] - 25s 67ms/step - loss: 0.0155 - acc: 0.9952 - val_loss: 0.0658 - val_acc: 0.9754\n",
      "Epoch 10/1500\n",
      "375/375 [==============================] - 25s 67ms/step - loss: 0.0143 - acc: 0.9952 - val_loss: 0.0649 - val_acc: 0.9810\n",
      "Epoch 11/1500\n",
      "375/375 [==============================] - 25s 67ms/step - loss: 0.0127 - acc: 0.9956 - val_loss: 0.0910 - val_acc: 0.9733\n",
      "Epoch 12/1500\n",
      "375/375 [==============================] - 25s 66ms/step - loss: 0.0113 - acc: 0.9959 - val_loss: 0.0338 - val_acc: 0.9927\n",
      "Epoch 13/1500\n",
      "375/375 [==============================] - 25s 67ms/step - loss: 0.0097 - acc: 0.9964 - val_loss: 0.1250 - val_acc: 0.9796\n",
      "Epoch 14/1500\n",
      "375/375 [==============================] - 25s 67ms/step - loss: 0.0072 - acc: 0.9976 - val_loss: 0.0815 - val_acc: 0.9819\n",
      "Epoch 15/1500\n",
      "375/375 [==============================] - 25s 67ms/step - loss: 0.0070 - acc: 0.9973 - val_loss: 0.0620 - val_acc: 0.9869\n",
      "Epoch 16/1500\n",
      "375/375 [==============================] - 25s 68ms/step - loss: 0.0070 - acc: 0.9976 - val_loss: 0.0660 - val_acc: 0.9827\n",
      "Epoch 17/1500\n",
      "375/375 [==============================] - 25s 67ms/step - loss: 0.0062 - acc: 0.9977 - val_loss: 0.0839 - val_acc: 0.9840\n",
      "Epoch 18/1500\n",
      "375/375 [==============================] - 25s 67ms/step - loss: 0.0064 - acc: 0.9980 - val_loss: 0.0767 - val_acc: 0.9796\n",
      "Epoch 19/1500\n",
      "375/375 [==============================] - 25s 67ms/step - loss: 0.0058 - acc: 0.9979 - val_loss: 0.1076 - val_acc: 0.9835\n",
      "Epoch 20/1500\n",
      "375/375 [==============================] - 25s 67ms/step - loss: 0.0047 - acc: 0.9982 - val_loss: 0.1079 - val_acc: 0.9771\n",
      "Epoch 21/1500\n",
      "375/375 [==============================] - 25s 67ms/step - loss: 0.0041 - acc: 0.9989 - val_loss: 0.1034 - val_acc: 0.9775\n",
      "Epoch 22/1500\n",
      "375/375 [==============================] - 25s 67ms/step - loss: 0.0048 - acc: 0.9987 - val_loss: 0.1061 - val_acc: 0.9825\n",
      "Epoch 23/1500\n",
      "375/375 [==============================] - 25s 67ms/step - loss: 0.0036 - acc: 0.9985 - val_loss: 0.0932 - val_acc: 0.9844\n",
      "Epoch 24/1500\n",
      "375/375 [==============================] - 25s 68ms/step - loss: 0.0034 - acc: 0.9992 - val_loss: 0.0669 - val_acc: 0.9900\n",
      "Epoch 25/1500\n",
      "375/375 [==============================] - 25s 67ms/step - loss: 0.0025 - acc: 0.9993 - val_loss: 0.0907 - val_acc: 0.9831\n",
      "Epoch 26/1500\n",
      "375/375 [==============================] - 25s 66ms/step - loss: 0.0028 - acc: 0.9989 - val_loss: 0.1549 - val_acc: 0.9844\n",
      "Epoch 27/1500\n",
      "375/375 [==============================] - 26s 68ms/step - loss: 0.0027 - acc: 0.9992 - val_loss: 0.0751 - val_acc: 0.9825\n",
      "Epoch 28/1500\n",
      "375/375 [==============================] - 25s 67ms/step - loss: 0.0035 - acc: 0.9991 - val_loss: 0.0411 - val_acc: 0.9923\n",
      "Epoch 29/1500\n",
      "375/375 [==============================] - 25s 65ms/step - loss: 0.0041 - acc: 0.9985 - val_loss: 0.0611 - val_acc: 0.9867 0.0 - ETA: 6s - lo - ETA: 0s - loss: 0.0040 - acc\n",
      "Epoch 30/1500\n",
      "375/375 [==============================] - 25s 66ms/step - loss: 0.0035 - acc: 0.9991 - val_loss: 0.1106 - val_acc: 0.98460025 - acc: \n",
      "Epoch 31/1500\n",
      "375/375 [==============================] - 24s 65ms/step - loss: 0.0014 - acc: 0.9997 - val_loss: 0.1339 - val_acc: 0.9742\n",
      "Epoch 32/1500\n",
      "375/375 [==============================] - 24s 65ms/step - loss: 0.0022 - acc: 0.9994 - val_loss: 0.0806 - val_acc: 0.9785s: 0.0017 - ac - ETA: 8s - l - ETA: 6s - l - ET - ETA: 1s - loss: 0.0022 - acc: 0. - ETA: 0s - loss: 0.0022 - acc:  - ETA: 0s - loss: 0.0022 - acc: 0.99 - ETA: 0s - loss: 0.0022 - acc: 0.999\n"
     ]
    }
   ],
   "source": [
    "history = model.fit(\n",
    "          train_generator,\n",
    "          steps_per_epoch=12000/32,\n",
    "          epochs=1500,\n",
    "          validation_data=validation_generator,\n",
    "          validation_steps=150,\n",
    "          callbacks=[es]\n",
    ")"
   ]
  },
  {
   "cell_type": "code",
   "execution_count": 11,
   "metadata": {},
   "outputs": [],
   "source": [
    "model.save('trained_model.h5')"
   ]
  },
  {
   "cell_type": "code",
   "execution_count": 12,
   "metadata": {},
   "outputs": [
    {
     "data": {
      "image/png": "[encoded data removed]",
      "text/plain": [
       "<Figure size 432x288 with 1 Axes>"
      ]
     },
     "metadata": {
      "needs_background": "light"
     },
     "output_type": "display_data"
    },
    {
     "data": {
      "image/png": "[encoded data removed]",
      "text/plain": [
       "<Figure size 432x288 with 1 Axes>"
      ]
     },
     "metadata": {
      "needs_background": "light"
     },
     "output_type": "display_data"
    }
   ],
   "source": [
    "import matplotlib.pyplot as plt\n",
    "acc = history.history['acc']\n",
    "val_acc = history.history['val_acc']\n",
    "loss = history.history['loss']\n",
    "val_loss = history.history['val_loss']\n",
    "epochs = range(1, len(acc) + 1)\n",
    "plt.plot(epochs, acc, 'bo', label='Training acc')\n",
    "plt.plot(epochs, val_acc, 'b', label='Validation acc')\n",
    "plt.title('Training and validation accuracy')\n",
    "plt.legend()\n",
    "plt.figure()\n",
    "plt.plot(epochs, loss, 'bo', label='Training loss')\n",
    "plt.plot(epochs, val_loss, 'b', label='Validation loss')\n",
    "plt.title('Training and validation loss')\n",
    "plt.legend()\n",
    "plt.show()"
   ]
  },
  {
   "cell_type": "code",
   "execution_count": 13,
   "metadata": {},
   "outputs": [],
   "source": [
    "from numba import cuda \n",
    "device = cuda.get_current_device()\n",
    "device.reset()"
   ]
  },
  {
   "cell_type": "code",
   "execution_count": null,
   "metadata": {},
   "outputs": [],
   "source": []
  }
 ],
 "metadata": {
  "kernelspec": {
   "display_name": "Python 3",
   "language": "python",
   "name": "python3"
  },
  "language_info": {
   "codemirror_mode": {
    "name": "ipython",
    "version": 3
   },
   "file_extension": ".py",
   "mimetype": "text/x-python",
   "name": "python",
   "nbconvert_exporter": "python",
   "pygments_lexer": "ipython3",
   "version": "3.7.1"
  }
 },
 "nbformat": 4,
 "nbformat_minor": 2
}
