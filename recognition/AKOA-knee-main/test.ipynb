{
 "cells": [
  {
   "cell_type": "code",
   "execution_count": 1,
   "metadata": {},
   "outputs": [],
   "source": [
    "from pathlib import Path\n",
    "import tensorflow as tf\n",
    "\n",
    "from split import get_dataset"
   ]
  },
  {
   "cell_type": "code",
   "execution_count": 2,
   "metadata": {},
   "outputs": [],
   "source": [
    "data_root = 'data/'\n",
    "batch_size = 32\n",
    "# Load data\n",
    "trainset, valset, testset = get_dataset(data_root, batch_size)"
   ]
  },
  {
   "cell_type": "markdown",
   "metadata": {},
   "source": [
    "model definition：\n",
    "\n",
    "base_model = tf.keras.applications.resnet_v2.ResNet50V2(input_shape=(224, 224, 3), \n",
    "                                                              include_top=False)\n",
    "base_model.trainable = False # 冻结 base 层\n",
    "\n",
    "model = tf.keras.models.Sequential()\n",
    "model.add(base_model)\n",
    "model.add(tf.keras.layers.Conv2D(filters=8,kernel_size=1,activation='relu'))\n",
    "model.add(tf.keras.layers.Conv2D(filters=16,kernel_size=3,activation='relu'))\n",
    "model.add(tf.keras.layers.Conv2D(filters=32,kernel_size=3,activation='relu'))\n",
    "model.add(tf.keras.layers.Conv2D(filters=64,kernel_size=2,activation='relu'))\n",
    "model.add(tf.keras.layers.Conv2D(filters=128,kernel_size=1,activation='relu'))\n",
    "model.add(tf.keras.layers.GlobalAveragePooling2D())\n",
    "model.add(tf.keras.layers.Dense(2, activation='softmax'))\n",
    "\n",
    "model.summary()"
   ]
  },
  {
   "cell_type": "markdown",
   "metadata": {},
   "source": [
    "Model compile and train："
   ]
  },
  {
   "cell_type": "code",
   "execution_count": 6,
   "metadata": {
    "scrolled": true
   },
   "outputs": [
    {
     "name": "stdout",
     "output_type": "stream",
     "text": [
      "Epoch 1/10\n",
      "195/195 [==============================] - 102s 524ms/step - loss: 0.1020 - accuracy: 0.9529 - val_loss: 0.0075 - val_accuracy: 1.0000\n",
      "Epoch 2/10\n",
      "195/195 [==============================] - 97s 499ms/step - loss: 0.0062 - accuracy: 0.9974 - val_loss: 0.0076 - val_accuracy: 0.9937\n",
      "Epoch 3/10\n",
      "195/195 [==============================] - 93s 478ms/step - loss: 2.3950e-04 - accuracy: 1.0000 - val_loss: 4.7514e-04 - val_accuracy: 1.0000\n",
      "Epoch 4/10\n",
      "195/195 [==============================] - 94s 482ms/step - loss: 5.7865e-05 - accuracy: 1.0000 - val_loss: 3.4963e-05 - val_accuracy: 1.0000\n",
      "Epoch 5/10\n",
      "195/195 [==============================] - 92s 473ms/step - loss: 1.5204e-05 - accuracy: 1.0000 - val_loss: 6.7695e-05 - val_accuracy: 1.0000\n",
      "Epoch 6/10\n",
      "195/195 [==============================] - 92s 474ms/step - loss: 9.6587e-06 - accuracy: 1.0000 - val_loss: 8.2849e-05 - val_accuracy: 1.0000\n",
      "Epoch 7/10\n",
      "195/195 [==============================] - 95s 489ms/step - loss: 6.5725e-06 - accuracy: 1.0000 - val_loss: 2.9520e-06 - val_accuracy: 1.0000\n",
      "Epoch 8/10\n",
      "195/195 [==============================] - 92s 472ms/step - loss: 4.6912e-06 - accuracy: 1.0000 - val_loss: 1.8185e-04 - val_accuracy: 1.0000\n",
      "Epoch 9/10\n",
      "195/195 [==============================] - 93s 478ms/step - loss: 3.4689e-06 - accuracy: 1.0000 - val_loss: 1.3005e-06 - val_accuracy: 1.0000\n",
      "Epoch 10/10\n",
      "195/195 [==============================] - 92s 473ms/step - loss: 2.6424e-06 - accuracy: 1.0000 - val_loss: 2.8454e-06 - val_accuracy: 1.0000\n"
     ]
    }
   ],
   "source": [
    "model.compile(optimizer='adam',\n",
    "              loss='categorical_crossentropy',\n",
    "              metrics=['accuracy'])\n",
    "\n",
    "history = model.fit(\n",
    "    trainset,\n",
    "    epochs=10,\n",
    "    validation_data=valset,\n",
    "    validation_steps=10\n",
    ")"
   ]
  },
  {
   "cell_type": "markdown",
   "metadata": {},
   "source": [
    "Visualization："
   ]
  },
  {
   "cell_type": "code",
   "execution_count": 7,
   "metadata": {
    "scrolled": true
   },
   "outputs": [
    {
     "data": {
      "image/png": "[encoded data removed]",
      "text/plain": [
       "<Figure size 576x576 with 2 Axes>"
      ]
     },
     "metadata": {
      "needs_background": "light"
     },
     "output_type": "display_data"
    }
   ],
   "source": [
    "from matplotlib import pyplot as plt\n",
    "\n",
    "acc = history.history['accuracy']\n",
    "val_acc = history.history['val_accuracy']\n",
    "\n",
    "loss = history.history['loss']\n",
    "val_loss = history.history['val_loss']\n",
    "\n",
    "plt.figure(figsize=(8, 8))\n",
    "plt.subplot(2, 1, 1)\n",
    "plt.plot(acc, label='Training Accuracy')\n",
    "plt.plot(val_acc, label='Validation Accuracy')\n",
    "plt.legend(loc='lower right')\n",
    "plt.ylabel('Accuracy')\n",
    "#plt.ylim([min(plt.ylim()), 1])\n",
    "plt.title('Training and Validation Accuracy')\n",
    "\n",
    "plt.subplot(2, 1, 2)\n",
    "plt.plot(loss, label='Training Loss')\n",
    "plt.plot(val_loss, label='Validation Loss')\n",
    "plt.legend(loc='upper right')\n",
    "plt.ylabel('Cross Entropy')\n",
    "#plt.ylim([0, 1.0])\n",
    "plt.title('Training and Validation Loss')\n",
    "plt.xlabel('epoch')\n",
    "plt.show()"
   ]
  },
  {
   "cell_type": "markdown",
   "metadata": {},
   "source": [
    "## Evaluation and prediction"
   ]
  },
  {
   "cell_type": "code",
   "execution_count": 8,
   "metadata": {},
   "outputs": [
    {
     "name": "stdout",
     "output_type": "stream",
     "text": [
      "195/195 [==============================] - 72s 371ms/step - loss: 0.0035 - accuracy: 0.9986\n",
      "Test accuracy : 0.9985544681549072\n"
     ]
    }
   ],
   "source": [
    "loss, accuracy = model.evaluate(testset)\n"
   ]
  },
  {
   "cell_type": "code",
   "execution_count": 17,
   "metadata": {},
   "outputs": [
    {
     "name": "stdout",
     "output_type": "stream",
     "text": [
      "Test accuracy : 0.9985544681549072, loss 0.003493397030979395\n"
     ]
    }
   ],
   "source": [
    "print(f'Test accuracy : {accuracy}, loss {loss}', )"
   ]
  },
  {
   "cell_type": "code",
   "execution_count": 28,
   "metadata": {},
   "outputs": [
    {
     "data": {
      "text/plain": [
       "6240"
      ]
     },
     "execution_count": 28,
     "metadata": {},
     "output_type": "execute_result"
    }
   ],
   "source": [
    "len(testset) * batch_size"
   ]
  },
  {
   "cell_type": "code",
   "execution_count": 27,
   "metadata": {},
   "outputs": [
    {
     "data": {
      "text/plain": [
       "6226"
      ]
     },
     "execution_count": 27,
     "metadata": {},
     "output_type": "execute_result"
    }
   ],
   "source": [
    "k = 0\n",
    "for batch in testset:\n",
    "    k += len(batch[1])\n",
    "k"
   ]
  },
  {
   "cell_type": "code",
   "execution_count": null,
   "metadata": {},
   "outputs": [],
   "source": [
    "0.9990363121032715, loss 0.003378412453457713"
   ]
  }
 ],
 "metadata": {
  "kernelspec": {
   "display_name": "Python 3",
   "language": "python",
   "name": "python3"
  },
  "language_info": {
   "codemirror_mode": {
    "name": "ipython",
    "version": 3
   },
   "file_extension": ".py",
   "mimetype": "text/x-python",
   "name": "python",
   "nbconvert_exporter": "python",
   "pygments_lexer": "ipython3",
   "version": "3.7.9"
  }
 },
 "nbformat": 4,
 "nbformat_minor": 4
}
