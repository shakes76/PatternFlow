{
 "cells": [
  {
   "cell_type": "code",
   "execution_count": 8,
   "id": "01b43c79",
   "metadata": {},
   "outputs": [],
   "source": [
    "import tensorflow as tf\n",
    "import os\n",
    "import math\n",
    "import numpy as np\n",
    "from tensorflow.keras.preprocessing import image_dataset_from_directory"
   ]
  },
  {
   "cell_type": "code",
   "execution_count": 2,
   "id": "f1164c30",
   "metadata": {},
   "outputs": [],
   "source": [
    "crop_size = 300\n",
    "upscale_factor = 4\n",
    "input_size = crop_size // upscale_factor\n",
    "batch_size = 8"
   ]
  },
  {
   "cell_type": "code",
   "execution_count": 3,
   "id": "517a0fd2",
   "metadata": {},
   "outputs": [],
   "source": [
    "def setup_dataset(dir):\n",
    "\n",
    "    train_ds = image_dataset_from_directory(\n",
    "        dir,\n",
    "        batch_size=batch_size,\n",
    "        image_size=(crop_size, crop_size),\n",
    "        validation_split=0.2,\n",
    "        subset=\"training\",\n",
    "        seed=1337,\n",
    "        label_mode=None,\n",
    "    )\n",
    "\n",
    "    valid_ds = image_dataset_from_directory(\n",
    "        dir,\n",
    "        batch_size=batch_size,\n",
    "        image_size=(crop_size, crop_size),\n",
    "        validation_split=0.2,\n",
    "        subset=\"validation\",\n",
    "        seed=1337,\n",
    "        label_mode=None,\n",
    "    )\n",
    "    return train_ds, valid_ds"
   ]
  },
  {
   "cell_type": "code",
   "execution_count": 4,
   "id": "f59695c7",
   "metadata": {},
   "outputs": [],
   "source": [
    "def scaling(input_image):\n",
    "    input_image = input_image / 255.0\n",
    "    return input_image\n",
    "\n",
    "# Use TF Ops to process.\n",
    "def process_input(input, input_size, upscale_factor):\n",
    "    input = tf.image.rgb_to_yuv(input)\n",
    "    last_dimension_axis = len(input.shape) - 1\n",
    "    y, u, v = tf.split(input, 3, axis=last_dimension_axis)\n",
    "    return tf.image.resize(y, [input_size, input_size], method=\"area\")\n",
    "\n",
    "def process_target(input):\n",
    "    input = tf.image.rgb_to_yuv(input)\n",
    "    last_dimension_axis = len(input.shape) - 1\n",
    "    y, u, v = tf.split(input, 3, axis=last_dimension_axis)\n",
    "    return y"
   ]
  },
  {
   "cell_type": "code",
   "execution_count": 7,
   "id": "5bc10af1",
   "metadata": {},
   "outputs": [],
   "source": [
    "def test_imgs(test_dir):\n",
    "    dataset = os.path.join(test_dir, \"Combine\")\n",
    "\n",
    "    test_img_paths = sorted(\n",
    "        [\n",
    "            os.path.join(dataset, fname)\n",
    "            for fname in os.listdir(dataset)\n",
    "            if fname.endswith(\".jpeg\")\n",
    "        ]\n",
    "    )\n",
    "    return test_img_paths"
   ]
  },
  {
   "cell_type": "code",
   "execution_count": 6,
   "id": "57dc5bb1",
   "metadata": {},
   "outputs": [],
   "source": [
    "def dataset_preprocessing(train_ds,valid_ds):\n",
    "    # Scale from (0, 255) to (0, 1)\n",
    "    train_ds = train_ds.map(scaling)\n",
    "    valid_ds = valid_ds.map(scaling)\n",
    "    train_ds = train_ds.map(\n",
    "        lambda x: (process_input(x, input_size, upscale_factor), process_target(x))\n",
    "    )\n",
    "    train_ds = train_ds.prefetch(buffer_size=32)\n",
    "    valid_ds = valid_ds.map(\n",
    "        lambda x: (process_input(x, input_size, upscale_factor), process_target(x))\n",
    "    )\n",
    "    valid_ds = valid_ds.prefetch(buffer_size=32)\n",
    "    return train_ds, valid_ds"
   ]
  }
 ],
 "metadata": {
  "kernelspec": {
   "display_name": "Python 3 (ipykernel)",
   "language": "python",
   "name": "python3"
  },
  "language_info": {
   "codemirror_mode": {
    "name": "ipython",
    "version": 3
   },
   "file_extension": ".py",
   "mimetype": "text/x-python",
   "name": "python",
   "nbconvert_exporter": "python",
   "pygments_lexer": "ipython3",
   "version": "3.9.13"
  }
 },
 "nbformat": 4,
 "nbformat_minor": 5
}
