{
 "cells": [
  {
   "cell_type": "code",
   "execution_count": 3,
   "id": "1eed1cd8",
   "metadata": {},
   "outputs": [],
   "source": [
    "import tensorflow as tf\n",
    "from tensorflow import keras\n",
    "from tensorflow.keras import layers\n",
    "from tensorflow.keras.initializers import Orthogonal"
   ]
  },
  {
   "cell_type": "code",
   "execution_count": null,
   "id": "563c12a1",
   "metadata": {},
   "outputs": [],
   "source": [
    "def res_block(inputs, numLayers):\n",
    "\n",
    "    channels = inputs.get_shape()[-1]\n",
    "    storedOutputs = [inputs]\n",
    "    \n",
    "    # add layers\n",
    "    for _ in range(numLayers):\n",
    "        \n",
    "        # concatenate the previous outputs and pass it through a\n",
    "        # CONV layer, and append the output to the ongoing concatenation\n",
    "        \n",
    "        localConcat = tf.concat(storedOutputs, axis=-1)\n",
    "        out = layers.Conv2D(filters=channels, kernel_size=3, padding=\"same\",\n",
    "            activation=\"relu\",\n",
    "            kernel_initializer=\"Orthogonal\")(localConcat)\n",
    "        storedOutputs.append(out)\n",
    "        \n",
    "    # concatenate all the outputs, pass it through a pointwise\n",
    "    # convolutional layer, and add the outputs to initial inputs\n",
    "    finalConcat = tf.concat(storedOutputs, axis=-1)\n",
    "    finalOut = layers.Conv2D(filters=inputs.get_shape()[-1], kernel_size=1,\n",
    "        padding=\"same\", activation=\"relu\",\n",
    "        kernel_initializer=\"Orthogonal\")(finalConcat)\n",
    "    finalOut = layers.Add()([finalOut, inputs])\n",
    "    \n",
    "    return finalOut"
   ]
  },
  {
   "cell_type": "code",
   "execution_count": 4,
   "id": "9dc1e88b",
   "metadata": {},
   "outputs": [],
   "source": [
    "def get_model(upscale_factor=4, channels=1):\n",
    "    conv_args = {\n",
    "        \"activation\": \"relu\",\n",
    "        \"kernel_initializer\": \"Orthogonal\",\n",
    "        \"padding\": \"same\",\n",
    "    }\n",
    "    inputs = keras.Input(shape=(None, None, channels))\n",
    "    x = layers.Conv2D(64, 5, **conv_args)(inputs)\n",
    "    x = layers.Conv2D(64, 3, **conv_args)(x)\n",
    "    x = res_block(x, 3)\n",
    "    x = layers.Conv2D(32, 3, **conv_args)(x)\n",
    "    x = res_block(x, 3)\n",
    "    x = layers.Conv2D(channels * (upscale_factor ** 2), 3, **conv_args)(x)\n",
    "    outputs = tf.nn.depth_to_space(x, upscale_factor)\n",
    "\n",
    "    return keras.Model(inputs, outputs)"
   ]
  }
 ],
 "metadata": {
  "kernelspec": {
   "display_name": "Python 3 (ipykernel)",
   "language": "python",
   "name": "python3"
  },
  "language_info": {
   "codemirror_mode": {
    "name": "ipython",
    "version": 3
   },
   "file_extension": ".py",
   "mimetype": "text/x-python",
   "name": "python",
   "nbconvert_exporter": "python",
   "pygments_lexer": "ipython3",
   "version": "3.9.13"
  }
 },
 "nbformat": 4,
 "nbformat_minor": 5
}
