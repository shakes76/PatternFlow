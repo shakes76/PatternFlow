{
  "nbformat": 4,
  "nbformat_minor": 0,
  "metadata": {
    "colab": {
      "name": "Improved_UNet_Model.ipynb",
      "provenance": [],
      "collapsed_sections": [],
      "authorship_tag": "ABX9TyOy4FR2vkCjwwxMkOJfy/Dm",
      "include_colab_link": true
    },
    "kernelspec": {
      "name": "python3",
      "display_name": "Python 3"
    },
    "language_info": {
      "name": "python"
    }
  },
  "cells": [
    {
      "cell_type": "markdown",
      "metadata": {
        "id": "view-in-github",
        "colab_type": "text"
      },
      "source": [
        "<a href=\"https://colab.research.google.com/github/mparker2103/PatternFlow/blob/topic-recognition/recognition/s4436238_UNet/Improved_UNet_Model.ipynb\" target=\"_parent\"><img src=\"https://colab.research.google.com/assets/colab-badge.svg\" alt=\"Open In Colab\"/></a>"
      ]
    },
    {
      "cell_type": "code",
      "metadata": {
        "id": "biTCJAeADZyv"
      },
      "source": [
        "import tensorflow as tf\n",
        "from tensorflow.keras.layers import Input, Conv2D, MaxPooling2D, LeakyReLU, BatchNormalization, Dense, Dropout, UpSampling2D, Reshape, concatenate, add\n",
        "from tensorflow.keras.models import Model\n",
        "from keras import backend as k"
      ],
      "execution_count": 5,
      "outputs": []
    },
    {
      "cell_type": "code",
      "metadata": {
        "id": "V-5jUwDu19sn"
      },
      "source": [
        "depth = 16\n",
        "n = 256\n",
        "batch_size = 20\n",
        "epochs = 20"
      ],
      "execution_count": 6,
      "outputs": []
    },
    {
      "cell_type": "code",
      "metadata": {
        "id": "MWAPbPQUqIk0"
      },
      "source": [
        "def UNet():\n",
        "    # create the network\n",
        "    Inputs = Input(shape=(n,n,3), name='Inputs')\n",
        "\n",
        "    # Downsample 1\n",
        "    DownConv1 = Conv2D(depth, (3,3), padding='same', name='DownConv1')(Inputs)\n",
        "    Batch1 = BatchNormalization(name='Batch1')(DownConv1)\n",
        "    Relu1 = LeakyReLU(alpha=0.01, name='Relu1')(Batch1)\n",
        "    Dropout1 = Dropout(0.3, name='Dropout1')(Relu1)\n",
        "    Add1 = add([DownConv1, Dropout1], name='Add1')\n",
        "    Pool1 = MaxPooling2D(pool_size=(2,2), padding='same', name='Pool1')(Add1)\n",
        "\n",
        "    # Downsample 2\n",
        "    DownConv2 = Conv2D(depth*2, (3,3), strides=2, padding='same', name='DownConv2')(Pool1)\n",
        "    Batch2 = BatchNormalization(name='Batch2')(DownConv2)\n",
        "    Relu2 = LeakyReLU(alpha=0.01, name='Relu2')(Batch2)\n",
        "    Dropout2 = Dropout(0.3, name='Dropout2')(Relu2)\n",
        "    Add2 = add([DownConv2, Dropout2], name='Add2')\n",
        "    Pool2 = MaxPooling2D(pool_size=(2,2), padding='same', name='Pool2')(Add2)\n",
        "\n",
        "    # Downsample 3\n",
        "    DownConv3 = Conv2D(depth*4, (3,3), strides=2, padding='same', name='DownConv3')(Pool2)\n",
        "    Batch3 = BatchNormalization(name='Batch3')(DownConv3)\n",
        "    Relu3 = LeakyReLU(alpha=0.01, name='Relu3')(Batch3)\n",
        "    Dropout3 = Dropout(0.3, name='Dropout3')(Relu3)\n",
        "    Add3 = add([DownConv3, Dropout3], name='Add3')\n",
        "    Pool3 = MaxPooling2D(pool_size=(2,2), padding='same', name='Pool3')(Add3)\n",
        "\n",
        "    # Downsample 4\n",
        "    DownConv4 = Conv2D(depth*8, (3,3), strides=2, padding='same', name='DownConv4')(Pool3)\n",
        "    Batch4 = BatchNormalization(name='Batch4')(DownConv4)\n",
        "    Relu4 = LeakyReLU(alpha=0.01, name='Relu4')(Batch4)\n",
        "    Dropout4 = Dropout(0.3, name='Dropout4')(Relu4)\n",
        "    Add4 = add([DownConv4, Dropout4], name='Add4')\n",
        "    Pool4 = MaxPooling2D(pool_size=(2,2), padding='same', name='Pool4')(Add4)\n",
        "\n",
        "    # Middle Layer\n",
        "    MidConv1 = Conv2D(depth*16, (3,3), strides=2, padding='same', name='MidConv1')(Pool4)\n",
        "    MidConv2 = Conv2D(depth*16, (3,3), strides=2, padding='same', name='MidConv2')(MidConv1)\n",
        "\n",
        "    # Upsample 4\n",
        "    UpNet4_0 = UpSampling2D(size=(2,2), interpolation='bilinear', name='UpNet4_0')(MidConv2)\n",
        "    UpConv4 = Conv2D(depth*8, (3,3), padding='same', name='UpConv4')(UpNet4_0)\n",
        "    UpNet4_1 = UpSampling2D(size=(2,2), interpolation='bilinear', name='UpNet4_1')(UpConv4)\n",
        "    Concat4 = concatenate([UpNet4_1, DownConv4], axis=3, name='Concat4')\n",
        "\n",
        "    # Upsample 3\n",
        "    UpNet3_0 = UpSampling2D(size=(2,2), interpolation='bilinear', name='UpNet3_0')(Concat4)\n",
        "    UpConv3 = Conv2D(depth*4, (3,3), padding='same', name='UpConv3')(UpNet3_0)\n",
        "    UpNet3_1 = UpSampling2D(size=(2,2), interpolation='bilinear', name='UpNet3_1')(UpConv3)\n",
        "    Concat3 = concatenate([UpNet3_1, DownConv3], axis=3, name='Concat3')\n",
        "\n",
        "    # Upsample 2\n",
        "    UpNet2_0 = UpSampling2D(size=(2,2), interpolation='bilinear', name='UpNet2_0')(Concat3)\n",
        "    UpConv2 = Conv2D(depth*2, (3,3), padding='same', name='UpConv2')(UpNet2_0)\n",
        "    UpNet2_1 = UpSampling2D(size=(2,2), interpolation='bilinear', name='UpNet2_1')(UpConv2)\n",
        "    Concat2 = concatenate([UpNet2_1, DownConv2], axis=3, name='Concat2')\n",
        "\n",
        "    # Upsample 1\n",
        "    UpNet1_0 = UpSampling2D(size=(2,2), interpolation='bilinear', name='UpNet1_0')(Concat2)\n",
        "    UpConv1 = Conv2D(depth, (3,3), padding='same', name='UpConv1')(UpNet1_0)\n",
        "    UpNet1_1 = UpSampling2D(size=(2,2), interpolation='bilinear', name='UpNet1_1')(UpConv1)\n",
        "    Concat2 = concatenate([UpNet1_1, DownConv1], axis=3, name='Concat1')\n",
        "\n",
        "    # Reshape into two dimensions\n",
        "    dense = Dense(1, activation='softmax', name='Dense')(Concat2)\n",
        "    Outputs = Reshape((n, n), name='Outputs')(dense)\n",
        "\n",
        "    model = Model(Inputs, Outputs, name='UNet')\n",
        "    return model"
      ],
      "execution_count": 72,
      "outputs": []
    },
    {
      "cell_type": "code",
      "metadata": {
        "colab": {
          "base_uri": "https://localhost:8080/"
        },
        "id": "mNj_GQcfm7iW",
        "outputId": "0b9c30e9-9dc9-4e34-fc52-daaf76dda48b"
      },
      "source": [
        "model = UNet()\n",
        "model.summary()"
      ],
      "execution_count": 73,
      "outputs": [
        {
          "output_type": "stream",
          "name": "stdout",
          "text": [
            "Model: \"UNet\"\n",
            "__________________________________________________________________________________________________\n",
            "Layer (type)                    Output Shape         Param #     Connected to                     \n",
            "==================================================================================================\n",
            "Inputs (InputLayer)             [(None, 256, 256, 3) 0                                            \n",
            "__________________________________________________________________________________________________\n",
            "DownConv1 (Conv2D)              (None, 256, 256, 16) 448         Inputs[0][0]                     \n",
            "__________________________________________________________________________________________________\n",
            "Batch1 (BatchNormalization)     (None, 256, 256, 16) 64          DownConv1[0][0]                  \n",
            "__________________________________________________________________________________________________\n",
            "Relu1 (LeakyReLU)               (None, 256, 256, 16) 0           Batch1[0][0]                     \n",
            "__________________________________________________________________________________________________\n",
            "Dropout1 (Dropout)              (None, 256, 256, 16) 0           Relu1[0][0]                      \n",
            "__________________________________________________________________________________________________\n",
            "Add1 (Add)                      (None, 256, 256, 16) 0           DownConv1[0][0]                  \n",
            "                                                                 Dropout1[0][0]                   \n",
            "__________________________________________________________________________________________________\n",
            "Pool1 (MaxPooling2D)            (None, 128, 128, 16) 0           Add1[0][0]                       \n",
            "__________________________________________________________________________________________________\n",
            "DownConv2 (Conv2D)              (None, 64, 64, 32)   4640        Pool1[0][0]                      \n",
            "__________________________________________________________________________________________________\n",
            "Batch2 (BatchNormalization)     (None, 64, 64, 32)   128         DownConv2[0][0]                  \n",
            "__________________________________________________________________________________________________\n",
            "Relu2 (LeakyReLU)               (None, 64, 64, 32)   0           Batch2[0][0]                     \n",
            "__________________________________________________________________________________________________\n",
            "Dropout2 (Dropout)              (None, 64, 64, 32)   0           Relu2[0][0]                      \n",
            "__________________________________________________________________________________________________\n",
            "Add2 (Add)                      (None, 64, 64, 32)   0           DownConv2[0][0]                  \n",
            "                                                                 Dropout2[0][0]                   \n",
            "__________________________________________________________________________________________________\n",
            "Pool2 (MaxPooling2D)            (None, 32, 32, 32)   0           Add2[0][0]                       \n",
            "__________________________________________________________________________________________________\n",
            "DownConv3 (Conv2D)              (None, 16, 16, 64)   18496       Pool2[0][0]                      \n",
            "__________________________________________________________________________________________________\n",
            "Batch3 (BatchNormalization)     (None, 16, 16, 64)   256         DownConv3[0][0]                  \n",
            "__________________________________________________________________________________________________\n",
            "Relu3 (LeakyReLU)               (None, 16, 16, 64)   0           Batch3[0][0]                     \n",
            "__________________________________________________________________________________________________\n",
            "Dropout3 (Dropout)              (None, 16, 16, 64)   0           Relu3[0][0]                      \n",
            "__________________________________________________________________________________________________\n",
            "Add3 (Add)                      (None, 16, 16, 64)   0           DownConv3[0][0]                  \n",
            "                                                                 Dropout3[0][0]                   \n",
            "__________________________________________________________________________________________________\n",
            "Pool3 (MaxPooling2D)            (None, 8, 8, 64)     0           Add3[0][0]                       \n",
            "__________________________________________________________________________________________________\n",
            "DownConv4 (Conv2D)              (None, 4, 4, 128)    73856       Pool3[0][0]                      \n",
            "__________________________________________________________________________________________________\n",
            "Batch4 (BatchNormalization)     (None, 4, 4, 128)    512         DownConv4[0][0]                  \n",
            "__________________________________________________________________________________________________\n",
            "Relu4 (LeakyReLU)               (None, 4, 4, 128)    0           Batch4[0][0]                     \n",
            "__________________________________________________________________________________________________\n",
            "Dropout4 (Dropout)              (None, 4, 4, 128)    0           Relu4[0][0]                      \n",
            "__________________________________________________________________________________________________\n",
            "Add4 (Add)                      (None, 4, 4, 128)    0           DownConv4[0][0]                  \n",
            "                                                                 Dropout4[0][0]                   \n",
            "__________________________________________________________________________________________________\n",
            "Pool4 (MaxPooling2D)            (None, 2, 2, 128)    0           Add4[0][0]                       \n",
            "__________________________________________________________________________________________________\n",
            "MidConv1 (Conv2D)               (None, 1, 1, 256)    295168      Pool4[0][0]                      \n",
            "__________________________________________________________________________________________________\n",
            "MidConv2 (Conv2D)               (None, 1, 1, 256)    590080      MidConv1[0][0]                   \n",
            "__________________________________________________________________________________________________\n",
            "UpNet4_0 (UpSampling2D)         (None, 2, 2, 256)    0           MidConv2[0][0]                   \n",
            "__________________________________________________________________________________________________\n",
            "UpConv4 (Conv2D)                (None, 2, 2, 128)    295040      UpNet4_0[0][0]                   \n",
            "__________________________________________________________________________________________________\n",
            "UpNet4_1 (UpSampling2D)         (None, 4, 4, 128)    0           UpConv4[0][0]                    \n",
            "__________________________________________________________________________________________________\n",
            "Concat4 (Concatenate)           (None, 4, 4, 256)    0           UpNet4_1[0][0]                   \n",
            "                                                                 DownConv4[0][0]                  \n",
            "__________________________________________________________________________________________________\n",
            "UpNet3_0 (UpSampling2D)         (None, 8, 8, 256)    0           Concat4[0][0]                    \n",
            "__________________________________________________________________________________________________\n",
            "UpConv3 (Conv2D)                (None, 8, 8, 64)     147520      UpNet3_0[0][0]                   \n",
            "__________________________________________________________________________________________________\n",
            "UpNet3_1 (UpSampling2D)         (None, 16, 16, 64)   0           UpConv3[0][0]                    \n",
            "__________________________________________________________________________________________________\n",
            "Concat3 (Concatenate)           (None, 16, 16, 128)  0           UpNet3_1[0][0]                   \n",
            "                                                                 DownConv3[0][0]                  \n",
            "__________________________________________________________________________________________________\n",
            "UpNet2_0 (UpSampling2D)         (None, 32, 32, 128)  0           Concat3[0][0]                    \n",
            "__________________________________________________________________________________________________\n",
            "UpConv2 (Conv2D)                (None, 32, 32, 32)   36896       UpNet2_0[0][0]                   \n",
            "__________________________________________________________________________________________________\n",
            "UpNet2_1 (UpSampling2D)         (None, 64, 64, 32)   0           UpConv2[0][0]                    \n",
            "__________________________________________________________________________________________________\n",
            "Concat2 (Concatenate)           (None, 64, 64, 64)   0           UpNet2_1[0][0]                   \n",
            "                                                                 DownConv2[0][0]                  \n",
            "__________________________________________________________________________________________________\n",
            "UpNet1_0 (UpSampling2D)         (None, 128, 128, 64) 0           Concat2[0][0]                    \n",
            "__________________________________________________________________________________________________\n",
            "UpConv1 (Conv2D)                (None, 128, 128, 16) 9232        UpNet1_0[0][0]                   \n",
            "__________________________________________________________________________________________________\n",
            "UpNet1_1 (UpSampling2D)         (None, 256, 256, 16) 0           UpConv1[0][0]                    \n",
            "__________________________________________________________________________________________________\n",
            "Concat1 (Concatenate)           (None, 256, 256, 32) 0           UpNet1_1[0][0]                   \n",
            "                                                                 DownConv1[0][0]                  \n",
            "__________________________________________________________________________________________________\n",
            "Dense (Dense)                   (None, 256, 256, 1)  33          Concat1[0][0]                    \n",
            "__________________________________________________________________________________________________\n",
            "Outputs (Reshape)               (None, 256, 256)     0           Dense[0][0]                      \n",
            "==================================================================================================\n",
            "Total params: 1,472,369\n",
            "Trainable params: 1,471,889\n",
            "Non-trainable params: 480\n",
            "__________________________________________________________________________________________________\n"
          ]
        }
      ]
    },
    {
      "cell_type": "code",
      "metadata": {
        "id": "dRryshsqNiU1"
      },
      "source": [
        "# Define dice coefficient metric\n",
        "def dice(y, y_pred):\n",
        "    y_flat = k.flatten(y)\n",
        "    y_pred_flat = k.flatten(y_pred) \n",
        "    \n",
        "    intersect = k.sum(y_flat * y_pred_flat)\n",
        "    sum = k.sum(k.square(y_flat)) + k.sum(k.square(y_pred_flat))\n",
        "    return (2 * intersect) / sum"
      ],
      "execution_count": 74,
      "outputs": []
    },
    {
      "cell_type": "code",
      "metadata": {
        "id": "vGfM8fwI3uxd"
      },
      "source": [
        ""
      ],
      "execution_count": null,
      "outputs": []
    }
  ]
}