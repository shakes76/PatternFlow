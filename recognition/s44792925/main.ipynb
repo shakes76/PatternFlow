{
 "cells": [
  {
   "cell_type": "code",
   "execution_count": null,
   "metadata": {},
   "outputs": [],
   "source": [
    "from google.colab import drive\n",
    "\n",
    "MOUNTPOINT = '/content/gdrive'\n",
    "drive.mount(MOUNTPOINT)"
   ]
  },
  {
   "cell_type": "code",
   "execution_count": null,
   "metadata": {},
   "outputs": [],
   "source": [
    "import tensorflow as tf\n",
    "import glob\n",
    "import sklearn.model_selection\n",
    "\n",
    "input_dataset = '/content/gdrive/My Drive/Colab Notebooks/datasets/ISIC2018_Task1-2_Training_Data/ISIC2018_Task1-2_Training_Input_x2/*.jpg'\n",
    "output_dataset = '/content/gdrive/My Drive/Colab Notebooks/datasets/ISIC2018_Task1-2_Training_Data/ISIC2018_Task1_Training_GroundTruth_x2/*.png'\n",
    "\n",
    "input = sorted(glob.glob(input_dataset))\n",
    "output = sorted(glob.glob(output_dataset))\n",
    "# 80:10:10 train/test/val split \n",
    "x_train, x_test, y_train, y_test = sklearn.model_selection.train_test_split(input, output, test_size=0.1) \n",
    "x_train, x_val, y_train, y_val = sklearn.model_selection.train_test_split(x_train, y_train, test_size=0.111) \n",
    "\n",
    "train_ds = tf.data.Dataset.from_tensor_slices((x_train, y_train))\n",
    "test_ds = tf.data.Dataset.from_tensor_slices((x_test, y_test))\n",
    "val_ds = tf.data.Dataset.from_tensor_slices((x_val, y_val))\n",
    "\n",
    "train_ds = train_ds.shuffle(len(x_train))\n",
    "test_ds = test_ds.shuffle(len(x_test))\n",
    "val_ds = val_ds.shuffle(len(x_val))\n",
    "\n",
    "\n",
    "def process(input_path, output_path):\n",
    "  img = tf.image.decode_jpeg(tf.io.read_file(input_path), channels=3) # extract data\n",
    "  img = tf.image.resize(img, [256,256]) # resize\n",
    "  img = tf.cast(img, tf.float32) / 255 #normalize\n",
    "  img = tf.reshape(img, (-1, 256, 256, 3)) \n",
    "\n",
    "  mask = tf.image.decode_png(tf.io.read_file(output_path), channels=1)\n",
    "  mask = tf.image.resize(mask, [256,256])\n",
    "  mask = tf.math.round(tf.cast(mask, tf.float32) / 255)\n",
    "  mask = tf.reshape(mask, (-1, 256, 256, 1))\n",
    "\n",
    "  return img, mask\n",
    "\n",
    "# apply preprocessing to datasets\n",
    "train_ds = train_ds.map(process)\n",
    "test_ds = test_ds.map(process)\n",
    "val_ds = val_ds.map(process)"
   ]
  },
  {
   "cell_type": "code",
   "execution_count": null,
   "metadata": {},
   "outputs": [],
   "source": [
    "# Copy paste contents of model.py into here OR upload model.py into Google Drive and import"
   ]
  },
  {
   "cell_type": "code",
   "execution_count": null,
   "metadata": {},
   "outputs": [],
   "source": [
    "height = 256\n",
    "width = 256\n",
    "channels = 3\n",
    "\n",
    "\"\"\"Dice Coefficient calculates the similarity between two images\"\"\"\n",
    "def dice_coefficient(y_pred, y_test): # This function was made with reference to the '45223499_improved_unet' folder\n",
    "    flat_pred = tf.keras.backend.flatten(y_pred)\n",
    "    flat_test = tf.keras.backend.flatten(y_test)\n",
    "    return 2 * tf.keras.backend.sum(flat_pred * flat_test) / (tf.keras.backend.sum(flat_pred) + tf.keras.backend.sum(flat_test)) # DC = 2 * intersection / union\n",
    "\n",
    "\"\"\"Dice coefficient loss function used in training\"\"\"\n",
    "def dice_coefficient_loss(y_pred, y_test):\n",
    "    return 1 - dice_coefficient(y_pred, y_test)\n",
    "\n",
    "unet = model(height, width, channels)\n",
    "unet.compile(optimizer=tf.keras.optimizers.Adam(learning_rate = 5*(10**-4)), loss=[dice_coefficient_loss], metrics=[\"accuracy\", dice_coefficient])\n",
    "unet.summary()\n",
    "\n",
    "history =  unet.fit(train_ds.batch(32), validation_data=val_ds.batch(32), epochs=100)"
   ]
  },
  {
   "cell_type": "code",
   "execution_count": null,
   "metadata": {},
   "outputs": [],
   "source": [
    "# Calc avg dice coefficient within test dataset\n",
    "\n",
    "total = 0\n",
    "size = 0\n",
    "\n",
    "for img, mask in test_ds.batch(1):\n",
    "  pred = unet.predict(img)\n",
    "  total += dice_coefficient(pred, mask)\n",
    "  size += 1\n",
    "\n",
    "dice_coefficient = total / size\n",
    "\n",
    "# Dice coefficient: \n",
    "tf.print(dice_coefficient, summarize=-1)\n"
   ]
  },
  {
   "cell_type": "code",
   "execution_count": null,
   "metadata": {},
   "outputs": [],
   "source": [
    "import matplotlib.pyplot as plt\n",
    "\n",
    "# plot accuracy, loss and dice coefficient\n",
    "plt.plot(history.history['accuracy'], label='Accuracy')\n",
    "plt.plot(history.history['loss'], label='Loss')\n",
    "plt.plot(history.history['dice_coefficient'], label='Dice Coefficient')\n",
    "plt.legend() \n",
    "\n",
    "# plot image visualisation comparing predicted and actual masks\n",
    "\n",
    "plt.figure(figsize=(10, 10))\n",
    "\n",
    "images = []\n",
    "predictions = []\n",
    "masks = []\n",
    "for img, mask in test_ds.take(3): # take 3 random samples and visualise \n",
    "  # calculate predicted mask\n",
    "  img = tf.reshape(img, [-1, 256, 256, 3])\n",
    "  predictions.append(unet.predict(img))\n",
    "  images.append(img)\n",
    "  masks.append(mask)\n",
    "\n",
    "for num in range(3):\n",
    "  plt.subplot(4, 3, num*3+1)\n",
    "  plt.imshow(tf.reshape(images[num], [256, 256, 3]))\n",
    "  plt.axis('off')\n",
    "  plt.title(\"Input\")\n",
    "\n",
    "  plt.subplot(4, 3, num*3+2)\n",
    "  plt.imshow(tf.squeeze(tf.reshape(predictions[num], [256, 256, 1]), axis=2))\n",
    "  plt.axis('off')\n",
    "  plt.title(\"Predicted Mask\")\n",
    "\n",
    "  plt.subplot(4, 3, num*3+3)\n",
    "  plt.imshow(tf.squeeze(tf.reshape(masks[num], [256, 256, 1]), axis=2))\n",
    "  plt.axis('off')\n",
    "  plt.title(\"Actual Mask\")\n",
    "\n",
    "plt.show()"
   ]
  }
 ],
 "metadata": {
  "interpreter": {
   "hash": "1ee38ef4a5a9feb55287fd749643f13d043cb0a7addaab2a9c224cbe137c0062"
  },
  "kernelspec": {
   "display_name": "Python 3.8.3 64-bit",
   "name": "python3"
  },
  "language_info": {
   "codemirror_mode": {
    "name": "ipython",
    "version": 3
   },
   "file_extension": ".py",
   "mimetype": "text/x-python",
   "name": "python",
   "nbconvert_exporter": "python",
   "pygments_lexer": "ipython3",
   "version": "3.8.3"
  },
  "orig_nbformat": 4
 },
 "nbformat": 4,
 "nbformat_minor": 2
}
