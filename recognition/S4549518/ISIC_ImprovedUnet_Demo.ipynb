{
 "cells": [
  {
   "cell_type": "markdown",
   "metadata": {},
   "source": [
    "# Importing Packages"
   ]
  },
  {
   "cell_type": "code",
   "execution_count": 25,
   "metadata": {},
   "outputs": [],
   "source": [
    "from keras.layers import Input, Conv2D, MaxPooling2D, Conv2DTranspose, concatenate, BatchNormalization, Activation, add\n",
    "from keras.models import Model, model_from_json\n",
    "from keras.optimizers import Adam\n",
    "from keras.layers.advanced_activations import ELU, LeakyReLU\n",
    "from keras.utils.vis_utils import plot_model\n",
    "from keras import backend as K \n",
    "from keras.models import *\n",
    "from keras.layers import *\n",
    "from keras.optimizers import *\n",
    "from keras.callbacks import ModelCheckpoint, LearningRateScheduler\n",
    "from keras import backend as keras"
   ]
  },
  {
   "cell_type": "code",
   "execution_count": 57,
   "metadata": {},
   "outputs": [],
   "source": [
    "import os\n",
    "import cv2\n",
    "import numpy as np\n",
    "import matplotlib.pyplot as plt\n",
    "from sklearn.model_selection import train_test_split\n",
    "from sklearn.metrics import classification_report\n",
    "from tensorflow import keras\n",
    "from tensorflow.keras import layers\n",
    "from tensorflow_core.keras import Model\n",
    "tf.random.Generator = None\n",
    "import tensorflow_addons as tfa\n",
    "from tensorflow.keras.layers import Flatten"
   ]
  },
  {
   "cell_type": "markdown",
   "metadata": {},
   "source": [
    "# Importing data\n",
    "We import the image data and the corresponding ground truth segmentation images. Follow the requirement, I use ISIC-18 dataset provided by tutor."
   ]
  },
  {
   "cell_type": "code",
   "execution_count": 27,
   "metadata": {},
   "outputs": [],
   "source": [
    "input_data = next(os.walk('Downloads/ISIC2018_Task1-2_Training_Input_x2'))[2]\n",
    "truth_data = next(os.walk('Downloads/ISIC2018_Task1_Training_GroundTruth_x2'))[2]\n",
    "input_data.sort()\n",
    "truth_data.sort()"
   ]
  },
  {
   "cell_type": "markdown",
   "metadata": {},
   "source": [
    "Resize image to 256x256 and create two array for preparation of dataset spliting."
   ]
  },
  {
   "cell_type": "code",
   "execution_count": 28,
   "metadata": {},
   "outputs": [],
   "source": [
    "data = []\n",
    "label = []\n",
    "\n",
    "for i in input_data:    \n",
    "    if(i.split('.')[-1]=='jpg'):                      \n",
    "        img = cv2.imread('Downloads/ISIC2018_Task1-2_Training_Input_x2/{}'.format(i), cv2.IMREAD_COLOR)\n",
    "        resized_img = cv2.resize(img,(256, 256), interpolation = cv2.INTER_CUBIC)\n",
    "        \n",
    "        data.append(resized_img)\n",
    "        \n",
    "        truth = cv2.imread('Downloads/ISIC2018_Task1_Training_GroundTruth_x2/{}'.format(i.split('.')[0]+'_segmentation.png'), cv2.IMREAD_GRAYSCALE)\n",
    "        resized_truth = cv2.resize(truth,(256, 256), interpolation = cv2.INTER_CUBIC)\n",
    "        \n",
    "        label.append(resized_truth)"
   ]
  },
  {
   "cell_type": "markdown",
   "metadata": {},
   "source": [
    "# Spliting data into Training dataset and Test dataset\n",
    "The rate of training dataset/test dataset is 8/2. Also, we need to normalize data(divided by 255)."
   ]
  },
  {
   "cell_type": "code",
   "execution_count": 29,
   "metadata": {},
   "outputs": [],
   "source": [
    "data = np.array(data)\n",
    "label = np.array(label)\n",
    "\n",
    "X_train, X_test, Y_train, Y_test = train_test_split(data, label, test_size=0.2, random_state=3)\n",
    "\n",
    "Y_train = Y_train.reshape((Y_train.shape[0],Y_train.shape[1],Y_train.shape[2],1))\n",
    "Y_test = Y_test.reshape((Y_test.shape[0],Y_test.shape[1],Y_test.shape[2],1))\n",
    "\n",
    "X_train = X_train / 255\n",
    "X_test = X_test / 255\n",
    "Y_train = Y_train / 255\n",
    "Y_test = Y_test / 255\n",
    "\n",
    "Y_train = np.round(Y_train,0)\n",
    "Y_test = np.round(Y_test,0)"
   ]
  },
  {
   "cell_type": "markdown",
   "metadata": {},
   "source": [
    "Check size of each data set"
   ]
  },
  {
   "cell_type": "code",
   "execution_count": 30,
   "metadata": {
    "scrolled": false
   },
   "outputs": [
    {
     "name": "stdout",
     "output_type": "stream",
     "text": [
      "Training data: (2075, 256, 256, 3)\n",
      "Trainging data truth: (2075, 256, 256, 1)\n",
      "Test data: (519, 256, 256, 3)\n",
      "Test data truth: (519, 256, 256, 1)\n"
     ]
    }
   ],
   "source": [
    "print(\"Training data:\",X_train.shape)\n",
    "print(\"Trainging data truth:\",Y_train.shape)\n",
    "print(\"Test data:\",X_test.shape)\n",
    "print(\"Test data truth:\",Y_test.shape)"
   ]
  },
  {
   "cell_type": "markdown",
   "metadata": {},
   "source": [
    "# Model building\n",
    "\n",
    "According to the essay, we need to wirte the function to build context modules, localization modules and upsampling modules. Follow the essay, we use LeakyReLU as activation function."
   ]
  },
  {
   "cell_type": "code",
   "execution_count": 31,
   "metadata": {},
   "outputs": [],
   "source": [
    "leakyReLU =tf.keras.layers.LeakyReLU(alpha=1e-2)"
   ]
  },
  {
   "cell_type": "code",
   "execution_count": 32,
   "metadata": {},
   "outputs": [],
   "source": [
    "def context_module(num_filters,inp):\n",
    "    '''\n",
    "    The context module:\n",
    "    \n",
    "     Arguments:\n",
    "        num_filters{int} -- the number of filters\n",
    "        inp {keras layer} -- input layer \n",
    "    \n",
    "    Returns:\n",
    "        [keras layer] -- [output layer]\n",
    "    '''\n",
    "\n",
    "    c1 = tfa.layers.InstanceNormalization()(inp)\n",
    "    c1 = tf.keras.layers.Activation(\"relu\")(c1)\n",
    "    c2 = tf.keras.layers.Conv2D(num_filters, (3, 3), activation = leakyReLU, padding=\"same\")(c1)\n",
    "    c3 = tf.keras.layers.Dropout(0.3)(c2)\n",
    "    c4 = tfa.layers.InstanceNormalization()(c3)\n",
    "    c4 = tf.keras.layers.Activation(\"relu\")(c4)\n",
    "    c4 = tf.keras.layers.Conv2D(num_filters, (3, 3), activation = leakyReLU, padding=\"same\")(c4)\n",
    "    \n",
    "\n",
    "    return c4"
   ]
  },
  {
   "cell_type": "code",
   "execution_count": 33,
   "metadata": {},
   "outputs": [],
   "source": [
    "def localization_modules(num_filters,inp):\n",
    "    '''\n",
    "    The context module:\n",
    "    \n",
    "     Arguments:\n",
    "        num_filters{int} -- the number of filters\n",
    "        inp {keras layer} -- input layer \n",
    "    \n",
    "    Returns:\n",
    "        [keras layer] -- [output layer]\n",
    "    '''\n",
    "\n",
    "    c1 = tf.keras.layers.Conv2D(num_filters, (3, 3), activation = leakyReLU, padding=\"same\")(inp)\n",
    "    c2 = tf.keras.layers.Conv2D(num_filters, (1, 1), activation = leakyReLU, padding=\"same\")(c1)\n",
    "\n",
    "    return c2"
   ]
  },
  {
   "cell_type": "code",
   "execution_count": 34,
   "metadata": {},
   "outputs": [],
   "source": [
    "def upsampling_modules(num_filters,inp):\n",
    "    '''\n",
    "    The context module:\n",
    "    \n",
    "     Arguments:\n",
    "        num_filters{int} -- the number of filters\n",
    "        inp {keras layer} -- input layer \n",
    "    \n",
    "    Returns:\n",
    "        [keras layer] -- [output layer]\n",
    "    '''\n",
    "\n",
    "    c1 = tf.keras.layers.UpSampling2D()(inp)\n",
    "    c2 = tf.keras.layers.Conv2D(num_filters,(3,3), activation = leakyReLU, padding=\"same\")(c1)\n",
    "\n",
    "    return c2"
   ]
  },
  {
   "cell_type": "code",
   "execution_count": 85,
   "metadata": {},
   "outputs": [],
   "source": [
    "def improved_unet(height, width, n_channels):\n",
    "    \n",
    "    inputs = tf.keras.layers.Input((height, width, n_channels))\n",
    "    \n",
    "    # Constracting\n",
    "    c1 = tf.keras.layers.Conv2D(16, (3, 3), activation=leakyReLU, padding='same') (inputs)\n",
    "    c2 = context_module(16, c1)\n",
    "    c3 = tf.keras.layers.Add()([c1, c2])\n",
    "\n",
    "    c4 = tf.keras.layers.Conv2D(32, (3, 3),strides=(2, 2), activation=leakyReLU, padding='same') (c3)\n",
    "    c5 = context_module(32, c4)\n",
    "    c6 = tf.keras.layers.Add()([c4, c5])\n",
    "\n",
    "    c7 = tf.keras.layers.Conv2D(64, (3, 3),strides=(2, 2), activation=leakyReLU, padding='same') (c6)\n",
    "    c8 = context_module(64, c7)\n",
    "    c9 = tf.keras.layers.Add()([c7, c8])\n",
    "\n",
    "    c10 = tf.keras.layers.Conv2D(128, (3, 3),strides=(2, 2), activation=leakyReLU, padding='same') (c9)\n",
    "    c11 = context_module(128, c10)\n",
    "    c12 = tf.keras.layers.Add()([c10, c11])\n",
    "\n",
    "    c13 = tf.keras.layers.Conv2D(256, (3, 3),strides=(2, 2), activation=leakyReLU, padding='same') (c12)\n",
    "    c14 = context_module(256, c13)\n",
    "    c15 = tf.keras.layers.Add()([c13, c14])\n",
    "    \n",
    "    # Expanding\n",
    "    u16 = upsampling_modules(128,c15)\n",
    "    \n",
    "    con17 = tf.keras.layers.concatenate([u16, c12], axis=3)\n",
    "    c18 = localization_modules(128,con17)\n",
    "    u19 = upsampling_modules(64,c18)\n",
    "    \n",
    "    con20 = tf.keras.layers.concatenate([u19, c9], axis=3)\n",
    "    c21 = localization_modules(64,con20)\n",
    "    wise1 = tf.keras.layers.Conv2D(1, (1, 1), activation = leakyReLU, padding=\"same\")(c21)\n",
    "    up_wise1 = tf.keras.layers.UpSampling2D(interpolation = \"bilinear\")(wise1)\n",
    "    u22 = upsampling_modules(32,c21)\n",
    "    \n",
    "    con23 = tf.keras.layers.concatenate([u22, c6], axis=3)\n",
    "    c24 = localization_modules(32,con23)\n",
    "    wise2 = tf.keras.layers.Conv2D(1, (1, 1), activation = leakyReLU, padding=\"same\")(c24)\n",
    "    wise2 = tf.keras.layers.Add()([up_wise1, wise2])\n",
    "    up_wise2 = tf.keras.layers.UpSampling2D(interpolation = \"bilinear\")(wise2)\n",
    "    u25 = upsampling_modules(16,c24)\n",
    "    \n",
    "    con26 = tf.keras.layers.concatenate([u25, c3], axis=3)\n",
    "    c27 = tf.keras.layers.Conv2D(32, (3, 3), activation = leakyReLU, padding='same')(con26)\n",
    "    c28 = tf.keras.layers.Conv2D(1, (1, 1), activation = leakyReLU, padding=\"same\")(c27) \n",
    "    wise3 = tf.keras.layers.Add()([up_wise2, c28])\n",
    "    \n",
    "#     outputs = tf.keras.layers.Conv2D(1, (1, 1), activation = 'sigmoid', padding=\"same\")(wise3)\n",
    "    outputs = tf.keras.activations.sigmoid(wise3)\n",
    "    model = tf.keras.Model(inputs=[inputs], outputs=[outputs])\n",
    "    \n",
    "    return model"
   ]
  },
  {
   "cell_type": "code",
   "execution_count": 86,
   "metadata": {
    "scrolled": true
   },
   "outputs": [
    {
     "name": "stdout",
     "output_type": "stream",
     "text": [
      "WARNING:tensorflow:AutoGraph could not transform <bound method GroupNormalization.call of <tensorflow_addons.layers.normalizations.InstanceNormalization object at 0x0000020D7452CC08>> and will run it as-is.\n",
      "Please report this to the TensorFlow team. When filing the bug, set the verbosity to 10 (on Linux, `export AUTOGRAPH_VERBOSITY=10`) and attach the full output.\n",
      "Cause: Bad argument number for Name: 3, expecting 4\n",
      "WARNING: AutoGraph could not transform <bound method GroupNormalization.call of <tensorflow_addons.layers.normalizations.InstanceNormalization object at 0x0000020D7452CC08>> and will run it as-is.\n",
      "Please report this to the TensorFlow team. When filing the bug, set the verbosity to 10 (on Linux, `export AUTOGRAPH_VERBOSITY=10`) and attach the full output.\n",
      "Cause: Bad argument number for Name: 3, expecting 4\n",
      "WARNING:tensorflow:AutoGraph could not transform <bound method GroupNormalization.call of <tensorflow_addons.layers.normalizations.InstanceNormalization object at 0x0000020D7453CD48>> and will run it as-is.\n",
      "Please report this to the TensorFlow team. When filing the bug, set the verbosity to 10 (on Linux, `export AUTOGRAPH_VERBOSITY=10`) and attach the full output.\n",
      "Cause: Bad argument number for Name: 3, expecting 4\n",
      "WARNING: AutoGraph could not transform <bound method GroupNormalization.call of <tensorflow_addons.layers.normalizations.InstanceNormalization object at 0x0000020D7453CD48>> and will run it as-is.\n",
      "Please report this to the TensorFlow team. When filing the bug, set the verbosity to 10 (on Linux, `export AUTOGRAPH_VERBOSITY=10`) and attach the full output.\n",
      "Cause: Bad argument number for Name: 3, expecting 4\n",
      "WARNING:tensorflow:AutoGraph could not transform <bound method GroupNormalization.call of <tensorflow_addons.layers.normalizations.InstanceNormalization object at 0x0000020D25A34888>> and will run it as-is.\n",
      "Please report this to the TensorFlow team. When filing the bug, set the verbosity to 10 (on Linux, `export AUTOGRAPH_VERBOSITY=10`) and attach the full output.\n",
      "Cause: Bad argument number for Name: 3, expecting 4\n",
      "WARNING: AutoGraph could not transform <bound method GroupNormalization.call of <tensorflow_addons.layers.normalizations.InstanceNormalization object at 0x0000020D25A34888>> and will run it as-is.\n",
      "Please report this to the TensorFlow team. When filing the bug, set the verbosity to 10 (on Linux, `export AUTOGRAPH_VERBOSITY=10`) and attach the full output.\n",
      "Cause: Bad argument number for Name: 3, expecting 4\n",
      "WARNING:tensorflow:AutoGraph could not transform <bound method GroupNormalization.call of <tensorflow_addons.layers.normalizations.InstanceNormalization object at 0x0000020D25A25288>> and will run it as-is.\n",
      "Please report this to the TensorFlow team. When filing the bug, set the verbosity to 10 (on Linux, `export AUTOGRAPH_VERBOSITY=10`) and attach the full output.\n",
      "Cause: Bad argument number for Name: 3, expecting 4\n",
      "WARNING: AutoGraph could not transform <bound method GroupNormalization.call of <tensorflow_addons.layers.normalizations.InstanceNormalization object at 0x0000020D25A25288>> and will run it as-is.\n",
      "Please report this to the TensorFlow team. When filing the bug, set the verbosity to 10 (on Linux, `export AUTOGRAPH_VERBOSITY=10`) and attach the full output.\n",
      "Cause: Bad argument number for Name: 3, expecting 4\n",
      "WARNING:tensorflow:AutoGraph could not transform <bound method GroupNormalization.call of <tensorflow_addons.layers.normalizations.InstanceNormalization object at 0x0000020D25AADC48>> and will run it as-is.\n",
      "Please report this to the TensorFlow team. When filing the bug, set the verbosity to 10 (on Linux, `export AUTOGRAPH_VERBOSITY=10`) and attach the full output.\n",
      "Cause: Bad argument number for Name: 3, expecting 4\n",
      "WARNING: AutoGraph could not transform <bound method GroupNormalization.call of <tensorflow_addons.layers.normalizations.InstanceNormalization object at 0x0000020D25AADC48>> and will run it as-is.\n",
      "Please report this to the TensorFlow team. When filing the bug, set the verbosity to 10 (on Linux, `export AUTOGRAPH_VERBOSITY=10`) and attach the full output.\n",
      "Cause: Bad argument number for Name: 3, expecting 4\n",
      "WARNING:tensorflow:AutoGraph could not transform <bound method GroupNormalization.call of <tensorflow_addons.layers.normalizations.InstanceNormalization object at 0x0000020D25ACDC48>> and will run it as-is.\n",
      "Please report this to the TensorFlow team. When filing the bug, set the verbosity to 10 (on Linux, `export AUTOGRAPH_VERBOSITY=10`) and attach the full output.\n",
      "Cause: Bad argument number for Name: 3, expecting 4\n",
      "WARNING: AutoGraph could not transform <bound method GroupNormalization.call of <tensorflow_addons.layers.normalizations.InstanceNormalization object at 0x0000020D25ACDC48>> and will run it as-is.\n",
      "Please report this to the TensorFlow team. When filing the bug, set the verbosity to 10 (on Linux, `export AUTOGRAPH_VERBOSITY=10`) and attach the full output.\n",
      "Cause: Bad argument number for Name: 3, expecting 4\n",
      "WARNING:tensorflow:AutoGraph could not transform <bound method GroupNormalization.call of <tensorflow_addons.layers.normalizations.InstanceNormalization object at 0x0000020D2623BB88>> and will run it as-is.\n",
      "Please report this to the TensorFlow team. When filing the bug, set the verbosity to 10 (on Linux, `export AUTOGRAPH_VERBOSITY=10`) and attach the full output.\n",
      "Cause: Bad argument number for Name: 3, expecting 4\n",
      "WARNING: AutoGraph could not transform <bound method GroupNormalization.call of <tensorflow_addons.layers.normalizations.InstanceNormalization object at 0x0000020D2623BB88>> and will run it as-is.\n",
      "Please report this to the TensorFlow team. When filing the bug, set the verbosity to 10 (on Linux, `export AUTOGRAPH_VERBOSITY=10`) and attach the full output.\n",
      "Cause: Bad argument number for Name: 3, expecting 4\n",
      "WARNING:tensorflow:AutoGraph could not transform <bound method GroupNormalization.call of <tensorflow_addons.layers.normalizations.InstanceNormalization object at 0x0000020D2625C648>> and will run it as-is.\n",
      "Please report this to the TensorFlow team. When filing the bug, set the verbosity to 10 (on Linux, `export AUTOGRAPH_VERBOSITY=10`) and attach the full output.\n",
      "Cause: Bad argument number for Name: 3, expecting 4\n",
      "WARNING: AutoGraph could not transform <bound method GroupNormalization.call of <tensorflow_addons.layers.normalizations.InstanceNormalization object at 0x0000020D2625C648>> and will run it as-is.\n",
      "Please report this to the TensorFlow team. When filing the bug, set the verbosity to 10 (on Linux, `export AUTOGRAPH_VERBOSITY=10`) and attach the full output.\n",
      "Cause: Bad argument number for Name: 3, expecting 4\n",
      "WARNING:tensorflow:AutoGraph could not transform <bound method GroupNormalization.call of <tensorflow_addons.layers.normalizations.InstanceNormalization object at 0x0000020D262B4B48>> and will run it as-is.\n",
      "Please report this to the TensorFlow team. When filing the bug, set the verbosity to 10 (on Linux, `export AUTOGRAPH_VERBOSITY=10`) and attach the full output.\n",
      "Cause: Bad argument number for Name: 3, expecting 4\n",
      "WARNING: AutoGraph could not transform <bound method GroupNormalization.call of <tensorflow_addons.layers.normalizations.InstanceNormalization object at 0x0000020D262B4B48>> and will run it as-is.\n",
      "Please report this to the TensorFlow team. When filing the bug, set the verbosity to 10 (on Linux, `export AUTOGRAPH_VERBOSITY=10`) and attach the full output.\n",
      "Cause: Bad argument number for Name: 3, expecting 4\n",
      "WARNING:tensorflow:AutoGraph could not transform <bound method GroupNormalization.call of <tensorflow_addons.layers.normalizations.InstanceNormalization object at 0x0000020D262D5F48>> and will run it as-is.\n",
      "Please report this to the TensorFlow team. When filing the bug, set the verbosity to 10 (on Linux, `export AUTOGRAPH_VERBOSITY=10`) and attach the full output.\n",
      "Cause: Bad argument number for Name: 3, expecting 4\n",
      "WARNING: AutoGraph could not transform <bound method GroupNormalization.call of <tensorflow_addons.layers.normalizations.InstanceNormalization object at 0x0000020D262D5F48>> and will run it as-is.\n",
      "Please report this to the TensorFlow team. When filing the bug, set the verbosity to 10 (on Linux, `export AUTOGRAPH_VERBOSITY=10`) and attach the full output.\n",
      "Cause: Bad argument number for Name: 3, expecting 4\n"
     ]
    }
   ],
   "source": [
    "model = improved_unet(height=256, width=256, n_channels=3)"
   ]
  },
  {
   "cell_type": "markdown",
   "metadata": {},
   "source": [
    "Write function to test the m Dice similarity coefficient of model."
   ]
  },
  {
   "cell_type": "code",
   "execution_count": 87,
   "metadata": {},
   "outputs": [],
   "source": [
    "def dice_coef(y_true, y_pred):\n",
    "    smooth = 0.0\n",
    "    y_true = tf.keras.layers.Flatten()(y_true)\n",
    "    y_pred = tf.keras.layers.Flatten()(y_pred)\n",
    "    y_pred = tf.cast(tf.math.greater(y_pred, 0.5), tf.float32)\n",
    "    intersection = tf.reduce_sum(y_true * y_pred)\n",
    "    return (2.0 * intersection + smooth) / (tf.reduce_sum(y_true) + tf.reduce_sum(y_pred) + smooth)"
   ]
  },
  {
   "cell_type": "code",
   "execution_count": 88,
   "metadata": {
    "scrolled": false
   },
   "outputs": [],
   "source": [
    "#model.summary()"
   ]
  },
  {
   "cell_type": "markdown",
   "metadata": {},
   "source": [
    "Training model on training dataset and truth dataset."
   ]
  },
  {
   "cell_type": "code",
   "execution_count": 90,
   "metadata": {
    "scrolled": false
   },
   "outputs": [
    {
     "name": "stdout",
     "output_type": "stream",
     "text": [
      "Train on 2075 samples, validate on 519 samples\n",
      "Epoch 1/15\n",
      "2075/2075 [==============================] - 759s 366ms/sample - loss: 0.1567 - dice_coef: 0.8509 - val_loss: 0.1533 - val_dice_coef: 0.8496\n",
      "Epoch 2/15\n",
      "2075/2075 [==============================] - 746s 360ms/sample - loss: 0.1443 - dice_coef: 0.8652 - val_loss: 0.1421 - val_dice_coef: 0.8587\n",
      "Epoch 3/15\n",
      "2075/2075 [==============================] - 747s 360ms/sample - loss: 0.1323 - dice_coef: 0.8731 - val_loss: 0.1633 - val_dice_coef: 0.8513\n",
      "Epoch 4/15\n",
      "2075/2075 [==============================] - 747s 360ms/sample - loss: 0.1225 - dice_coef: 0.8806 - val_loss: 0.1418 - val_dice_coef: 0.8593\n",
      "Epoch 5/15\n",
      "2075/2075 [==============================] - 746s 359ms/sample - loss: 0.1216 - dice_coef: 0.8841 - val_loss: 0.1539 - val_dice_coef: 0.8557\n",
      "Epoch 6/15\n",
      "2075/2075 [==============================] - 751s 362ms/sample - loss: 0.1128 - dice_coef: 0.8903 - val_loss: 0.1358 - val_dice_coef: 0.8723\n",
      "Epoch 7/15\n",
      "2075/2075 [==============================] - 748s 361ms/sample - loss: 0.1159 - dice_coef: 0.8891 - val_loss: 0.1349 - val_dice_coef: 0.8810\n",
      "Epoch 8/15\n",
      "2075/2075 [==============================] - 747s 360ms/sample - loss: 0.1084 - dice_coef: 0.8942 - val_loss: 0.1414 - val_dice_coef: 0.8677\n",
      "Epoch 9/15\n",
      "2075/2075 [==============================] - 745s 359ms/sample - loss: 0.1027 - dice_coef: 0.9018 - val_loss: 0.1436 - val_dice_coef: 0.8768\n",
      "Epoch 10/15\n",
      "2075/2075 [==============================] - 746s 359ms/sample - loss: 0.0982 - dice_coef: 0.9042 - val_loss: 0.1328 - val_dice_coef: 0.8770\n",
      "Epoch 11/15\n",
      "2075/2075 [==============================] - 746s 360ms/sample - loss: 0.0916 - dice_coef: 0.9109 - val_loss: 0.1361 - val_dice_coef: 0.8818\n",
      "Epoch 12/15\n",
      "2075/2075 [==============================] - 746s 359ms/sample - loss: 0.0984 - dice_coef: 0.9041 - val_loss: 0.1330 - val_dice_coef: 0.8757\n",
      "Epoch 13/15\n",
      "2075/2075 [==============================] - 750s 362ms/sample - loss: 0.0908 - dice_coef: 0.9109 - val_loss: 0.1615 - val_dice_coef: 0.8614\n",
      "Epoch 14/15\n",
      "2075/2075 [==============================] - 755s 364ms/sample - loss: 0.0852 - dice_coef: 0.9158 - val_loss: 0.1409 - val_dice_coef: 0.8756\n",
      "Epoch 15/15\n",
      "2075/2075 [==============================] - 756s 364ms/sample - loss: 0.0856 - dice_coef: 0.9157 - val_loss: 0.1407 - val_dice_coef: 0.8797\n"
     ]
    }
   ],
   "source": [
    "model.compile(optimizer='adam', loss=\"binary_crossentropy\", metrics=[dice_coef])#categorical_crossentropy\n",
    "history = model.fit(X_train, Y_train, batch_size=16, \n",
    "          epochs=15, verbose=1,validation_data=(X_test,Y_test))"
   ]
  },
  {
   "cell_type": "markdown",
   "metadata": {},
   "source": [
    "As shown, the figure of Dice similarity coefficient is over 0.8 on test data. Then, we can cpmpare the origin image, ground truth and the predict image."
   ]
  },
  {
   "cell_type": "code",
   "execution_count": 91,
   "metadata": {},
   "outputs": [
    {
     "name": "stdout",
     "output_type": "stream",
     "text": [
      "519/519 [==============================] - 33s 64ms/sample\n"
     ]
    }
   ],
   "source": [
    "preds_img = model.predict(X_test, verbose=1)"
   ]
  },
  {
   "cell_type": "code",
   "execution_count": 125,
   "metadata": {},
   "outputs": [
    {
     "data": {
      "image/png": "[encoded data removed]",
      "text/plain": [
       "<Figure size 432x288 with 3 Axes>"
      ]
     },
     "metadata": {
      "needs_background": "light"
     },
     "output_type": "display_data"
    }
   ],
   "source": [
    "plt.subplot(1, 3, 1)\n",
    "plt.title('origin')\n",
    "plt.imshow(X_test[5])\n",
    "\n",
    "plt.subplot(1, 3, 2)\n",
    "plt.title('ground truth')\n",
    "plt.imshow(Y_test[5],cmap='gray')\n",
    "\n",
    "plt.subplot(1, 3, 3)\n",
    "plt.title('predict')\n",
    "plt.imshow(preds_img[5],cmap='gray')\n",
    "\n",
    "plt.show()"
   ]
  }
 ],
 "metadata": {
  "kernelspec": {
   "display_name": "Python 3",
   "language": "python",
   "name": "python3"
  },
  "language_info": {
   "codemirror_mode": {
    "name": "ipython",
    "version": 3
   },
   "file_extension": ".py",
   "mimetype": "text/x-python",
   "name": "python",
   "nbconvert_exporter": "python",
   "pygments_lexer": "ipython3",
   "version": "3.7.7"
  }
 },
 "nbformat": 4,
 "nbformat_minor": 4
}
