{
 "cells": [
  {
   "cell_type": "markdown",
   "id": "3c8a8e10",
   "metadata": {},
   "source": [
    "<h1>Segmentation of ISIC data using improved UNET </h1>"
   ]
  },
  {
   "cell_type": "markdown",
   "id": "8dcd11db",
   "metadata": {},
   "source": [
    "<p>This notebook is inspired from the UNET architecture given in the research paper given by F. Isensee, P. Kickingereder, W. Wick, M. Bendszus, and K. H. Maier-Hein</p>"
   ]
  },
  {
   "cell_type": "markdown",
   "id": "ee2db652",
   "metadata": {},
   "source": [
    "## Import the libraries"
   ]
  },
  {
   "cell_type": "code",
   "execution_count": 1,
   "id": "1a865840",
   "metadata": {},
   "outputs": [],
   "source": [
    "from tensorflow.keras.layers import Conv2D, BatchNormalization, Activation, MaxPooling2D\n",
    "from tensorflow.keras.models import Model\n",
    "from tensorflow.keras.layers import Input, Conv2D, UpSampling2D, concatenate, Conv2DTranspose, Dropout\n",
    "#from dataset import *"
   ]
  },
  {
   "cell_type": "code",
   "execution_count": 2,
   "id": "a5dbfe68",
   "metadata": {},
   "outputs": [],
   "source": [
    "from keras.utils import normalize\n",
    "import os\n",
    "import glob\n",
    "import cv2\n",
    "import numpy as np\n",
    "import matplotlib.pyplot as plt"
   ]
  },
  {
   "cell_type": "markdown",
   "id": "7f8eacb3",
   "metadata": {},
   "source": [
    "## Importing the images data"
   ]
  },
  {
   "cell_type": "code",
   "execution_count": 3,
   "id": "a5e5e8ba",
   "metadata": {},
   "outputs": [],
   "source": [
    "transformed_X = 256\n",
    "transformed_Y = 256\n",
    "def load_images(path):\n",
    "    image_list = []\n",
    "    for fi in os.listdir(path):\n",
    "    #print(fi)\n",
    "        if fi.endswith(\".csv\") or \"superpixels\" in fi:\n",
    "            continue\n",
    "        img = cv2.imread(os.path.join(path, fi),cv2.IMREAD_COLOR)\n",
    "        img = cv2.resize(img,(transformed_Y,transformed_X))\n",
    "        img = img / 255.0\n",
    "        img = img.astype(np.float32)\n",
    "        image_list.append(img)\n",
    "    image_list = np.array(image_list)\n",
    "    return image_list"
   ]
  },
  {
   "cell_type": "markdown",
   "id": "8b7597c8",
   "metadata": {},
   "source": [
    "## Loading the masks images"
   ]
  },
  {
   "cell_type": "code",
   "execution_count": 4,
   "id": "7fe15e95",
   "metadata": {},
   "outputs": [],
   "source": [
    "def load_masks(path):\n",
    "    masks_list = []\n",
    "    for fi in os.listdir(path):\n",
    "    #print(fi)\n",
    "        if fi.endswith(\".csv\") or \"superpixels\" in fi:\n",
    "            continue\n",
    "        mask = cv2.imread(os.path.join(path, fi),cv2.IMREAD_GRAYSCALE)\n",
    "        mask = cv2.resize(mask,(transformed_Y,transformed_X),interpolation = cv2.INTER_NEAREST)\n",
    "        mask = mask / 255.0\n",
    "        mask = mask.astype(np.float32)\n",
    "        mask = np.expand_dims(mask, axis=-1) \n",
    "        masks_list.append(mask)\n",
    "    masks_list = np.array(masks_list)\n",
    "    return masks_list"
   ]
  },
  {
   "cell_type": "markdown",
   "id": "7fb9f276",
   "metadata": {},
   "source": [
    "## loading training data"
   ]
  },
  {
   "cell_type": "code",
   "execution_count": 5,
   "id": "4b99fe9c",
   "metadata": {},
   "outputs": [],
   "source": [
    "X_train = load_images(\"ISIC-2017_Training_Data/\")\n",
    "masks_train_images = load_masks(\"ISIC-2017_Training_Part1_GroundTruth/\")"
   ]
  },
  {
   "cell_type": "code",
   "execution_count": null,
   "id": "7b26c666",
   "metadata": {},
   "outputs": [],
   "source": []
  },
  {
   "cell_type": "code",
   "execution_count": 6,
   "id": "62d98e1f",
   "metadata": {},
   "outputs": [
    {
     "data": {
      "text/plain": [
       "(2000, 256, 256, 3)"
      ]
     },
     "execution_count": 6,
     "metadata": {},
     "output_type": "execute_result"
    }
   ],
   "source": [
    "X_train.shape"
   ]
  },
  {
   "cell_type": "markdown",
   "id": "ea042fc5",
   "metadata": {},
   "source": [
    "## Loading validation data"
   ]
  },
  {
   "cell_type": "code",
   "execution_count": 7,
   "id": "28cb70d8",
   "metadata": {},
   "outputs": [],
   "source": [
    "x_validate = load_images(\"ISIC-2017_Validation_Data/\")\n",
    "masks_valid_images = load_masks(\"ISIC-2017_Validation_Part1_GroundTruth\")"
   ]
  },
  {
   "cell_type": "code",
   "execution_count": 8,
   "id": "f45b1e80",
   "metadata": {},
   "outputs": [],
   "source": [
    "#x_validate = np.expand_dims(x_validate, axis=3)\n",
    "#masks_valid_images = np.expand_dims(masks_valid_images, axis=3)"
   ]
  },
  {
   "cell_type": "markdown",
   "id": "8f9e7f3d",
   "metadata": {},
   "source": [
    "## Loading test data"
   ]
  },
  {
   "cell_type": "code",
   "execution_count": 9,
   "id": "4207b744",
   "metadata": {},
   "outputs": [],
   "source": [
    "x_test = load_images(\"ISIC-2017_Test_v2_Data/\")\n",
    "masks_test_images = load_masks(\"ISIC-2017_Test_v2_Part1_GroundTruth\")"
   ]
  },
  {
   "cell_type": "code",
   "execution_count": 10,
   "id": "bf94d01b",
   "metadata": {},
   "outputs": [
    {
     "data": {
      "text/plain": [
       "(2000, 256, 256, 3)"
      ]
     },
     "execution_count": 10,
     "metadata": {},
     "output_type": "execute_result"
    }
   ],
   "source": [
    "X_train.shape"
   ]
  },
  {
   "cell_type": "markdown",
   "id": "420e3373",
   "metadata": {},
   "source": [
    "## Model implementation of Improved UNET"
   ]
  },
  {
   "cell_type": "markdown",
   "id": "9cd5f3b6",
   "metadata": {},
   "source": [
    "<p> It consists of two parts encoding and decoding. It starts with downsampling of data and then it starts upsampling to original structure </p>"
   ]
  },
  {
   "cell_type": "code",
   "execution_count": 11,
   "id": "94fc1179",
   "metadata": {},
   "outputs": [],
   "source": [
    "def unet_model():\n",
    "    inputs = Input((256, 256, 3))\n",
    "    x = inputs \n",
    "\n",
    "    conv1 = Conv2D(16,(3,3), padding=\"same\", activation=\"relu\", kernel_initializer=\"he_normal\")(x)\n",
    "    conv1 = Dropout(0.1)(conv1)\n",
    "    conv1 = Conv2D(16,(3,3), padding=\"same\", activation=\"relu\", kernel_initializer=\"he_normal\")(conv1)\n",
    "    pool1 = MaxPooling2D((2,2))(conv1)\n",
    "\n",
    "    conv2 = Conv2D(32,(3,3), padding=\"same\", activation=\"relu\", kernel_initializer=\"he_normal\")(pool1)\n",
    "    conv2 = Dropout(0.1)(conv2)\n",
    "    conv2 = Conv2D(32,(3,3), padding=\"same\", activation=\"relu\", kernel_initializer=\"he_normal\")(conv2)\n",
    "    pool2 = MaxPooling2D((2,2))(conv2)\n",
    "\n",
    "    conv3 = Conv2D(64,(3,3), padding=\"same\", activation=\"relu\", kernel_initializer=\"he_normal\")(pool2)\n",
    "    conv3 = Dropout(0.1)(conv3)\n",
    "    conv3 = Conv2D(64,(3,3), padding=\"same\", activation=\"relu\", kernel_initializer=\"he_normal\")(conv3)\n",
    "    pool3 = MaxPooling2D((2,2))(conv3)\n",
    "\n",
    "    conv4 = Conv2D(128,(3,3), padding=\"same\", activation=\"relu\", kernel_initializer=\"he_normal\")(pool3)\n",
    "    conv4 = Dropout(0.1)(conv4)\n",
    "    conv4 = Conv2D(128,(3,3), padding=\"same\", activation=\"relu\", kernel_initializer=\"he_normal\")(conv4)\n",
    "    pool4 = MaxPooling2D((2,2))(conv4)\n",
    "\n",
    "    conv5 = Conv2D(256,(3,3), padding=\"same\", activation=\"relu\", kernel_initializer=\"he_normal\")(pool4)\n",
    "    conv5 = Dropout(0.1)(conv5)\n",
    "    conv5 = Conv2D(256,(3,3), padding=\"same\", activation=\"relu\", kernel_initializer=\"he_normal\")(conv5)\n",
    "    pool5 = MaxPooling2D((2,2))(conv5)\n",
    "\n",
    "    upconv6 = Conv2DTranspose(128,(2,2),strides = (2,2),padding=\"same\")(conv5)\n",
    "    upconv6 = concatenate([upconv6, conv4])\n",
    "    conv6 = Conv2D(128,(3,3), padding=\"same\", activation=\"relu\", kernel_initializer=\"he_normal\")(upconv6)\n",
    "    conv6 = Dropout(0.1)(conv6)\n",
    "    conv6 = Conv2D(128,(3,3), padding=\"same\", activation=\"relu\", kernel_initializer=\"he_normal\")(conv6)\n",
    "\n",
    "    upconv7 = Conv2DTranspose(64,(2,2),strides = (2,2),padding=\"same\")(conv6)\n",
    "    upconv7 = concatenate([upconv7, conv3])\n",
    "    conv7 = Conv2D(64,(3,3), padding=\"same\", activation=\"relu\", kernel_initializer=\"he_normal\")(upconv7)\n",
    "    conv7 = Dropout(0.1)(conv7)\n",
    "    conv7 = Conv2D(64,(3,3), padding=\"same\", activation=\"relu\", kernel_initializer=\"he_normal\")(conv7)\n",
    "\n",
    "    upconv8 = Conv2DTranspose(32,(2,2),strides = (2,2),padding=\"same\")(conv7)\n",
    "    upconv8 = concatenate([upconv8, conv2])\n",
    "    conv8 = Conv2D(32,(3,3), padding=\"same\", activation=\"relu\", kernel_initializer=\"he_normal\")(upconv8)\n",
    "    conv8 = Dropout(0.1)(conv8)\n",
    "    conv8 = Conv2D(32,(3,3), padding=\"same\", activation=\"relu\", kernel_initializer=\"he_normal\")(conv8)\n",
    "\n",
    "    upconv9 = Conv2DTranspose(16,(2,2),strides = (2,2),padding=\"same\")(conv8)\n",
    "    upconv9 = concatenate([upconv9, conv1],axis=3)\n",
    "    conv9 = Conv2D(16,(3,3), padding=\"same\", activation=\"relu\", kernel_initializer=\"he_normal\")(upconv9)\n",
    "    conv9 = Dropout(0.1)(conv9)\n",
    "    conv9 = Conv2D(16,(3,3), padding=\"same\", activation=\"relu\", kernel_initializer=\"he_normal\")(conv9)\n",
    "\n",
    "    outputs = Conv2D(1,(1,1),activation=\"sigmoid\")(conv9)\n",
    "\n",
    "    cnn_model = Model(inputs = [inputs], outputs=[outputs])\n",
    "    return cnn_model"
   ]
  },
  {
   "cell_type": "code",
   "execution_count": 12,
   "id": "2f28da59",
   "metadata": {},
   "outputs": [],
   "source": [
    "model = unet_model()"
   ]
  },
  {
   "cell_type": "markdown",
   "id": "96948e52",
   "metadata": {},
   "source": [
    "## Dice similarity coefficient"
   ]
  },
  {
   "cell_type": "code",
   "execution_count": 13,
   "id": "18d5dd8f",
   "metadata": {},
   "outputs": [],
   "source": [
    "import tensorflow as tf\n",
    "def dice_coef(y_true, y_pred, smooth = 1e-15):\n",
    "    y_true = tf.convert_to_tensor(y_true, dtype='float32')\n",
    "    y_pred = tf.convert_to_tensor(y_pred, dtype='float32')\n",
    "    y_true = tf.keras.layers.Flatten()(y_true)\n",
    "    y_pred = tf.keras.layers.Flatten()(y_pred)\n",
    "    intersection = tf.reduce_sum(y_true * y_pred)\n",
    "    return (2. * intersection + smooth) / (tf.reduce_sum(y_true) + tf.reduce_sum(y_pred) + smooth)"
   ]
  },
  {
   "cell_type": "code",
   "execution_count": 14,
   "id": "d318d93f",
   "metadata": {},
   "outputs": [],
   "source": [
    "def dice_loss(y_true, y_pred):\n",
    "    return 1.0 - dice_coef(y_true, y_pred)"
   ]
  },
  {
   "cell_type": "markdown",
   "id": "beba74a7",
   "metadata": {},
   "source": [
    "## Compile the model and observe the summary"
   ]
  },
  {
   "cell_type": "code",
   "execution_count": 15,
   "id": "654fc766",
   "metadata": {},
   "outputs": [
    {
     "name": "stdout",
     "output_type": "stream",
     "text": [
      "Model: \"model\"\n",
      "__________________________________________________________________________________________________\n",
      " Layer (type)                   Output Shape         Param #     Connected to                     \n",
      "==================================================================================================\n",
      " input_1 (InputLayer)           [(None, 256, 256, 3  0           []                               \n",
      "                                )]                                                                \n",
      "                                                                                                  \n",
      " conv2d (Conv2D)                (None, 256, 256, 16  448         ['input_1[0][0]']                \n",
      "                                )                                                                 \n",
      "                                                                                                  \n",
      " dropout (Dropout)              (None, 256, 256, 16  0           ['conv2d[0][0]']                 \n",
      "                                )                                                                 \n",
      "                                                                                                  \n",
      " conv2d_1 (Conv2D)              (None, 256, 256, 16  2320        ['dropout[0][0]']                \n",
      "                                )                                                                 \n",
      "                                                                                                  \n",
      " max_pooling2d (MaxPooling2D)   (None, 128, 128, 16  0           ['conv2d_1[0][0]']               \n",
      "                                )                                                                 \n",
      "                                                                                                  \n",
      " conv2d_2 (Conv2D)              (None, 128, 128, 32  4640        ['max_pooling2d[0][0]']          \n",
      "                                )                                                                 \n",
      "                                                                                                  \n",
      " dropout_1 (Dropout)            (None, 128, 128, 32  0           ['conv2d_2[0][0]']               \n",
      "                                )                                                                 \n",
      "                                                                                                  \n",
      " conv2d_3 (Conv2D)              (None, 128, 128, 32  9248        ['dropout_1[0][0]']              \n",
      "                                )                                                                 \n",
      "                                                                                                  \n",
      " max_pooling2d_1 (MaxPooling2D)  (None, 64, 64, 32)  0           ['conv2d_3[0][0]']               \n",
      "                                                                                                  \n",
      " conv2d_4 (Conv2D)              (None, 64, 64, 64)   18496       ['max_pooling2d_1[0][0]']        \n",
      "                                                                                                  \n",
      " dropout_2 (Dropout)            (None, 64, 64, 64)   0           ['conv2d_4[0][0]']               \n",
      "                                                                                                  \n",
      " conv2d_5 (Conv2D)              (None, 64, 64, 64)   36928       ['dropout_2[0][0]']              \n",
      "                                                                                                  \n",
      " max_pooling2d_2 (MaxPooling2D)  (None, 32, 32, 64)  0           ['conv2d_5[0][0]']               \n",
      "                                                                                                  \n",
      " conv2d_6 (Conv2D)              (None, 32, 32, 128)  73856       ['max_pooling2d_2[0][0]']        \n",
      "                                                                                                  \n",
      " dropout_3 (Dropout)            (None, 32, 32, 128)  0           ['conv2d_6[0][0]']               \n",
      "                                                                                                  \n",
      " conv2d_7 (Conv2D)              (None, 32, 32, 128)  147584      ['dropout_3[0][0]']              \n",
      "                                                                                                  \n",
      " max_pooling2d_3 (MaxPooling2D)  (None, 16, 16, 128)  0          ['conv2d_7[0][0]']               \n",
      "                                                                                                  \n",
      " conv2d_8 (Conv2D)              (None, 16, 16, 256)  295168      ['max_pooling2d_3[0][0]']        \n",
      "                                                                                                  \n",
      " dropout_4 (Dropout)            (None, 16, 16, 256)  0           ['conv2d_8[0][0]']               \n",
      "                                                                                                  \n",
      " conv2d_9 (Conv2D)              (None, 16, 16, 256)  590080      ['dropout_4[0][0]']              \n",
      "                                                                                                  \n",
      " conv2d_transpose (Conv2DTransp  (None, 32, 32, 128)  131200     ['conv2d_9[0][0]']               \n",
      " ose)                                                                                             \n",
      "                                                                                                  \n",
      " concatenate (Concatenate)      (None, 32, 32, 256)  0           ['conv2d_transpose[0][0]',       \n",
      "                                                                  'conv2d_7[0][0]']               \n",
      "                                                                                                  \n",
      " conv2d_10 (Conv2D)             (None, 32, 32, 128)  295040      ['concatenate[0][0]']            \n",
      "                                                                                                  \n",
      " dropout_5 (Dropout)            (None, 32, 32, 128)  0           ['conv2d_10[0][0]']              \n",
      "                                                                                                  \n",
      " conv2d_11 (Conv2D)             (None, 32, 32, 128)  147584      ['dropout_5[0][0]']              \n",
      "                                                                                                  \n",
      " conv2d_transpose_1 (Conv2DTran  (None, 64, 64, 64)  32832       ['conv2d_11[0][0]']              \n",
      " spose)                                                                                           \n",
      "                                                                                                  \n",
      " concatenate_1 (Concatenate)    (None, 64, 64, 128)  0           ['conv2d_transpose_1[0][0]',     \n",
      "                                                                  'conv2d_5[0][0]']               \n",
      "                                                                                                  \n",
      " conv2d_12 (Conv2D)             (None, 64, 64, 64)   73792       ['concatenate_1[0][0]']          \n",
      "                                                                                                  \n",
      " dropout_6 (Dropout)            (None, 64, 64, 64)   0           ['conv2d_12[0][0]']              \n",
      "                                                                                                  \n",
      " conv2d_13 (Conv2D)             (None, 64, 64, 64)   36928       ['dropout_6[0][0]']              \n",
      "                                                                                                  \n",
      " conv2d_transpose_2 (Conv2DTran  (None, 128, 128, 32  8224       ['conv2d_13[0][0]']              \n",
      " spose)                         )                                                                 \n",
      "                                                                                                  \n",
      " concatenate_2 (Concatenate)    (None, 128, 128, 64  0           ['conv2d_transpose_2[0][0]',     \n",
      "                                )                                 'conv2d_3[0][0]']               \n",
      "                                                                                                  \n",
      " conv2d_14 (Conv2D)             (None, 128, 128, 32  18464       ['concatenate_2[0][0]']          \n",
      "                                )                                                                 \n",
      "                                                                                                  \n",
      " dropout_7 (Dropout)            (None, 128, 128, 32  0           ['conv2d_14[0][0]']              \n",
      "                                )                                                                 \n",
      "                                                                                                  \n",
      " conv2d_15 (Conv2D)             (None, 128, 128, 32  9248        ['dropout_7[0][0]']              \n",
      "                                )                                                                 \n",
      "                                                                                                  \n",
      " conv2d_transpose_3 (Conv2DTran  (None, 256, 256, 16  2064       ['conv2d_15[0][0]']              \n",
      " spose)                         )                                                                 \n",
      "                                                                                                  \n",
      " concatenate_3 (Concatenate)    (None, 256, 256, 32  0           ['conv2d_transpose_3[0][0]',     \n",
      "                                )                                 'conv2d_1[0][0]']               \n",
      "                                                                                                  \n",
      " conv2d_16 (Conv2D)             (None, 256, 256, 16  4624        ['concatenate_3[0][0]']          \n",
      "                                )                                                                 \n",
      "                                                                                                  \n",
      " dropout_8 (Dropout)            (None, 256, 256, 16  0           ['conv2d_16[0][0]']              \n",
      "                                )                                                                 \n",
      "                                                                                                  \n",
      " conv2d_17 (Conv2D)             (None, 256, 256, 16  2320        ['dropout_8[0][0]']              \n",
      "                                )                                                                 \n",
      "                                                                                                  \n",
      " conv2d_18 (Conv2D)             (None, 256, 256, 1)  17          ['conv2d_17[0][0]']              \n",
      "                                                                                                  \n",
      "==================================================================================================\n",
      "Total params: 1,941,105\n",
      "Trainable params: 1,941,105\n",
      "Non-trainable params: 0\n",
      "__________________________________________________________________________________________________\n"
     ]
    }
   ],
   "source": [
    "model.compile(optimizer='adam', loss='binary_crossentropy', metrics = [dice_coef])\n",
    "model.summary()"
   ]
  },
  {
   "cell_type": "markdown",
   "id": "1dda040d",
   "metadata": {},
   "source": [
    "## Fit the model on training images and evaluate the result on validation data. Accuracy can be increased by increasing epochs"
   ]
  },
  {
   "cell_type": "code",
   "execution_count": 26,
   "id": "1ad0c0b4",
   "metadata": {
    "scrolled": true
   },
   "outputs": [
    {
     "name": "stdout",
     "output_type": "stream",
     "text": [
      "Epoch 1/10\n",
      "250/250 [==============================] - 300s 1s/step - loss: 0.1383 - dice_coef: 0.7893 - val_loss: 0.1854 - val_dice_coef: 0.6293\n",
      "Epoch 2/10\n",
      "250/250 [==============================] - 287s 1s/step - loss: 0.1367 - dice_coef: 0.7900 - val_loss: 0.2006 - val_dice_coef: 0.6436\n",
      "Epoch 3/10\n",
      "250/250 [==============================] - 315s 1s/step - loss: 0.1347 - dice_coef: 0.7920 - val_loss: 0.1967 - val_dice_coef: 0.6968\n",
      "Epoch 4/10\n",
      "250/250 [==============================] - 300s 1s/step - loss: 0.1274 - dice_coef: 0.8030 - val_loss: 0.2090 - val_dice_coef: 0.6579\n",
      "Epoch 5/10\n",
      "250/250 [==============================] - 312s 1s/step - loss: 0.1275 - dice_coef: 0.8024 - val_loss: 0.2067 - val_dice_coef: 0.6419\n",
      "Epoch 6/10\n",
      "250/250 [==============================] - 298s 1s/step - loss: 0.1214 - dice_coef: 0.8099 - val_loss: 0.1978 - val_dice_coef: 0.6552\n",
      "Epoch 7/10\n",
      "250/250 [==============================] - 300s 1s/step - loss: 0.1189 - dice_coef: 0.8147 - val_loss: 0.2120 - val_dice_coef: 0.6910\n",
      "Epoch 8/10\n",
      "250/250 [==============================] - 360s 1s/step - loss: 0.1165 - dice_coef: 0.8185 - val_loss: 0.2473 - val_dice_coef: 0.6354\n",
      "Epoch 9/10\n",
      "250/250 [==============================] - 420s 2s/step - loss: 0.1134 - dice_coef: 0.8221 - val_loss: 0.1846 - val_dice_coef: 0.7056\n",
      "Epoch 10/10\n",
      "250/250 [==============================] - 422s 2s/step - loss: 0.1094 - dice_coef: 0.8292 - val_loss: 0.1986 - val_dice_coef: 0.6864\n"
     ]
    },
    {
     "data": {
      "text/plain": [
       "<keras.callbacks.History at 0x15486345f70>"
      ]
     },
     "execution_count": 26,
     "metadata": {},
     "output_type": "execute_result"
    }
   ],
   "source": [
    "model.fit(X_train, masks_train_images, batch_size=8, epochs=10,\n",
    "               validation_data=(x_validate, masks_valid_images))"
   ]
  },
  {
   "cell_type": "markdown",
   "id": "7fe389c1",
   "metadata": {},
   "source": [
    "## Save the model"
   ]
  },
  {
   "cell_type": "code",
   "execution_count": 17,
   "id": "1992938b",
   "metadata": {},
   "outputs": [],
   "source": [
    "model.save(\"improved_UNET.h5\")"
   ]
  },
  {
   "cell_type": "markdown",
   "id": "dae4390f",
   "metadata": {},
   "source": [
    "## Plot the result for loss and validation loss"
   ]
  },
  {
   "cell_type": "code",
   "execution_count": 18,
   "id": "911108b4",
   "metadata": {},
   "outputs": [
    {
     "data": {
      "image/png": "[encoded data removed]",
      "text/plain": [
       "<Figure size 432x288 with 1 Axes>"
      ]
     },
     "metadata": {
      "needs_background": "light"
     },
     "output_type": "display_data"
    }
   ],
   "source": [
    "\n",
    "# Plotting our loss charts\n",
    "import matplotlib.pyplot as plt\n",
    "\n",
    "# Use the History object we created to get our saved performance results\n",
    "history_dict = model.history.history\n",
    "\n",
    "# Extract the loss and validation losses\n",
    "loss_values = history_dict['loss']\n",
    "val_loss_values = history_dict['val_loss']\n",
    "\n",
    "# Get the number of epochs and create an array up to that number using range()\n",
    "epochs = range(1, len(loss_values) + 1)\n",
    "\n",
    "# Plot line charts for both Validation and Training Loss\n",
    "line1 = plt.plot(epochs, val_loss_values, label='Validation/Test Loss')\n",
    "line2 = plt.plot(epochs, loss_values, label='Training Loss')\n",
    "plt.setp(line1, linewidth=2.0, marker = '+', markersize=10.0)\n",
    "plt.setp(line2, linewidth=2.0, marker = '4', markersize=10.0)\n",
    "plt.xlabel('Epochs') \n",
    "plt.ylabel('Loss')\n",
    "plt.grid(True)\n",
    "plt.legend()\n",
    "plt.show()"
   ]
  },
  {
   "cell_type": "markdown",
   "id": "d8f181e1",
   "metadata": {},
   "source": [
    "## Plot the result for dice coefficient and validation dice coefficient"
   ]
  },
  {
   "cell_type": "code",
   "execution_count": 19,
   "id": "3c8ead4b",
   "metadata": {},
   "outputs": [
    {
     "data": {
      "image/png": "[encoded data removed]",
      "text/plain": [
       "<Figure size 432x288 with 1 Axes>"
      ]
     },
     "metadata": {
      "needs_background": "light"
     },
     "output_type": "display_data"
    }
   ],
   "source": [
    "# Plotting the graph for dice coefficient\n",
    "plt.plot(model.history.history['dice_coef'])\n",
    "plt.plot(model.history.history['val_dice_coef'])\n",
    "plt.title('model dice coefficient')\n",
    "plt.ylabel('dice coefficient')\n",
    "plt.xlabel('epoch')\n",
    "plt.show()"
   ]
  },
  {
   "cell_type": "markdown",
   "id": "94a453af",
   "metadata": {},
   "source": [
    "## Loading the test data and masks"
   ]
  },
  {
   "cell_type": "code",
   "execution_count": 20,
   "id": "56949063",
   "metadata": {},
   "outputs": [],
   "source": [
    "x_test = load_images(\"ISIC-2017_Test_v2_Data/\")\n",
    "masks_test_images = load_masks(\"ISIC-2017_Test_v2_Part1_GroundTruth\")"
   ]
  },
  {
   "cell_type": "code",
   "execution_count": 21,
   "id": "ec196ca2",
   "metadata": {},
   "outputs": [
    {
     "data": {
      "text/plain": [
       "(600, 256, 256, 3)"
      ]
     },
     "execution_count": 21,
     "metadata": {},
     "output_type": "execute_result"
    }
   ],
   "source": [
    "x_test.shape"
   ]
  },
  {
   "cell_type": "markdown",
   "id": "ee4d70eb",
   "metadata": {},
   "source": [
    "## Evaluate the result"
   ]
  },
  {
   "cell_type": "code",
   "execution_count": 22,
   "id": "0a07b5bb",
   "metadata": {},
   "outputs": [
    {
     "name": "stdout",
     "output_type": "stream",
     "text": [
      "19/19 [==============================] - 12s 616ms/step - loss: 0.2915 - dice_coef: 0.6298\n"
     ]
    },
    {
     "data": {
      "text/plain": [
       "[0.2915244698524475, 0.6297784447669983]"
      ]
     },
     "execution_count": 22,
     "metadata": {},
     "output_type": "execute_result"
    }
   ],
   "source": [
    "model.evaluate(x_test, masks_test_images)"
   ]
  },
  {
   "cell_type": "markdown",
   "id": "700ada87",
   "metadata": {},
   "source": [
    "## prediction images"
   ]
  },
  {
   "cell_type": "code",
   "execution_count": 23,
   "id": "17845302",
   "metadata": {},
   "outputs": [
    {
     "name": "stdout",
     "output_type": "stream",
     "text": [
      "75/75 [==============================] - 13s 171ms/step\n"
     ]
    }
   ],
   "source": [
    "pred_image = np.round(model.predict(x_test,batch_size=8))"
   ]
  },
  {
   "cell_type": "code",
   "execution_count": 25,
   "id": "b89652b8",
   "metadata": {},
   "outputs": [
    {
     "name": "stdout",
     "output_type": "stream",
     "text": [
      "tf.Tensor(0.70143276, shape=(), dtype=float32)\n"
     ]
    }
   ],
   "source": [
    "# dice coefficient\n",
    "dice = dice_coef(masks_test_images, pred_image, smooth = 1e-15)\n",
    "print(dice)"
   ]
  },
  {
   "cell_type": "code",
   "execution_count": null,
   "id": "d6bcac57",
   "metadata": {},
   "outputs": [],
   "source": [
    "#masks_test_images = masks_test_images.reshape(masks_test_images.shape[0], img_rows, img_cols, 1)"
   ]
  },
  {
   "cell_type": "markdown",
   "id": "2e5d9ca0",
   "metadata": {},
   "source": [
    "## perform visualization to see actual vs predicted images"
   ]
  },
  {
   "cell_type": "code",
   "execution_count": null,
   "id": "4fb0149b",
   "metadata": {},
   "outputs": [],
   "source": [
    "def imshow(title, image = None, size = 20):\n",
    "    if image.any():\n",
    "        w, h = image.shape[0], image.shape[1]\n",
    "        aspect_ratio = w/h\n",
    "        plt.figure(figsize=(size * aspect_ratio,size))\n",
    "        plt.imshow(cv2.cvtColor(image, cv2.COLOR_BGR2RGB))\n",
    "        plt.title(title)\n",
    "        plt.show()\n",
    "    else:\n",
    "        print(\"Image not found\")\n"
   ]
  },
  {
   "cell_type": "code",
   "execution_count": null,
   "id": "95847f3e",
   "metadata": {},
   "outputs": [],
   "source": [
    "for i in range(0,6):\n",
    "    random_num = np.random.randint(0, len(masks_test_images))\n",
    "    img = masks_test_images[random_num]\n",
    "    img1 = pred_image[random_num]\n",
    "    img_concate_Hori=np.concatenate((img,img1),axis=1)\n",
    "    imshow(\"Ground Truth & prediction\",img_concate_Hori , size = 2)\n"
   ]
  },
  {
   "cell_type": "code",
   "execution_count": null,
   "id": "2df8d178",
   "metadata": {},
   "outputs": [],
   "source": []
  }
 ],
 "metadata": {
  "kernelspec": {
   "display_name": "Python 3 (ipykernel)",
   "language": "python",
   "name": "python3"
  },
  "language_info": {
   "codemirror_mode": {
    "name": "ipython",
    "version": 3
   },
   "file_extension": ".py",
   "mimetype": "text/x-python",
   "name": "python",
   "nbconvert_exporter": "python",
   "pygments_lexer": "ipython3",
   "version": "3.9.12"
  }
 },
 "nbformat": 4,
 "nbformat_minor": 5
}
