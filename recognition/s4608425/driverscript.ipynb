{
 "cells": [
  {
   "cell_type": "code",
   "execution_count": 1,
   "metadata": {},
   "outputs": [],
   "source": [
    "#process data\n",
    "import glob\n",
    "from PIL import Image\n",
    "import numpy as np\n",
    "import tensorflow as tf\n",
    "import matplotlib.pyplot as plt\n",
    "height=256\n",
    "width = 256\n",
    "Xvalues= list()\n",
    "files = glob.glob(\"C:/Users/s4608425/Downloads/ISIC2018_Task1-2_Training_Input_x2/*.jpg\")\n",
    "for filename in range(len(files)) :\n",
    "    img = np.array((Image.open(files[filename])).resize((height,width),Image.ANTIALIAS))\n",
    "    Xvalues.append(img)\n",
    "Xvalues=np.array(Xvalues)\n",
    "\n",
    "Yvalues= list()\n",
    "files= glob.glob(\"C:/Users/s4608425/Downloads/ISIC2018_Task1_Training_GroundTruth_x2/*.png\")\n",
    "for filename in range(len(files)) :\n",
    "    img = np.array((Image.open(files[filename])).resize((height,width),Image.ANTIALIAS))\n",
    "    Yvalues.append(img)\n",
    "Yvalues= np.expand_dims(a = np.array(Yvalues), axis= -1)\n",
    "Yvalues = np.around(Yvalues/255.0)\n",
    " \n"
   ]
  },
  {
   "cell_type": "code",
   "execution_count": 4,
   "metadata": {},
   "outputs": [],
   "source": [
    "import numpy as np\n",
    "import tensorflow \n",
    "from tensorflow import keras\n",
    "from tensorflow.keras import layers, Sequential,Model\n",
    "from tensorflow.keras.layers import Conv2D,UpSampling2D,concatenate,MaxPooling2D,Conv2DTranspose,LeakyReLU\n",
    "from sklearn.model_selection import train_test_split\n",
    "from MODEL_imp import MODEL_implementation\n"
   ]
  },
  {
   "cell_type": "code",
   "execution_count": 5,
   "metadata": {},
   "outputs": [],
   "source": [
    "#training, testing , validation data\n",
    "Xtrain, Xtest, Ytrain, Ytest = train_test_split(Xvalues, Yvalues, train_size=0.7, random_state=7)\n",
    "Xtest, Xval, Ytest, Yval = train_test_split(Xtrain, Ytrain, test_size=0.3, random_state=7)\n",
    "model = MODEL_implementation()"
   ]
  },
  {
   "cell_type": "code",
   "execution_count": 7,
   "metadata": {},
   "outputs": [],
   "source": [
    "#dice evaluation\n",
    "def diceValue(y_true, y_pred):\n",
    "  intersect_res = tf.reduce_sum(y_true * y_pred, axis=[1,2])\n",
    "  union_res = tf.reduce_sum(y_true + y_pred, axis=[1,2]) \n",
    "  return (tf.reduce_mean((2. * intersect_res + 1)/(union_res + 1), axis=0) ) \n"
   ]
  },
  {
   "cell_type": "code",
   "execution_count": 11,
   "metadata": {},
   "outputs": [],
   "source": [
    "#dice loss function\n",
    "def dice_loss(y_true, y_pred):\n",
    "    return (1-diceValue(y_true, y_pred))\n"
   ]
  },
  {
   "cell_type": "code",
   "execution_count": 14,
   "metadata": {},
   "outputs": [],
   "source": [
    "#compile model\n",
    "model.compile(metrics=['accuracy'], loss=\"binary_crossentropy\",optimizer='adam')"
   ]
  },
  {
   "cell_type": "code",
   "execution_count": 20,
   "metadata": {},
   "outputs": [
    {
     "name": "stdout",
     "output_type": "stream",
     "text": [
      "Train on 1815 samples, validate on 545 samples\n",
      "Epoch 1/30\n",
      "1815/1815 [==============================] - 88s 48ms/sample - loss: 1.1777 - accuracy: 0.8610 - val_loss: 1.3927 - val_accuracy: 0.8863\n",
      "Epoch 2/30\n",
      "1815/1815 [==============================] - 82s 45ms/sample - loss: 1.0401 - accuracy: 0.8692 - val_loss: 1.3255 - val_accuracy: 0.8664\n",
      "Epoch 3/30\n",
      "1815/1815 [==============================] - 82s 45ms/sample - loss: 0.9874 - accuracy: 0.8660 - val_loss: 1.5571 - val_accuracy: 0.6609\n",
      "Epoch 4/30\n",
      "1815/1815 [==============================] - 82s 45ms/sample - loss: 1.0005 - accuracy: 0.8626 - val_loss: 1.0950 - val_accuracy: 0.8957\n",
      "Epoch 5/30\n",
      "1815/1815 [==============================] - 82s 45ms/sample - loss: 0.8131 - accuracy: 0.8805 - val_loss: 1.0699 - val_accuracy: 0.8963\n",
      "Epoch 6/30\n",
      "1815/1815 [==============================] - 82s 45ms/sample - loss: 0.8829 - accuracy: 0.8674 - val_loss: 1.1170 - val_accuracy: 0.8794\n",
      "Epoch 7/30\n",
      "1815/1815 [==============================] - 82s 45ms/sample - loss: 0.7822 - accuracy: 0.8729 - val_loss: 0.9900 - val_accuracy: 0.8162\n",
      "Epoch 8/30\n",
      "1815/1815 [==============================] - 82s 45ms/sample - loss: 0.7549 - accuracy: 0.8681 - val_loss: 0.8211 - val_accuracy: 0.8909\n",
      "Epoch 9/30\n",
      "1815/1815 [==============================] - 82s 45ms/sample - loss: 0.7110 - accuracy: 0.8731 - val_loss: 0.7957 - val_accuracy: 0.8652\n",
      "Epoch 10/30\n",
      "1815/1815 [==============================] - 83s 45ms/sample - loss: 0.6329 - accuracy: 0.8803 - val_loss: 0.8597 - val_accuracy: 0.8774\n",
      "Epoch 11/30\n",
      "1815/1815 [==============================] - 82s 45ms/sample - loss: 0.6743 - accuracy: 0.8658 - val_loss: 1.6103 - val_accuracy: 0.8346\n",
      "Epoch 12/30\n",
      "1815/1815 [==============================] - 82s 45ms/sample - loss: 0.7176 - accuracy: 0.8557 - val_loss: 0.6987 - val_accuracy: 0.8896\n",
      "Epoch 13/30\n",
      "1815/1815 [==============================] - 82s 45ms/sample - loss: 0.6266 - accuracy: 0.8629 - val_loss: 0.6099 - val_accuracy: 0.8605\n",
      "Epoch 14/30\n",
      "1815/1815 [==============================] - 82s 45ms/sample - loss: 0.6195 - accuracy: 0.8650 - val_loss: 0.6008 - val_accuracy: 0.8371\n",
      "Epoch 15/30\n",
      "1815/1815 [==============================] - 82s 45ms/sample - loss: 0.5308 - accuracy: 0.8760 - val_loss: 0.4871 - val_accuracy: 0.8930\n",
      "Epoch 16/30\n",
      "1815/1815 [==============================] - 82s 45ms/sample - loss: 0.4813 - accuracy: 0.8828 - val_loss: 0.4614 - val_accuracy: 0.8886\n",
      "Epoch 17/30\n",
      "1815/1815 [==============================] - 82s 45ms/sample - loss: 0.5568 - accuracy: 0.8673 - val_loss: 0.9454 - val_accuracy: 0.8514\n",
      "Epoch 18/30\n",
      "1815/1815 [==============================] - 82s 45ms/sample - loss: 0.5743 - accuracy: 0.8644 - val_loss: 0.4639 - val_accuracy: 0.8784\n",
      "Epoch 19/30\n",
      "1815/1815 [==============================] - 82s 45ms/sample - loss: 0.5019 - accuracy: 0.8703 - val_loss: 0.4641 - val_accuracy: 0.8947\n",
      "Epoch 20/30\n",
      "1815/1815 [==============================] - 82s 45ms/sample - loss: 0.4782 - accuracy: 0.8758 - val_loss: 0.6480 - val_accuracy: 0.7365\n",
      "Epoch 21/30\n",
      "1815/1815 [==============================] - 82s 45ms/sample - loss: 0.5629 - accuracy: 0.8604 - val_loss: 0.3801 - val_accuracy: 0.9006\n",
      "Epoch 22/30\n",
      "1815/1815 [==============================] - 82s 45ms/sample - loss: 0.4440 - accuracy: 0.8767 - val_loss: 0.3609 - val_accuracy: 0.9019\n",
      "Epoch 23/30\n",
      "1815/1815 [==============================] - 82s 45ms/sample - loss: 0.4393 - accuracy: 0.8756 - val_loss: 0.5020 - val_accuracy: 0.8092\n",
      "Epoch 24/30\n",
      "1815/1815 [==============================] - 82s 45ms/sample - loss: 0.4193 - accuracy: 0.8770 - val_loss: 0.5548 - val_accuracy: 0.7881\n",
      "Epoch 25/30\n",
      "1815/1815 [==============================] - 82s 45ms/sample - loss: 0.5503 - accuracy: 0.8542 - val_loss: 0.3466 - val_accuracy: 0.9001\n",
      "Epoch 26/30\n",
      "1815/1815 [==============================] - 82s 45ms/sample - loss: 0.4421 - accuracy: 0.8704 - val_loss: 0.4274 - val_accuracy: 0.8512\n",
      "Epoch 27/30\n",
      "1815/1815 [==============================] - 82s 45ms/sample - loss: 0.4011 - accuracy: 0.8803 - val_loss: 0.4032 - val_accuracy: 0.8868\n",
      "Epoch 28/30\n",
      "1815/1815 [==============================] - 83s 46ms/sample - loss: 0.4609 - accuracy: 0.8650 - val_loss: 0.3851 - val_accuracy: 0.8539\n",
      "Epoch 29/30\n",
      "1815/1815 [==============================] - 83s 46ms/sample - loss: 0.4069 - accuracy: 0.8740 - val_loss: 0.3894 - val_accuracy: 0.8774\n",
      "Epoch 30/30\n",
      "1815/1815 [==============================] - 82s 45ms/sample - loss: 0.4159 - accuracy: 0.8716 - val_loss: 0.3775 - val_accuracy: 0.8915\n"
     ]
    }
   ],
   "source": [
    "#fit model\n",
    "modelOutput = model.fit(Xtrain, Ytrain, batch_size=10, epochs=30, validation_data = (Xval, Yval))"
   ]
  },
  {
   "cell_type": "code",
   "execution_count": 22,
   "metadata": {},
   "outputs": [
    {
     "name": "stdout",
     "output_type": "stream",
     "text": [
      "tf.Tensor([0.61298029], shape=(1,), dtype=float64)\n"
     ]
    }
   ],
   "source": [
    "#dice resut\n",
    "result = model.predict(Xtest)\n",
    "dice = diceValue(Ytest, result)\n",
    "print(dice)"
   ]
  },
  {
   "cell_type": "code",
   "execution_count": 39,
   "metadata": {},
   "outputs": [
    {
     "data": {
      "image/png": "[encoded data removed]",
      "text/plain": [
       "<Figure size 432x288 with 1 Axes>"
      ]
     },
     "metadata": {
      "needs_background": "light"
     },
     "output_type": "display_data"
    }
   ],
   "source": [
    "# Getting loss histories\n",
    "LossTrain = modelOutput.history['loss']\n",
    "LossTest = modelOutput.history['val_loss']\n",
    "# counting epochs\n",
    "epochs = range(1, len(LossTrain) + 1)\n",
    "# plotting result\n",
    "plt.plot(epochs, LossTrain, 'r--')\n",
    "plt.plot(epochs, LossTest, 'b-')\n",
    "plt.legend(['Training Loss', 'Test Loss'])\n",
    "plt.xlabel('Total Epochs')\n",
    "plt.ylabel('Loss')\n",
    "plt.show();"
   ]
  },
  {
   "cell_type": "code",
   "execution_count": null,
   "metadata": {},
   "outputs": [],
   "source": [
    "plt.imshow(result[3], cmap=\"gray\")"
   ]
  }
 ],
 "metadata": {
  "kernelspec": {
   "display_name": "Python 3",
   "language": "python",
   "name": "python3"
  },
  "language_info": {
   "codemirror_mode": {
    "name": "ipython",
    "version": 3
   },
   "file_extension": ".py",
   "mimetype": "text/x-python",
   "name": "python",
   "nbconvert_exporter": "python",
   "pygments_lexer": "ipython3",
   "version": "3.7.7"
  }
 },
 "nbformat": 4,
 "nbformat_minor": 4
}
