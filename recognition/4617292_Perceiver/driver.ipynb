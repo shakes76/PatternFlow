{
  "nbformat": 4,
  "nbformat_minor": 0,
  "metadata": {
    "colab": {
      "name": "PatternFlow.ipynb",
      "provenance": [],
      "collapsed_sections": []
    },
    "kernelspec": {
      "name": "python3",
      "display_name": "Python 3"
    },
    "language_info": {
      "name": "python"
    },
    "accelerator": "GPU"
  },
  "cells": [
    {
      "cell_type": "code",
      "metadata": {
        "id": "vp51xvWbdqnO"
      },
      "source": [
        "import numpy as np\n",
        "import torch\n",
        "\n",
        "# Note that I couldn't acquire the ADNI dataset in time. Hence MNIST was used as an example instead.\n",
        "def load_mnist_data(test=False):\n",
        "    if(test):\n",
        "        f_images = open('data/mnist/t10k-images-idx3-ubyte', 'rb')\n",
        "        f_labels = open('data/mnist/t10k-labels-idx1-ubyte', 'rb')\n",
        "    else:\n",
        "        f_images = open('data/mnist/train-images-idx3-ubyte', 'rb')\n",
        "        f_labels = open('data/mnist/train-labels-idx1-ubyte', 'rb')\n",
        "\n",
        "    f_images.seek(16)\n",
        "    f_labels.seek(8)\n",
        "\n",
        "    buf_images = f_images.read()\n",
        "    buf_labels = f_labels.read()\n",
        "\n",
        "    images = np.copy(\n",
        "        np.frombuffer(buf_images, dtype=np.uint8).astype(np.float32)\n",
        "    )\n",
        "    images = images.reshape(-1, 1, 28, 28) / 256\n",
        "\n",
        "    labels = np.copy(\n",
        "        np.frombuffer(buf_labels, dtype=np.uint8)\n",
        "    )\n",
        "    labels_one_hot = np.zeros((labels.shape[0], 10))\n",
        "    labels_one_hot[np.arange(labels.size), labels] = 1\n",
        "\n",
        "    return images, labels\n",
        "\n",
        "\n",
        "def sample(X, Y, batch_size=32):\n",
        "    length = len(Y)\n",
        "    idx = np.random.choice(np.arange(0, length),\n",
        "                           size=(batch_size), replace=False)\n",
        "\n",
        "    return X[idx], Y[idx]\n"
      ],
      "execution_count": 1,
      "outputs": []
    },
    {
      "cell_type": "code",
      "metadata": {
        "id": "SNAgOF4Ldu46"
      },
      "source": [
        "from tqdm import trange\n",
        "# from perceiver import PerceiverLogits\n",
        "from model import Perceiver\n",
        "import torch\n",
        "from torch import nn, optim\n",
        "import random\n",
        "import numpy as np\n",
        "import os\n",
        "\n",
        "\n",
        "def set_random_seed(value):\n",
        "    torch.manual_seed(value)\n",
        "    np.random.seed(value)\n",
        "    random.seed(value)\n",
        "\n",
        "# Reproducibility\n",
        "set_random_seed(10)\n",
        "\n",
        "\n",
        "def evaluate(model, device='cuda'):\n",
        "    model.eval()\n",
        "    model = model.to(device)\n",
        "    with torch.no_grad():\n",
        "        X_test, Y_test = load_mnist_data(test=True)\n",
        "        X_length = len(X_test)\n",
        "        batch_size = 32\n",
        "\n",
        "        correct = 0\n",
        "        total = 0\n",
        "\n",
        "        for i in range(X_length // batch_size):\n",
        "            x = torch.from_numpy(\n",
        "                X_test[i * batch_size:(i+1) * batch_size]\n",
        "            ).float().to(device)\n",
        "            y = torch.from_numpy(\n",
        "                Y_test[i * batch_size:(i+1) * batch_size]\n",
        "            ).long().to(device)\n",
        "\n",
        "            y_ = model(x).argmax(dim=-1)\n",
        "\n",
        "            total += len(y_)\n",
        "            correct += (y_ == y).sum().item()\n",
        "\n",
        "        return correct / total\n",
        "\n",
        "\n",
        "def train(model, epochs=9, batch_size=32, device='cuda'):\n",
        "    results = []\n",
        "    losses = []\n",
        "    model.train()\n",
        "    model = model.to(device)\n",
        "    gamma = 0.3\n",
        "    optimizer = optim.Adam(model.parameters(), lr=0.03)\n",
        "    scheduler = torch.optim.lr_scheduler.StepLR(\n",
        "        optimizer, step_size=3, gamma=gamma, last_epoch=-1, verbose=False)\n",
        "\n",
        "    X_train, Y_train = load_mnist_data(test=False)\n",
        "    X_length = len(X_train)\n",
        "\n",
        "    for epoch in range(epochs):\n",
        "        print('EPOCH', epoch, '[LEARNING RATE: ' + str(optimizer.param_groups[0]\n",
        "                                                        ['lr']) + '; ACCURACY: ' + str(evaluate(model, device=device)) + ']')\n",
        "        results.append(evaluate(model, device=device))\n",
        "\n",
        "        t = trange(X_length // batch_size)\n",
        "        for _ in t:\n",
        "            optimizer.zero_grad()\n",
        "\n",
        "            x, y = sample(X_train, Y_train, batch_size)\n",
        "            x = torch.from_numpy(x).float().to(device)\n",
        "            y = torch.from_numpy(y).long().to(device)\n",
        "\n",
        "            y_ = model(x)\n",
        "            loss = nn.NLLLoss()(y_, y)\n",
        "\n",
        "            loss.backward()\n",
        "            optimizer.step()\n",
        "\n",
        "            t.set_description(str(loss.item())[0:5])\n",
        "        scheduler.step()\n",
        "\n",
        "        if(not os.path.exists('checkpoints')):\n",
        "            os.mkdir('checkpoints')\n",
        "        torch.save(model, 'checkpoints/epoch' + str(epoch))\n",
        "    \n",
        "    return results"
      ],
      "execution_count": 14,
      "outputs": []
    },
    {
      "cell_type": "code",
      "metadata": {
        "id": "HaCcEDAu3giw"
      },
      "source": [
        "model = Perceiver(\n",
        "    depth=6,\n",
        "    num_channels=1, # <- How many channels in the input? E.g. 3 for RGB.\n",
        "    input_shape=(28, 28), # <- How big is the input in the different dimensions? E.g. (28, 28) for MNIST\n",
        "    fourier_bands=4, # <- How many bands should the positional encoding have?\n",
        "    num_latents=8, # <- How many latent vectors?\n",
        "    latent_dim=16, # <- Model dimensionality. Every pixel/token/latent vector will have this size.\n",
        "    latent_heads=8, # <- How many heads in self-attention? Cross-attention always has 1 head.\n",
        "    attn_dropout=0.1, # <- Dropout\n",
        "    num_features=10,\n",
        "    self_per_cross_attn=6,\n",
        "    device='cuda'\n",
        ")\n",
        "\n",
        "# Training\n",
        "train(model, epochs=5) # saves checkpoints which can be used later donw the line for inference."
      ],
      "execution_count": 17,
      "outputs": []
    },
    {
      "cell_type": "code",
      "metadata": {
        "colab": {
          "base_uri": "https://localhost:8080/",
          "height": 405
        },
        "id": "nnAdLAuS4PYN",
        "outputId": "5c85b799-d12c-42b8-ae06-d4c4959a5272"
      },
      "source": [
        "import matplotlib.pyplot as plt\n",
        "\n",
        "# Read through pre-trained perceiver on selected epochs\n",
        "res = []\n",
        "for i in range(6):\n",
        "  model = torch.load('./checkpoints/epoch' + str(i))\n",
        "  eval = evaluate(model)\n",
        "  res.append(eval)\n",
        "  print(eval)\n",
        "\n",
        "# Plot accuracy based on epochs\n",
        "accuracies = res\n",
        "plt.plot(accuracies, '-x')\n",
        "plt.xlabel('epoch')\n",
        "plt.ylabel('accuracy')\n",
        "plt.title('Accuracy vs. No. of epochs');"
      ],
      "execution_count": 22,
      "outputs": [
        {
          "output_type": "stream",
          "name": "stdout",
          "text": [
            "0.4099\n",
            "0.9252\n",
            "0.9374\n",
            "0.9587\n",
            "0.9605\n",
            "0.9609\n"
          ]
        },
        {
          "output_type": "display_data",
          "data": {
            "image/png": "[encoded data removed]",
            "text/plain": [
              "<Figure size 432x288 with 1 Axes>"
            ]
          },
          "metadata": {
            "needs_background": "light"
          }
        }
      ]
    }
  ]
}