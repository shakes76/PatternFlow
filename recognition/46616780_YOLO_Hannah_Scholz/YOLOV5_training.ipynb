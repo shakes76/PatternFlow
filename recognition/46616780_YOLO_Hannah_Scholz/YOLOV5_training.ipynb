{
  "nbformat": 4,
  "nbformat_minor": 0,
  "metadata": {
    "colab": {
      "provenance": [],
      "collapsed_sections": [],
      "include_colab_link": true
    },
    "kernelspec": {
      "name": "python3",
      "display_name": "Python 3"
    },
    "language_info": {
      "name": "python"
    },
    "accelerator": "GPU",
    "gpuClass": "premium"
  },
  "cells": [
    {
      "cell_type": "markdown",
      "metadata": {
        "id": "view-in-github",
        "colab_type": "text"
      },
      "source": [
        "<a href=\"https://colab.research.google.com/github/hannahscholz/PatternFlowHS/blob/topic-recognition/recognition/46616780_YOLO_Hannah_Scholz/YOLOV5_training.ipynb\" target=\"_parent\"><img src=\"https://colab.research.google.com/assets/colab-badge.svg\" alt=\"Open In Colab\"/></a>"
      ]
    },
    {
      "cell_type": "markdown",
      "source": [
        "# Training YOLOv5 on the ISIC dataset\n",
        "---\n",
        "\n",
        "#### Hannah Scholz\n",
        "#### s4661678\n",
        "\n",
        "---\n",
        "\n",
        "Data is loaded in to Google Drive after executing the dataset.py file.\n"
      ],
      "metadata": {
        "id": "Xoe1W0HiQ1t4"
      }
    },
    {
      "cell_type": "code",
      "source": [
        "from google.colab import drive\n",
        "drive.mount('/content/drive')"
      ],
      "metadata": {
        "id": "5srGYmR54IE6",
        "colab": {
          "base_uri": "https://localhost:8080/"
        },
        "outputId": "d32148e1-5ec4-4bc0-f779-a08fa1a4adfc"
      },
      "execution_count": 1,
      "outputs": [
        {
          "output_type": "stream",
          "name": "stdout",
          "text": [
            "Mounted at /content/drive\n"
          ]
        }
      ]
    },
    {
      "cell_type": "code",
      "source": [
        "# Make sure located in files not in another folder\n",
        "%ls"
      ],
      "metadata": {
        "colab": {
          "base_uri": "https://localhost:8080/"
        },
        "id": "zw35toSX9nbC",
        "outputId": "e10f0647-a905-457c-d0cb-35934d6a2135"
      },
      "execution_count": 2,
      "outputs": [
        {
          "output_type": "stream",
          "name": "stdout",
          "text": [
            "\u001b[0m\u001b[01;34mdrive\u001b[0m/  \u001b[01;34msample_data\u001b[0m/\n"
          ]
        }
      ]
    },
    {
      "cell_type": "code",
      "execution_count": 3,
      "metadata": {
        "colab": {
          "base_uri": "https://localhost:8080/"
        },
        "id": "oAopQ0tumV-7",
        "outputId": "2664f619-c17b-4acc-a854-93634bcfcee4"
      },
      "outputs": [
        {
          "output_type": "stream",
          "name": "stderr",
          "text": [
            "YOLOv5 🚀 v6.2-203-g6371de8 Python-3.7.15 torch-1.12.1+cu113 CUDA:0 (A100-SXM4-40GB, 40536MiB)\n"
          ]
        },
        {
          "output_type": "stream",
          "name": "stdout",
          "text": [
            "Setup complete ✅ (12 CPUs, 83.5 GB RAM, 38.8/78.2 GB disk)\n"
          ]
        }
      ],
      "source": [
        "# Clone the YOLOV5 model:\n",
        "\n",
        "!git clone https://github.com/ultralytics/yolov5 \n",
        "%cd yolov5\n",
        "%pip install -qr requirements.txt  \n",
        "\n",
        "import torch\n",
        "from yolov5 import utils\n",
        "display = utils.notebook_init() "
      ]
    },
    {
      "cell_type": "code",
      "source": [
        "%cd ..\n",
        "%ls\n"
      ],
      "metadata": {
        "colab": {
          "base_uri": "https://localhost:8080/"
        },
        "id": "Umeaviy4-o2O",
        "outputId": "17d1af2c-68c2-4182-b880-732cb42e1c7c"
      },
      "execution_count": 4,
      "outputs": [
        {
          "output_type": "stream",
          "name": "stdout",
          "text": [
            "/content\n",
            "\u001b[0m\u001b[01;34mdrive\u001b[0m/  \u001b[01;34myolov5\u001b[0m/\n"
          ]
        }
      ]
    },
    {
      "cell_type": "code",
      "source": [
        "# Unzip the data\n",
        "!unzip drive/MyDrive/ColabNotebooks/Archive.zip -d yolov5/data/"
      ],
      "metadata": {
        "id": "5FsKHm2u7VWR"
      },
      "execution_count": null,
      "outputs": []
    },
    {
      "cell_type": "code",
      "source": [
        "# Create file for parameters for the model\n",
        "\n",
        "f = open(\"dataset.yaml\", \"a\")\n",
        "\n",
        "f.write(\"train: ../data/images/training/\\n\")\n",
        "f.write(\"test: ../data/images/testing/\\n\")\n",
        "f.write(\"val: ../data/images/validation/\\n\")\n",
        "f.write(\"nc: 2\\n\")\n",
        "f.write(\"names: ['melanoma', 'healthy']\\n\")\n",
        "f.close()"
      ],
      "metadata": {
        "id": "BY9imuWyJo3S"
      },
      "execution_count": 6,
      "outputs": []
    },
    {
      "cell_type": "code",
      "source": [
        "%ls"
      ],
      "metadata": {
        "colab": {
          "base_uri": "https://localhost:8080/"
        },
        "id": "EyZ5uQpWD1nP",
        "outputId": "be29f610-5236-4b84-db07-c3b357aea1a7"
      },
      "execution_count": 7,
      "outputs": [
        {
          "output_type": "stream",
          "name": "stdout",
          "text": [
            "dataset.yaml  \u001b[0m\u001b[01;34mdrive\u001b[0m/  \u001b[01;34myolov5\u001b[0m/\n"
          ]
        }
      ]
    },
    {
      "cell_type": "code",
      "source": [
        "%cd yolov5"
      ],
      "metadata": {
        "colab": {
          "base_uri": "https://localhost:8080/"
        },
        "id": "VMvNwbO0xcxp",
        "outputId": "17cb3f3b-71c1-4bbb-bcb5-c921f06b8c47"
      },
      "execution_count": 8,
      "outputs": [
        {
          "output_type": "stream",
          "name": "stdout",
          "text": [
            "/content/yolov5\n"
          ]
        }
      ]
    },
    {
      "cell_type": "markdown",
      "source": [
        "**Training of YOLOV5 - Small Model**"
      ],
      "metadata": {
        "id": "Pzds6-9cxLmb"
      }
    },
    {
      "cell_type": "code",
      "source": [
        "# 4 Epochs \n",
        "!python train.py --img 640 --batch 16 --epochs 10 --data ../dataset.yaml --weights yolov5s.pt"
      ],
      "metadata": {
        "id": "412Aa8kIs0mi"
      },
      "execution_count": null,
      "outputs": []
    },
    {
      "cell_type": "code",
      "source": [
        "# 50 Epochs\n",
        "!python train.py --img 640 --batch 16 --epochs 50 --data ../dataset.yaml --weights yolov5s.pt"
      ],
      "metadata": {
        "id": "7h9aN2lgF3-y"
      },
      "execution_count": null,
      "outputs": []
    },
    {
      "cell_type": "code",
      "source": [
        "# Epochs = 200(recommended)\n",
        "!python train.py --img 640 --batch 16 --epochs 200 --data ../dataset.yaml --weights yolov5s.pt"
      ],
      "metadata": {
        "id": "t92eyB-Wkeob"
      },
      "execution_count": null,
      "outputs": []
    },
    {
      "cell_type": "code",
      "source": [
        "!nvidia-smi"
      ],
      "metadata": {
        "id": "ryBZA8zlVfUU"
      },
      "execution_count": null,
      "outputs": []
    },
    {
      "cell_type": "code",
      "source": [
        "!python train.py --img 640 --batch 16 --epochs 300 --data ../dataset.yaml --weights yolov5s.pt"
      ],
      "metadata": {
        "id": "ZXjVARP8C-KA"
      },
      "execution_count": null,
      "outputs": []
    },
    {
      "cell_type": "markdown",
      "source": [
        "**Results using the Validation dataset for YOLOV5 - Small**"
      ],
      "metadata": {
        "id": "7HUhBwOCwvWE"
      }
    },
    {
      "cell_type": "code",
      "source": [
        "# Using the validation dataset\n",
        "!python detect.py --weights runs/train/exp/weights/best.pt --img 640 --conf 0.4 --source data/images/validation"
      ],
      "metadata": {
        "id": "aoZ5zQfaN-MP"
      },
      "execution_count": null,
      "outputs": []
    },
    {
      "cell_type": "code",
      "source": [
        "from IPython.display import display\n",
        "from PIL import Image\n",
        "\n",
        "image_path = \"runs/detect/exp/ISIC_0001769.jpg\"\n",
        "display(Image.open(image_path))\n"
      ],
      "metadata": {
        "id": "3IH0k_dNO8If"
      },
      "execution_count": null,
      "outputs": []
    },
    {
      "cell_type": "markdown",
      "source": [
        "**Training of YOLOV5 - Medium Model**"
      ],
      "metadata": {
        "id": "e9l-XToqx0H8"
      }
    },
    {
      "cell_type": "code",
      "source": [
        "#4 Epochs\n",
        "!python train.py --img 640 --batch 16 --epochs 4 --data ../dataset.yaml --weights yolov5m.pt"
      ],
      "metadata": {
        "id": "6GnVZUO2yG52"
      },
      "execution_count": null,
      "outputs": []
    },
    {
      "cell_type": "code",
      "source": [
        "#50 Epochs\n",
        "!python train.py --img 640 --batch 16 --epochs 50 --data ../dataset.yaml --weights yolov5m.pt"
      ],
      "metadata": {
        "id": "u0roBCcRyKTq"
      },
      "execution_count": null,
      "outputs": []
    },
    {
      "cell_type": "code",
      "source": [
        "#100 Epochs\n",
        "!python train.py --img 640 --batch 16 --epochs 100 --data ../dataset.yaml --weights yolov5m.pt"
      ],
      "metadata": {
        "id": "5Ygc0GntyL5A"
      },
      "execution_count": null,
      "outputs": []
    },
    {
      "cell_type": "code",
      "source": [
        "#300 Epochs\n",
        "!python train.py --img 640 --batch 16 --epochs 300 --data ../dataset.yaml --weights yolov5m.pt"
      ],
      "metadata": {
        "id": "igSR7s56yXLO"
      },
      "execution_count": null,
      "outputs": []
    },
    {
      "cell_type": "markdown",
      "source": [
        "**Results using the Validation dataset for YOLOV5 - Medium**"
      ],
      "metadata": {
        "id": "9OuOhhrWx6YK"
      }
    },
    {
      "cell_type": "code",
      "source": [
        "!python detect.py --weights runs/train/exp3/weights/best.pt --img 640 --conf 0.4 --source data/images/validation"
      ],
      "metadata": {
        "id": "sTcS3VqxyHYM"
      },
      "execution_count": null,
      "outputs": []
    },
    {
      "cell_type": "code",
      "source": [
        "from IPython.display import display\n",
        "from PIL import Image\n",
        "\n",
        "image_path = \"runs/detect/exp5/ISIC_0001769.jpg\"\n",
        "display(Image.open(image_path))"
      ],
      "metadata": {
        "id": "7Bpx_B-9yOSY"
      },
      "execution_count": null,
      "outputs": []
    },
    {
      "cell_type": "code",
      "source": [
        "# Validate YOLOv5s on validation\n",
        "!python val.py --weights runs/train/exp3/weights/best.pt --data ../dataset.yaml --img 640 --half"
      ],
      "metadata": {
        "id": "mGVIi6wV2ndQ"
      },
      "execution_count": null,
      "outputs": []
    },
    {
      "cell_type": "markdown",
      "source": [
        "**IOU Calculation**"
      ],
      "metadata": {
        "id": "zL7QAnal7Cvd"
      }
    },
    {
      "cell_type": "code",
      "source": [
        "# Detect \n",
        "# Determine IOU\n",
        "!python detect.py --source 'data/images/validation' --data ../dataset.yaml --weights 'runs/train/exp3/weights/best.pt' --conf 0.4 --iou 0.45 --augment"
      ],
      "metadata": {
        "id": "PWxHvPH0FuD0"
      },
      "execution_count": null,
      "outputs": []
    },
    {
      "cell_type": "code",
      "source": [
        "#IOU Function\n",
        "def new_bbox_iou(boxA, boxB):\n",
        "\t# determine the (x, y)-coordinates of the intersection rectangle\n",
        "\txA = max(boxA[0], boxB[0])\n",
        "\tyA = max(boxA[1], boxB[1])\n",
        "\txB = min(boxA[2], boxB[2])\n",
        "\tyB = min(boxA[3], boxB[3])\n",
        "\t\n",
        "  # compute the area of intersection rectangle\n",
        "\tinterArea = max(0, xB - xA + 1) * max(0, yB - yA + 1)\n",
        "\t\n",
        "  # compute the area of both the prediction and ground-truth\n",
        "\t# rectangles\n",
        "\tboxAArea = (boxA[2] - boxA[0] + 1) * (boxA[3] - boxA[1] + 1)\n",
        "\tboxBArea = (boxB[2] - boxB[0] + 1) * (boxB[3] - boxB[1] + 1)\n",
        "\t\n",
        "  # compute the intersection over union by taking the intersection\n",
        "\t# area and dividing it by the sum of prediction + ground-truth\n",
        "\t# areas - the interesection area\n",
        "\tiou = interArea / float(boxAArea + boxBArea - interArea)\n",
        "\t\n",
        "  # return the intersection over union value\n",
        "\treturn iou\n"
      ],
      "metadata": {
        "id": "P29WYTlpqrKh"
      },
      "execution_count": 177,
      "outputs": []
    },
    {
      "cell_type": "code",
      "source": [
        "#This function calculates the IOU values for the testing dataset after training\n",
        "import torch\n",
        "import os\n",
        "from os import listdir\n",
        "from PIL import Image as im\n",
        "import csv\n",
        "import numpy as np\n",
        "\n",
        "def IOU_calculator_testing(path_to_images, paths_to_labels):\n",
        "  values_array = []\n",
        "\n",
        "  # Model\n",
        "  model = torch.hub.load('ultralytics/yolov5', 'custom', 'runs/train/exp3/weights/best.pt')  # change weights for specific epoch and model number required\n",
        "\n",
        "  file_names = listdir(path_to_images)\n",
        "\n",
        "  for filename in file_names:\n",
        "      if filename.endswith(\".DS_Store\"):\n",
        "          continue\n",
        "      if filename.endswith(\".ipynb_checkpoints\"):\n",
        "          continue\n",
        "\n",
        "      with im.open(path_to_images + filename) as img:\n",
        "        results = model(img)\n",
        "\n",
        "        results.xywh[0]\n",
        "        prediction = results.pandas().xywh[0]\n",
        "\n",
        "        if prediction.empty: \n",
        "          continue\n",
        "\n",
        "        xcenter = prediction.loc[0][\"xcenter\"]/640\n",
        "        ycenter = prediction.loc[0][\"ycenter\"]/640\n",
        "        width = prediction.loc[0][\"width\"]/640\n",
        "        height = prediction.loc[0][\"height\"]/640\n",
        "\n",
        "        label_file_name = filename.replace('.jpg', '.txt')\n",
        "\n",
        "        values = open(paths_to_labels + label_file_name).read().split()\n",
        "        xcenter2 = float(values[1])\n",
        "        ycenter2 = float(values[2])\n",
        "        width2 = float(values[3])\n",
        "        height2 = float(values[4])\n",
        "\n",
        "        iou = new_bbox_iou([xcenter, ycenter, width, height], [xcenter2, ycenter2, width2, height2])\n",
        "        values_array.append(iou)\n",
        "      \n",
        "  average = sum(values_array) / len(values_array)\n",
        "  return average\n"
      ],
      "metadata": {
        "id": "7-yfzA9fLKUy"
      },
      "execution_count": 207,
      "outputs": []
    },
    {
      "cell_type": "code",
      "source": [
        "av1 = IOU_calculator_testing(\"data/images/testing/\", \"data/labels/testing/\")\n",
        "\n",
        "av2 = IOU_calculator_testing(\"data/images/training/\", \"data/labels/training/\")\n",
        "\n",
        "av3 = IOU_calculator_testing(\"data/images/validation/\", \"data/labels/validation/\")\n",
        "\n",
        "total_avg = (av1+av2+av3)/3\n",
        "print(total_avg)"
      ],
      "metadata": {
        "id": "IMj1xpH4iLWV"
      },
      "execution_count": null,
      "outputs": []
    }
  ]
}